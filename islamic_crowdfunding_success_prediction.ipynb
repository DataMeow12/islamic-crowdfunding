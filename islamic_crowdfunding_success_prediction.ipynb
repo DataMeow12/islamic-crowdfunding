{
  "cells": [
    {
      "cell_type": "markdown",
      "metadata": {
        "id": "4vIbg_2Le7-v"
      },
      "source": [
        "# Predicting Success of Islamic Crowdfunding Campaigns in Indonesia\n",
        "\n",
        "**Ratu Ghifa Nazila Ramdiania**"
      ]
    },
    {
      "cell_type": "markdown",
      "metadata": {
        "id": "tSDO740nci6s"
      },
      "source": [
        "## Introduction\n",
        "\n",
        "Islamic social finance, including donation-based crowdfunding, has become an essential tool to mobilize support for communities in need. However, an exploratory analysis of 2,459 campaigns reveals a significant bottleneck: **only 8.62% of campaigns successfully reached their funding target**.\n",
        "\n",
        "This low success rate highlights inefficiencies in how crowdfunding platforms and organizers allocate their limited resources — from homepage visibility to paid promotions on social media.\n",
        "\n",
        "In particular, while homepage curation is not paid by fundraisers, it requires platform resources to manage and maintain. Meanwhile, campaigns promoted through paid social ads (e.g., on Instagram or TikTok) often use the fundraisers’ own contributions to cover these costs. When these campaigns fail, the consequences are not only financial losses for the fundraiser but also missed opportunities for the platform to collect operational fees and generate social impact.\n",
        "\n",
        "This project leverages machine learning to uncover patterns behind successful campaigns and support more informed decisions in campaign promotion strategy.\n",
        "\n",
        "---\n",
        "\n",
        "## Objective\n",
        "\n",
        "This proof-of-concept explores how machine learning can help social crowdfunding platforms identify campaigns with a high likelihood of success, based on the final snapshot of completed projects. The aim is to demonstrate how data-driven promotion decisions could reduce false positives (promoting campaigns that fail), avoiding wasted ad spend, misuse of limited homepage space, and potential loss of trust.\n",
        "\n",
        "False negatives (overlooking potentially successful campaigns) matter, but they reflect missed opportunities rather than direct financial loss. For platform operations, the sharper impact comes from false positives — campaigns promoted but destined to fail — making them the priority to minimize.  \n",
        "\n",
        "Although this study is retrospective and not yet production-ready, it illustrates how machine learning can drive both cost efficiency and social impact.\n",
        "\n",
        "\n",
        "---\n",
        "\n",
        "## Data Collection Method\n",
        "The dataset was obtained by scraping three Indonesian social crowdfunding platforms using a scraper developed by Iqbal Kalevi. During the data collection process, I applied specific blacklisted keywords to ensure that the campaigns complied with Islamic values. The data was retrieved on January 15, 2025, and only campaigns with end dates on or before this date were included in the analysis. Later in this project, I analyzed the distribution of campaigns across platforms (source column) to confirm that the dataset reflects diverse crowdfunding contexts. \n",
        "\n"
      ]
    },
    {
      "cell_type": "markdown",
      "metadata": {
        "id": "cAD9hXOrctH0"
      },
      "source": [
        "## Exploratory Data Analysis\n",
        "\n",
        "This section provides initial insights into the dataset, including variable distributions, missing values, skewness analysis, and relationships between numerical variables.\n"
      ]
    },
    {
      "cell_type": "markdown",
      "metadata": {
        "id": "9MGhuVryabCZ"
      },
      "source": [
        "### Libraries Used\n",
        "\n",
        "- **pandas (pd)** → data manipulation & tabular operations.  \n",
        "- **numpy (np)** → numerical operations, arrays, and math functions.  \n",
        "- **matplotlib.pyplot (plt)** → base plotting library for visualizations.  \n",
        "- **seaborn (sns)** → statistical data visualization (built on matplotlib).  \n",
        "- **scipy.stats (skew)** → statistical tests & distribution analysis.  \n",
        "- **sklearn.preprocessing (StandardScaler, OneHotEncoder, etc.)** → scaling, encoding, and transforming features.  \n",
        "- **sklearn.model_selection (train_test_split, GridSearchCV, etc.)** → train-test splitting & model selection.  \n",
        "- **sklearn.pipeline (Pipeline)** → streamline preprocessing + modeling in one workflow.  \n",
        "- **sklearn.compose (ColumnTransformer)** → apply different transformations to different feature types.  \n",
        "- **sklearn.impute (SimpleImputer)** → handle missing values.  \n",
        "- **imblearn.over_sampling (SMOTE)** → oversample minority class to handle imbalance.  \n",
        "- **sklearn.linear_model (LogisticRegression)** → baseline linear classification.  \n",
        "- **sklearn.ensemble (RandomForestClassifier)** → tree-based ensemble model.  \n",
        "- **xgboost (XGBClassifier)** → gradient boosting, strong predictive power.  \n",
        "- **sklearn.metrics (classification_report, roc_auc_score, etc.)** → model evaluation metrics.  \n",
        "- **shap** → model explainability, feature importance via SHAP values.  \n",
        "- **dataclasses (dataclass)** → structured, lightweight data containers in Python.  \n",
        "- **typing (List)** → type hinting for cleaner, safer code.  \n"
      ]
    },
    {
      "cell_type": "markdown",
      "metadata": {},
      "source": [
        "Imports follow PEP8 order:\n",
        "\n",
        "1. Standard library\n",
        "2. Third-party libraries\n",
        "3. Local application imports\n",
        "\n",
        "Each group separated by a blank line, no duplicate imports, and consistent aliases (e.g., np, pd, plt, sns).\n"
      ]
    },
    {
      "cell_type": "code",
      "execution_count": 44,
      "metadata": {
        "id": "Cg_IQYdXicxV"
      },
      "outputs": [],
      "source": [
        "# 1. Import libraries\n",
        "\n",
        "# Standard library\n",
        "from dataclasses import dataclass\n",
        "from typing import List\n",
        "\n",
        "# Third-party libraries\n",
        "import numpy as np\n",
        "import pandas as pd\n",
        "import seaborn as sns\n",
        "import matplotlib.pyplot as plt\n",
        "import shap\n",
        "import requests\n",
        "\n",
        "from scipy.stats import skew\n",
        "from imblearn.over_sampling import SMOTE\n",
        "from xgboost import XGBClassifier\n",
        "\n",
        "from sklearn.preprocessing import OneHotEncoder, StandardScaler, LabelEncoder, OrdinalEncoder\n",
        "from sklearn.impute import SimpleImputer\n",
        "from sklearn.model_selection import train_test_split, RandomizedSearchCV, GridSearchCV\n",
        "from sklearn.pipeline import Pipeline\n",
        "from sklearn.compose import ColumnTransformer\n",
        "from sklearn.linear_model import LogisticRegression\n",
        "from sklearn.ensemble import RandomForestClassifier\n",
        "from sklearn.metrics import classification_report, confusion_matrix, roc_auc_score, make_scorer, f1_score"
      ]
    },
    {
      "cell_type": "code",
      "execution_count": 45,
      "metadata": {},
      "outputs": [],
      "source": [
        "# 1. Import libraries\n",
        "\n",
        "# Standard library\n",
        "from dataclasses import dataclass\n",
        "from typing import List\n",
        "\n",
        "# Third-party libraries\n",
        "import numpy as np\n",
        "import pandas as pd\n",
        "import seaborn as sns\n",
        "import matplotlib.pyplot as plt\n",
        "import shap\n",
        "import requests\n",
        "\n",
        "from scipy.stats import skew\n",
        "from imblearn.over_sampling import SMOTE\n",
        "from xgboost import XGBClassifier\n",
        "\n",
        "from sklearn.preprocessing import OneHotEncoder, StandardScaler, LabelEncoder, OrdinalEncoder\n",
        "from sklearn.impute import SimpleImputer\n",
        "from sklearn.model_selection import train_test_split, RandomizedSearchCV, GridSearchCV\n",
        "from sklearn.pipeline import Pipeline\n",
        "from sklearn.compose import ColumnTransformer\n",
        "from sklearn.linear_model import LogisticRegression\n",
        "from sklearn.ensemble import RandomForestClassifier\n",
        "from sklearn.metrics import classification_report, confusion_matrix, roc_auc_score, make_scorer, f1_score"
      ]
    },
    {
      "cell_type": "code",
      "execution_count": 46,
      "metadata": {},
      "outputs": [
        {
          "name": "stdout",
          "output_type": "stream",
          "text": [
            "Package                   Version\n",
            "------------------------- --------------\n",
            "anyio                     4.10.0\n",
            "appnope                   0.1.4\n",
            "argon2-cffi               25.1.0\n",
            "argon2-cffi-bindings      25.1.0\n",
            "arrow                     1.3.0\n",
            "asttokens                 3.0.0\n",
            "async-lru                 2.0.5\n",
            "attrs                     25.3.0\n",
            "babel                     2.17.0\n",
            "beautifulsoup4            4.13.5\n",
            "bleach                    6.2.0\n",
            "certifi                   2025.8.3\n",
            "cffi                      1.17.1\n",
            "charset-normalizer        3.4.3\n",
            "cloudpickle               3.1.1\n",
            "comm                      0.2.3\n",
            "contourpy                 1.3.3\n",
            "cycler                    0.12.1\n",
            "debugpy                   1.8.16\n",
            "decorator                 5.2.1\n",
            "defusedxml                0.7.1\n",
            "et_xmlfile                2.0.0\n",
            "executing                 2.2.1\n",
            "fastjsonschema            2.21.2\n",
            "fonttools                 4.59.2\n",
            "fqdn                      1.5.1\n",
            "h11                       0.16.0\n",
            "httpcore                  1.0.9\n",
            "httpx                     0.28.1\n",
            "idna                      3.10\n",
            "imbalanced-learn          0.14.0\n",
            "imblearn                  0.0\n",
            "ipykernel                 6.30.1\n",
            "ipython                   9.5.0\n",
            "ipython_pygments_lexers   1.1.1\n",
            "ipywidgets                8.1.7\n",
            "isoduration               20.11.0\n",
            "jedi                      0.19.2\n",
            "Jinja2                    3.1.6\n",
            "joblib                    1.5.2\n",
            "json5                     0.12.1\n",
            "jsonpointer               3.0.0\n",
            "jsonschema                4.25.1\n",
            "jsonschema-specifications 2025.4.1\n",
            "jupyter                   1.1.1\n",
            "jupyter_client            8.6.3\n",
            "jupyter-console           6.6.3\n",
            "jupyter_core              5.8.1\n",
            "jupyter-events            0.12.0\n",
            "jupyter-lsp               2.3.0\n",
            "jupyter_server            2.17.0\n",
            "jupyter_server_terminals  0.5.3\n",
            "jupyterlab                4.4.6\n",
            "jupyterlab_pygments       0.3.0\n",
            "jupyterlab_server         2.27.3\n",
            "jupyterlab_widgets        3.0.15\n",
            "kiwisolver                1.4.9\n",
            "lark                      1.2.2\n",
            "llvmlite                  0.44.0\n",
            "MarkupSafe                3.0.2\n",
            "matplotlib                3.10.6\n",
            "matplotlib-inline         0.1.7\n",
            "mistune                   3.1.4\n",
            "nbclient                  0.10.2\n",
            "nbconvert                 7.16.6\n",
            "nbformat                  5.10.4\n",
            "nest-asyncio              1.6.0\n",
            "notebook                  7.4.5\n",
            "notebook_shim             0.2.4\n",
            "numba                     0.61.2\n",
            "numpy                     2.2.6\n",
            "openpyxl                  3.1.5\n",
            "overrides                 7.7.0\n",
            "packaging                 25.0\n",
            "pandas                    2.3.2\n",
            "pandocfilters             1.5.1\n",
            "parso                     0.8.5\n",
            "pexpect                   4.9.0\n",
            "pillow                    11.3.0\n",
            "pip                       25.2\n",
            "platformdirs              4.4.0\n",
            "prometheus_client         0.22.1\n",
            "prompt_toolkit            3.0.52\n",
            "psutil                    7.0.0\n",
            "ptyprocess                0.7.0\n",
            "pure_eval                 0.2.3\n",
            "pycparser                 2.22\n",
            "Pygments                  2.19.2\n",
            "pyparsing                 3.2.3\n",
            "python-dateutil           2.9.0.post0\n",
            "python-json-logger        3.3.0\n",
            "pytz                      2025.2\n",
            "PyYAML                    6.0.2\n",
            "pyzmq                     27.0.2\n",
            "referencing               0.36.2\n",
            "requests                  2.32.5\n",
            "rfc3339-validator         0.1.4\n",
            "rfc3986-validator         0.1.1\n",
            "rfc3987-syntax            1.1.0\n",
            "rpds-py                   0.27.1\n",
            "scikit-learn              1.7.1\n",
            "scipy                     1.16.1\n",
            "seaborn                   0.13.2\n",
            "Send2Trash                1.8.3\n",
            "setuptools                80.9.0\n",
            "shap                      0.48.0\n",
            "six                       1.17.0\n",
            "slicer                    0.0.8\n",
            "sniffio                   1.3.1\n",
            "soupsieve                 2.8\n",
            "stack-data                0.6.3\n",
            "terminado                 0.18.1\n",
            "threadpoolctl             3.6.0\n",
            "tinycss2                  1.4.0\n",
            "tornado                   6.5.2\n",
            "tqdm                      4.67.1\n",
            "traitlets                 5.14.3\n",
            "types-python-dateutil     2.9.0.20250822\n",
            "typing_extensions         4.15.0\n",
            "tzdata                    2025.2\n",
            "uri-template              1.3.0\n",
            "urllib3                   2.5.0\n",
            "wcwidth                   0.2.13\n",
            "webcolors                 24.11.1\n",
            "webencodings              0.5.1\n",
            "websocket-client          1.8.0\n",
            "widgetsnbextension        4.0.14\n",
            "xgboost                   3.0.4\n",
            "Note: you may need to restart the kernel to use updated packages.\n"
          ]
        }
      ],
      "source": [
        "pip list\n"
      ]
    },
    {
      "cell_type": "code",
      "execution_count": 47,
      "metadata": {
        "id": "AWf24o7Xi7rw"
      },
      "outputs": [],
      "source": [
        "# 2. Load dataset\n",
        "df = pd.read_excel(\"Data/raw_isf.xlsx\")"
      ]
    },
    {
      "cell_type": "code",
      "execution_count": 48,
      "metadata": {
        "colab": {
          "base_uri": "https://localhost:8080/"
        },
        "id": "bcI-Jy-6P-2M",
        "outputId": "74190fa1-3e65-4425-b2b0-3da31c9a7bf2"
      },
      "outputs": [
        {
          "name": "stdout",
          "output_type": "stream",
          "text": [
            "Number of Campaigns: 8199\n"
          ]
        }
      ],
      "source": [
        "# 3. Number of Obervations\n",
        "observations_df = len(df)\n",
        "print(f\"Number of Campaigns: {observations_df}\")"
      ]
    },
    {
      "cell_type": "code",
      "execution_count": 49,
      "metadata": {
        "colab": {
          "base_uri": "https://localhost:8080/",
          "height": 950
        },
        "id": "B55ATffHi-Ud",
        "outputId": "bd425490-4ae0-4e2f-db04-9838c60e4bc4"
      },
      "outputs": [
        {
          "name": "stdout",
          "output_type": "stream",
          "text": [
            "(8199, 21)\n",
            "Index(['url', 'source', 'campaign_title', 'fundraiser_name', 'campaign_month',\n",
            "       'days_remaining', 'donations_collected', 'donations_target',\n",
            "       'category_name', 'open_goal', 'donation_percentage', 'forever_running',\n",
            "       'campaigner_type', 'campaigner_badge', 'expired', 'request_userdata',\n",
            "       'campaign_type', 'status', 'Unnamed: 18', 'Unnamed: 19', 'Unnamed: 20'],\n",
            "      dtype='object')\n",
            "url                            object\n",
            "source                         object\n",
            "campaign_title                 object\n",
            "fundraiser_name                object\n",
            "campaign_month                 object\n",
            "days_remaining                  int64\n",
            "donations_collected             int64\n",
            "donations_target                int64\n",
            "category_name                  object\n",
            "open_goal                       int64\n",
            "donation_percentage           float64\n",
            "forever_running                 int64\n",
            "campaigner_type                object\n",
            "campaigner_badge              float64\n",
            "expired                datetime64[ns]\n",
            "request_userdata                int64\n",
            "campaign_type                  object\n",
            "status                        float64\n",
            "Unnamed: 18                   float64\n",
            "Unnamed: 19                   float64\n",
            "Unnamed: 20            datetime64[ns]\n",
            "dtype: object\n"
          ]
        },
        {
          "data": {
            "text/html": [
              "<div>\n",
              "<style scoped>\n",
              "    .dataframe tbody tr th:only-of-type {\n",
              "        vertical-align: middle;\n",
              "    }\n",
              "\n",
              "    .dataframe tbody tr th {\n",
              "        vertical-align: top;\n",
              "    }\n",
              "\n",
              "    .dataframe thead th {\n",
              "        text-align: right;\n",
              "    }\n",
              "</style>\n",
              "<table border=\"1\" class=\"dataframe\">\n",
              "  <thead>\n",
              "    <tr style=\"text-align: right;\">\n",
              "      <th></th>\n",
              "      <th>url</th>\n",
              "      <th>source</th>\n",
              "      <th>campaign_title</th>\n",
              "      <th>fundraiser_name</th>\n",
              "      <th>campaign_month</th>\n",
              "      <th>days_remaining</th>\n",
              "      <th>donations_collected</th>\n",
              "      <th>donations_target</th>\n",
              "      <th>category_name</th>\n",
              "      <th>open_goal</th>\n",
              "      <th>...</th>\n",
              "      <th>forever_running</th>\n",
              "      <th>campaigner_type</th>\n",
              "      <th>campaigner_badge</th>\n",
              "      <th>expired</th>\n",
              "      <th>request_userdata</th>\n",
              "      <th>campaign_type</th>\n",
              "      <th>status</th>\n",
              "      <th>Unnamed: 18</th>\n",
              "      <th>Unnamed: 19</th>\n",
              "      <th>Unnamed: 20</th>\n",
              "    </tr>\n",
              "  </thead>\n",
              "  <tbody>\n",
              "    <tr>\n",
              "      <th>0</th>\n",
              "      <td>https://kitabisa.com/campaign/baznas</td>\n",
              "      <td>kitabisa</td>\n",
              "      <td>Zakat Maal BAZNAS</td>\n",
              "      <td>Badan Amil Zakat Nasional</td>\n",
              "      <td>2016-05-01 00:00:00</td>\n",
              "      <td>4775</td>\n",
              "      <td>65239636147</td>\n",
              "      <td>2500000000000</td>\n",
              "      <td>Zakat</td>\n",
              "      <td>1</td>\n",
              "      <td>...</td>\n",
              "      <td>1</td>\n",
              "      <td>ORGANIZATION</td>\n",
              "      <td>NaN</td>\n",
              "      <td>2038-01-19 03:14:07</td>\n",
              "      <td>1</td>\n",
              "      <td>pool_of_fund</td>\n",
              "      <td>0.025965</td>\n",
              "      <td>NaN</td>\n",
              "      <td>NaN</td>\n",
              "      <td>NaT</td>\n",
              "    </tr>\n",
              "    <tr>\n",
              "      <th>1</th>\n",
              "      <td>https://kitabisa.com/campaign/rumahyatim</td>\n",
              "      <td>kitabisa</td>\n",
              "      <td>Rumah Yatim</td>\n",
              "      <td>Rumah Yatim</td>\n",
              "      <td>2017-06-01 00:00:00</td>\n",
              "      <td>4775</td>\n",
              "      <td>51370094243</td>\n",
              "      <td>2500000000000</td>\n",
              "      <td>Zakat</td>\n",
              "      <td>1</td>\n",
              "      <td>...</td>\n",
              "      <td>1</td>\n",
              "      <td>ORGANIZATION</td>\n",
              "      <td>NaN</td>\n",
              "      <td>2038-01-19 03:14:07</td>\n",
              "      <td>1</td>\n",
              "      <td>pool_of_fund</td>\n",
              "      <td>0.020469</td>\n",
              "      <td>NaN</td>\n",
              "      <td>NaN</td>\n",
              "      <td>NaT</td>\n",
              "    </tr>\n",
              "    <tr>\n",
              "      <th>2</th>\n",
              "      <td>https://kitabisa.com/campaign/rumahzakat</td>\n",
              "      <td>kitabisa</td>\n",
              "      <td>Rumah Zakat</td>\n",
              "      <td>Rumah Zakat</td>\n",
              "      <td>2016-05-01 00:00:00</td>\n",
              "      <td>4775</td>\n",
              "      <td>36828627783</td>\n",
              "      <td>100000000000</td>\n",
              "      <td>Zakat</td>\n",
              "      <td>1</td>\n",
              "      <td>...</td>\n",
              "      <td>1</td>\n",
              "      <td>ORGANIZATION</td>\n",
              "      <td>NaN</td>\n",
              "      <td>2038-01-19 03:14:07</td>\n",
              "      <td>1</td>\n",
              "      <td>pool_of_fund</td>\n",
              "      <td>0.366673</td>\n",
              "      <td>NaN</td>\n",
              "      <td>NaN</td>\n",
              "      <td>NaT</td>\n",
              "    </tr>\n",
              "    <tr>\n",
              "      <th>3</th>\n",
              "      <td>https://kitabisa.com/campaign/dompetdhuafa</td>\n",
              "      <td>kitabisa</td>\n",
              "      <td>Dompet Dhuafa</td>\n",
              "      <td>Yayasan Dompet Dhuafa Republika</td>\n",
              "      <td>2016-05-01 00:00:00</td>\n",
              "      <td>4775</td>\n",
              "      <td>29452200110</td>\n",
              "      <td>2500000000000</td>\n",
              "      <td>Zakat</td>\n",
              "      <td>1</td>\n",
              "      <td>...</td>\n",
              "      <td>1</td>\n",
              "      <td>ORGANIZATION</td>\n",
              "      <td>NaN</td>\n",
              "      <td>2038-01-19 03:14:07</td>\n",
              "      <td>1</td>\n",
              "      <td>pool_of_fund</td>\n",
              "      <td>0.011755</td>\n",
              "      <td>NaN</td>\n",
              "      <td>NaN</td>\n",
              "      <td>NaT</td>\n",
              "    </tr>\n",
              "    <tr>\n",
              "      <th>4</th>\n",
              "      <td>https://kitabisa.com/campaign/griyayatimdhuafa</td>\n",
              "      <td>kitabisa</td>\n",
              "      <td>ZAKAT UNTUK PEMBERDAYAAN YATIM DAN DHUAFA</td>\n",
              "      <td>Griya Yatim dan Dhuafa</td>\n",
              "      <td>2018-09-01 00:00:00</td>\n",
              "      <td>4775</td>\n",
              "      <td>13790517910</td>\n",
              "      <td>2500000000000</td>\n",
              "      <td>Zakat</td>\n",
              "      <td>1</td>\n",
              "      <td>...</td>\n",
              "      <td>1</td>\n",
              "      <td>ORGANIZATION</td>\n",
              "      <td>NaN</td>\n",
              "      <td>2038-01-19 03:14:07</td>\n",
              "      <td>0</td>\n",
              "      <td>pool_of_fund</td>\n",
              "      <td>0.005495</td>\n",
              "      <td>NaN</td>\n",
              "      <td>NaN</td>\n",
              "      <td>NaT</td>\n",
              "    </tr>\n",
              "  </tbody>\n",
              "</table>\n",
              "<p>5 rows × 21 columns</p>\n",
              "</div>"
            ],
            "text/plain": [
              "                                              url    source  \\\n",
              "0            https://kitabisa.com/campaign/baznas  kitabisa   \n",
              "1        https://kitabisa.com/campaign/rumahyatim  kitabisa   \n",
              "2        https://kitabisa.com/campaign/rumahzakat  kitabisa   \n",
              "3      https://kitabisa.com/campaign/dompetdhuafa  kitabisa   \n",
              "4  https://kitabisa.com/campaign/griyayatimdhuafa  kitabisa   \n",
              "\n",
              "                              campaign_title                  fundraiser_name  \\\n",
              "0                          Zakat Maal BAZNAS        Badan Amil Zakat Nasional   \n",
              "1                                Rumah Yatim                      Rumah Yatim   \n",
              "2                                Rumah Zakat                      Rumah Zakat   \n",
              "3                              Dompet Dhuafa  Yayasan Dompet Dhuafa Republika   \n",
              "4  ZAKAT UNTUK PEMBERDAYAAN YATIM DAN DHUAFA           Griya Yatim dan Dhuafa   \n",
              "\n",
              "        campaign_month  days_remaining  donations_collected  donations_target  \\\n",
              "0  2016-05-01 00:00:00            4775          65239636147     2500000000000   \n",
              "1  2017-06-01 00:00:00            4775          51370094243     2500000000000   \n",
              "2  2016-05-01 00:00:00            4775          36828627783      100000000000   \n",
              "3  2016-05-01 00:00:00            4775          29452200110     2500000000000   \n",
              "4  2018-09-01 00:00:00            4775          13790517910     2500000000000   \n",
              "\n",
              "  category_name  open_goal  ...  forever_running  campaigner_type  \\\n",
              "0         Zakat          1  ...                1     ORGANIZATION   \n",
              "1         Zakat          1  ...                1     ORGANIZATION   \n",
              "2         Zakat          1  ...                1     ORGANIZATION   \n",
              "3         Zakat          1  ...                1     ORGANIZATION   \n",
              "4         Zakat          1  ...                1     ORGANIZATION   \n",
              "\n",
              "  campaigner_badge             expired request_userdata  campaign_type  \\\n",
              "0              NaN 2038-01-19 03:14:07                1   pool_of_fund   \n",
              "1              NaN 2038-01-19 03:14:07                1   pool_of_fund   \n",
              "2              NaN 2038-01-19 03:14:07                1   pool_of_fund   \n",
              "3              NaN 2038-01-19 03:14:07                1   pool_of_fund   \n",
              "4              NaN 2038-01-19 03:14:07                0   pool_of_fund   \n",
              "\n",
              "     status  Unnamed: 18  Unnamed: 19  Unnamed: 20  \n",
              "0  0.025965          NaN          NaN          NaT  \n",
              "1  0.020469          NaN          NaN          NaT  \n",
              "2  0.366673          NaN          NaN          NaT  \n",
              "3  0.011755          NaN          NaN          NaT  \n",
              "4  0.005495          NaN          NaN          NaT  \n",
              "\n",
              "[5 rows x 21 columns]"
            ]
          },
          "metadata": {},
          "output_type": "display_data"
        }
      ],
      "source": [
        "# 4. Quick overview\n",
        "print(df.shape)\n",
        "print(df.columns)\n",
        "print(df.dtypes)\n",
        "display(df.head())"
      ]
    },
    {
      "cell_type": "code",
      "execution_count": 50,
      "metadata": {
        "colab": {
          "base_uri": "https://localhost:8080/"
        },
        "id": "1wASC3usjC9D",
        "outputId": "f6805072-9f3b-477e-d435-1575b9dede23"
      },
      "outputs": [
        {
          "name": "stdout",
          "output_type": "stream",
          "text": [
            "Missing values per column:\n",
            "url                  270\n",
            "campaigner_badge    8199\n",
            "Unnamed: 18         8199\n",
            "Unnamed: 19         8199\n",
            "Unnamed: 20         8198\n",
            "dtype: int64\n"
          ]
        }
      ],
      "source": [
        "# 5. Check missing values\n",
        "missing = df.isnull().sum()\n",
        "print(\"Missing values per column:\")\n",
        "print(missing[missing > 0])"
      ]
    },
    {
      "cell_type": "code",
      "execution_count": 51,
      "metadata": {
        "colab": {
          "base_uri": "https://localhost:8080/",
          "height": 762
        },
        "id": "t03vnNxaQZhf",
        "outputId": "f43fb301-20b8-40e0-b50e-736e698efa46"
      },
      "outputs": [
        {
          "name": "stdout",
          "output_type": "stream",
          "text": [
            "Number of duplicated URLs: 269\n"
          ]
        },
        {
          "data": {
            "text/html": [
              "<div>\n",
              "<style scoped>\n",
              "    .dataframe tbody tr th:only-of-type {\n",
              "        vertical-align: middle;\n",
              "    }\n",
              "\n",
              "    .dataframe tbody tr th {\n",
              "        vertical-align: top;\n",
              "    }\n",
              "\n",
              "    .dataframe thead th {\n",
              "        text-align: right;\n",
              "    }\n",
              "</style>\n",
              "<table border=\"1\" class=\"dataframe\">\n",
              "  <thead>\n",
              "    <tr style=\"text-align: right;\">\n",
              "      <th></th>\n",
              "      <th>url</th>\n",
              "      <th>source</th>\n",
              "      <th>campaign_title</th>\n",
              "      <th>fundraiser_name</th>\n",
              "      <th>campaign_month</th>\n",
              "      <th>days_remaining</th>\n",
              "      <th>donations_collected</th>\n",
              "      <th>donations_target</th>\n",
              "      <th>category_name</th>\n",
              "      <th>open_goal</th>\n",
              "      <th>...</th>\n",
              "      <th>forever_running</th>\n",
              "      <th>campaigner_type</th>\n",
              "      <th>campaigner_badge</th>\n",
              "      <th>expired</th>\n",
              "      <th>request_userdata</th>\n",
              "      <th>campaign_type</th>\n",
              "      <th>status</th>\n",
              "      <th>Unnamed: 18</th>\n",
              "      <th>Unnamed: 19</th>\n",
              "      <th>Unnamed: 20</th>\n",
              "    </tr>\n",
              "  </thead>\n",
              "  <tbody>\n",
              "    <tr>\n",
              "      <th>7929</th>\n",
              "      <td>NaN</td>\n",
              "      <td>wecare</td>\n",
              "      <td>Bantu Perjuangan Azmi untuk Sembuh!</td>\n",
              "      <td>Firli supriyadi</td>\n",
              "      <td>2024-12</td>\n",
              "      <td>180</td>\n",
              "      <td>340000</td>\n",
              "      <td>17289474</td>\n",
              "      <td>Balita &amp; Anak Sakit</td>\n",
              "      <td>1</td>\n",
              "      <td>...</td>\n",
              "      <td>0</td>\n",
              "      <td>PERSONAL</td>\n",
              "      <td>NaN</td>\n",
              "      <td>2025-06-09</td>\n",
              "      <td>1</td>\n",
              "      <td>regular</td>\n",
              "      <td>0.019665</td>\n",
              "      <td>NaN</td>\n",
              "      <td>NaN</td>\n",
              "      <td>NaT</td>\n",
              "    </tr>\n",
              "    <tr>\n",
              "      <th>7930</th>\n",
              "      <td>NaN</td>\n",
              "      <td>wecare</td>\n",
              "      <td>Bantu Azizah Berjuang Lawan Kanker!</td>\n",
              "      <td>Lentera Saling Berbagi Kebaikan</td>\n",
              "      <td>2024-12</td>\n",
              "      <td>200</td>\n",
              "      <td>1251789</td>\n",
              "      <td>26315789</td>\n",
              "      <td>Balita &amp; Anak Sakit</td>\n",
              "      <td>1</td>\n",
              "      <td>...</td>\n",
              "      <td>0</td>\n",
              "      <td>ORGANIZATION</td>\n",
              "      <td>NaN</td>\n",
              "      <td>2025-06-29</td>\n",
              "      <td>1</td>\n",
              "      <td>regular</td>\n",
              "      <td>0.047568</td>\n",
              "      <td>NaN</td>\n",
              "      <td>NaN</td>\n",
              "      <td>NaT</td>\n",
              "    </tr>\n",
              "    <tr>\n",
              "      <th>7931</th>\n",
              "      <td>NaN</td>\n",
              "      <td>wecare</td>\n",
              "      <td>Bantu Ibu Suryani Sembuh dari Tumor!</td>\n",
              "      <td>Lentera Saling Berbagi Kebaikan</td>\n",
              "      <td>2024-12</td>\n",
              "      <td>200</td>\n",
              "      <td>133700</td>\n",
              "      <td>26315789</td>\n",
              "      <td>Bantuan Medis &amp; Kesehatan</td>\n",
              "      <td>1</td>\n",
              "      <td>...</td>\n",
              "      <td>0</td>\n",
              "      <td>ORGANIZATION</td>\n",
              "      <td>NaN</td>\n",
              "      <td>2025-06-27</td>\n",
              "      <td>1</td>\n",
              "      <td>regular</td>\n",
              "      <td>0.005081</td>\n",
              "      <td>NaN</td>\n",
              "      <td>NaN</td>\n",
              "      <td>NaT</td>\n",
              "    </tr>\n",
              "    <tr>\n",
              "      <th>7932</th>\n",
              "      <td>NaN</td>\n",
              "      <td>wecare</td>\n",
              "      <td>Harus Operasi 3x, Bantu Azzura untuk Bertahan ...</td>\n",
              "      <td>afizah Valiqha</td>\n",
              "      <td>2024-12</td>\n",
              "      <td>90</td>\n",
              "      <td>675000</td>\n",
              "      <td>24210526</td>\n",
              "      <td>Balita &amp; Anak Sakit</td>\n",
              "      <td>1</td>\n",
              "      <td>...</td>\n",
              "      <td>0</td>\n",
              "      <td>PERSONAL</td>\n",
              "      <td>NaN</td>\n",
              "      <td>2025-03-05</td>\n",
              "      <td>1</td>\n",
              "      <td>regular</td>\n",
              "      <td>0.027880</td>\n",
              "      <td>NaN</td>\n",
              "      <td>NaN</td>\n",
              "      <td>NaT</td>\n",
              "    </tr>\n",
              "    <tr>\n",
              "      <th>7933</th>\n",
              "      <td>NaN</td>\n",
              "      <td>wecare</td>\n",
              "      <td>Bantu Altaf Segera Operasi!</td>\n",
              "      <td>BOBS PEDULI</td>\n",
              "      <td>2024-12</td>\n",
              "      <td>365</td>\n",
              "      <td>324500</td>\n",
              "      <td>28815789</td>\n",
              "      <td>Balita &amp; Anak Sakit</td>\n",
              "      <td>1</td>\n",
              "      <td>...</td>\n",
              "      <td>0</td>\n",
              "      <td>ORGANIZATION</td>\n",
              "      <td>NaN</td>\n",
              "      <td>2025-12-05</td>\n",
              "      <td>1</td>\n",
              "      <td>regular</td>\n",
              "      <td>0.011261</td>\n",
              "      <td>NaN</td>\n",
              "      <td>NaN</td>\n",
              "      <td>NaT</td>\n",
              "    </tr>\n",
              "    <tr>\n",
              "      <th>...</th>\n",
              "      <td>...</td>\n",
              "      <td>...</td>\n",
              "      <td>...</td>\n",
              "      <td>...</td>\n",
              "      <td>...</td>\n",
              "      <td>...</td>\n",
              "      <td>...</td>\n",
              "      <td>...</td>\n",
              "      <td>...</td>\n",
              "      <td>...</td>\n",
              "      <td>...</td>\n",
              "      <td>...</td>\n",
              "      <td>...</td>\n",
              "      <td>...</td>\n",
              "      <td>...</td>\n",
              "      <td>...</td>\n",
              "      <td>...</td>\n",
              "      <td>...</td>\n",
              "      <td>...</td>\n",
              "      <td>...</td>\n",
              "      <td>...</td>\n",
              "    </tr>\n",
              "    <tr>\n",
              "      <th>8194</th>\n",
              "      <td>NaN</td>\n",
              "      <td>dompetdhuafa</td>\n",
              "      <td>Sembako Isoman Untuk Keluarga Dhuafa</td>\n",
              "      <td>Dompet Dhuafa</td>\n",
              "      <td>2021-09</td>\n",
              "      <td>0</td>\n",
              "      <td>0</td>\n",
              "      <td>1000000000</td>\n",
              "      <td>Kemanusiaan</td>\n",
              "      <td>0</td>\n",
              "      <td>...</td>\n",
              "      <td>0</td>\n",
              "      <td>ORGANIZATION</td>\n",
              "      <td>NaN</td>\n",
              "      <td>2025-01-15</td>\n",
              "      <td>1</td>\n",
              "      <td>pool_of_fund</td>\n",
              "      <td>0.000000</td>\n",
              "      <td>NaN</td>\n",
              "      <td>NaN</td>\n",
              "      <td>NaT</td>\n",
              "    </tr>\n",
              "    <tr>\n",
              "      <th>8195</th>\n",
              "      <td>NaN</td>\n",
              "      <td>dompetdhuafa</td>\n",
              "      <td>Borong Takjil Pedagang Kecil</td>\n",
              "      <td>Dompet Dhuafa</td>\n",
              "      <td>2021-09</td>\n",
              "      <td>0</td>\n",
              "      <td>14100510</td>\n",
              "      <td>500000000</td>\n",
              "      <td>Kemanusiaan</td>\n",
              "      <td>0</td>\n",
              "      <td>...</td>\n",
              "      <td>0</td>\n",
              "      <td>ORGANIZATION</td>\n",
              "      <td>NaN</td>\n",
              "      <td>2025-01-15</td>\n",
              "      <td>1</td>\n",
              "      <td>pool_of_fund</td>\n",
              "      <td>0.028201</td>\n",
              "      <td>NaN</td>\n",
              "      <td>NaN</td>\n",
              "      <td>NaT</td>\n",
              "    </tr>\n",
              "    <tr>\n",
              "      <th>8196</th>\n",
              "      <td>NaN</td>\n",
              "      <td>dompetdhuafa</td>\n",
              "      <td>Bantu  Selamatkan Garda Terdepan Covid-19</td>\n",
              "      <td>Dompet Dhuafa</td>\n",
              "      <td>2021-09</td>\n",
              "      <td>0</td>\n",
              "      <td>0</td>\n",
              "      <td>1000000000</td>\n",
              "      <td>Bantuan Medis &amp; Kesehatan</td>\n",
              "      <td>0</td>\n",
              "      <td>...</td>\n",
              "      <td>0</td>\n",
              "      <td>ORGANIZATION</td>\n",
              "      <td>NaN</td>\n",
              "      <td>2025-01-15</td>\n",
              "      <td>1</td>\n",
              "      <td>pool_of_fund</td>\n",
              "      <td>0.000000</td>\n",
              "      <td>NaN</td>\n",
              "      <td>NaN</td>\n",
              "      <td>NaT</td>\n",
              "    </tr>\n",
              "    <tr>\n",
              "      <th>8197</th>\n",
              "      <td>NaN</td>\n",
              "      <td>dompetdhuafa</td>\n",
              "      <td>Oksigen Untuk Pasien Covid-19</td>\n",
              "      <td>Dompet Dhuafa</td>\n",
              "      <td>2021-09</td>\n",
              "      <td>0</td>\n",
              "      <td>0</td>\n",
              "      <td>1000000000</td>\n",
              "      <td>Bantuan Medis &amp; Kesehatan</td>\n",
              "      <td>0</td>\n",
              "      <td>...</td>\n",
              "      <td>0</td>\n",
              "      <td>ORGANIZATION</td>\n",
              "      <td>NaN</td>\n",
              "      <td>2025-01-15</td>\n",
              "      <td>1</td>\n",
              "      <td>pool_of_fund</td>\n",
              "      <td>0.000000</td>\n",
              "      <td>NaN</td>\n",
              "      <td>NaN</td>\n",
              "      <td>NaT</td>\n",
              "    </tr>\n",
              "    <tr>\n",
              "      <th>8198</th>\n",
              "      <td>NaN</td>\n",
              "      <td>dompetdhuafa</td>\n",
              "      <td>Nutrisi Untuk Isoman Keluarga Dhuafa</td>\n",
              "      <td>Dompet Dhuafa</td>\n",
              "      <td>2021-09</td>\n",
              "      <td>0</td>\n",
              "      <td>240000</td>\n",
              "      <td>1000000000</td>\n",
              "      <td>Bantuan Medis &amp; Kesehatan</td>\n",
              "      <td>0</td>\n",
              "      <td>...</td>\n",
              "      <td>0</td>\n",
              "      <td>ORGANIZATION</td>\n",
              "      <td>NaN</td>\n",
              "      <td>2025-01-15</td>\n",
              "      <td>1</td>\n",
              "      <td>pool_of_fund</td>\n",
              "      <td>0.000240</td>\n",
              "      <td>NaN</td>\n",
              "      <td>NaN</td>\n",
              "      <td>NaT</td>\n",
              "    </tr>\n",
              "  </tbody>\n",
              "</table>\n",
              "<p>270 rows × 21 columns</p>\n",
              "</div>"
            ],
            "text/plain": [
              "      url        source                                     campaign_title  \\\n",
              "7929  NaN        wecare                Bantu Perjuangan Azmi untuk Sembuh!   \n",
              "7930  NaN        wecare                Bantu Azizah Berjuang Lawan Kanker!   \n",
              "7931  NaN        wecare               Bantu Ibu Suryani Sembuh dari Tumor!   \n",
              "7932  NaN        wecare  Harus Operasi 3x, Bantu Azzura untuk Bertahan ...   \n",
              "7933  NaN        wecare                        Bantu Altaf Segera Operasi!   \n",
              "...   ...           ...                                                ...   \n",
              "8194  NaN  dompetdhuafa               Sembako Isoman Untuk Keluarga Dhuafa   \n",
              "8195  NaN  dompetdhuafa                       Borong Takjil Pedagang Kecil   \n",
              "8196  NaN  dompetdhuafa          Bantu  Selamatkan Garda Terdepan Covid-19   \n",
              "8197  NaN  dompetdhuafa                      Oksigen Untuk Pasien Covid-19   \n",
              "8198  NaN  dompetdhuafa               Nutrisi Untuk Isoman Keluarga Dhuafa   \n",
              "\n",
              "                      fundraiser_name campaign_month  days_remaining  \\\n",
              "7929                  Firli supriyadi        2024-12             180   \n",
              "7930  Lentera Saling Berbagi Kebaikan        2024-12             200   \n",
              "7931  Lentera Saling Berbagi Kebaikan        2024-12             200   \n",
              "7932                   afizah Valiqha        2024-12              90   \n",
              "7933                      BOBS PEDULI        2024-12             365   \n",
              "...                               ...            ...             ...   \n",
              "8194                    Dompet Dhuafa        2021-09               0   \n",
              "8195                    Dompet Dhuafa        2021-09               0   \n",
              "8196                    Dompet Dhuafa        2021-09               0   \n",
              "8197                    Dompet Dhuafa        2021-09               0   \n",
              "8198                    Dompet Dhuafa        2021-09               0   \n",
              "\n",
              "      donations_collected  donations_target              category_name  \\\n",
              "7929               340000          17289474        Balita & Anak Sakit   \n",
              "7930              1251789          26315789        Balita & Anak Sakit   \n",
              "7931               133700          26315789  Bantuan Medis & Kesehatan   \n",
              "7932               675000          24210526        Balita & Anak Sakit   \n",
              "7933               324500          28815789        Balita & Anak Sakit   \n",
              "...                   ...               ...                        ...   \n",
              "8194                    0        1000000000                Kemanusiaan   \n",
              "8195             14100510         500000000                Kemanusiaan   \n",
              "8196                    0        1000000000  Bantuan Medis & Kesehatan   \n",
              "8197                    0        1000000000  Bantuan Medis & Kesehatan   \n",
              "8198               240000        1000000000  Bantuan Medis & Kesehatan   \n",
              "\n",
              "      open_goal  ...  forever_running  campaigner_type campaigner_badge  \\\n",
              "7929          1  ...                0         PERSONAL              NaN   \n",
              "7930          1  ...                0     ORGANIZATION              NaN   \n",
              "7931          1  ...                0     ORGANIZATION              NaN   \n",
              "7932          1  ...                0         PERSONAL              NaN   \n",
              "7933          1  ...                0     ORGANIZATION              NaN   \n",
              "...         ...  ...              ...              ...              ...   \n",
              "8194          0  ...                0     ORGANIZATION              NaN   \n",
              "8195          0  ...                0     ORGANIZATION              NaN   \n",
              "8196          0  ...                0     ORGANIZATION              NaN   \n",
              "8197          0  ...                0     ORGANIZATION              NaN   \n",
              "8198          0  ...                0     ORGANIZATION              NaN   \n",
              "\n",
              "        expired request_userdata  campaign_type    status  Unnamed: 18  \\\n",
              "7929 2025-06-09                1        regular  0.019665          NaN   \n",
              "7930 2025-06-29                1        regular  0.047568          NaN   \n",
              "7931 2025-06-27                1        regular  0.005081          NaN   \n",
              "7932 2025-03-05                1        regular  0.027880          NaN   \n",
              "7933 2025-12-05                1        regular  0.011261          NaN   \n",
              "...         ...              ...            ...       ...          ...   \n",
              "8194 2025-01-15                1   pool_of_fund  0.000000          NaN   \n",
              "8195 2025-01-15                1   pool_of_fund  0.028201          NaN   \n",
              "8196 2025-01-15                1   pool_of_fund  0.000000          NaN   \n",
              "8197 2025-01-15                1   pool_of_fund  0.000000          NaN   \n",
              "8198 2025-01-15                1   pool_of_fund  0.000240          NaN   \n",
              "\n",
              "      Unnamed: 19  Unnamed: 20  \n",
              "7929          NaN          NaT  \n",
              "7930          NaN          NaT  \n",
              "7931          NaN          NaT  \n",
              "7932          NaN          NaT  \n",
              "7933          NaN          NaT  \n",
              "...           ...          ...  \n",
              "8194          NaN          NaT  \n",
              "8195          NaN          NaT  \n",
              "8196          NaN          NaT  \n",
              "8197          NaN          NaT  \n",
              "8198          NaN          NaT  \n",
              "\n",
              "[270 rows x 21 columns]"
            ]
          },
          "execution_count": 51,
          "metadata": {},
          "output_type": "execute_result"
        }
      ],
      "source": [
        "# 6. Check number of duplicated URLs\n",
        "duplicate_urls = df['url'].duplicated().sum()\n",
        "print(f\"Number of duplicated URLs: {duplicate_urls}\")\n",
        "\n",
        "# Show the duplicated URLs\n",
        "duplicated_urls_df = df[df['url'].duplicated(keep=False)]\n",
        "duplicated_urls_df"
      ]
    },
    {
      "cell_type": "markdown",
      "metadata": {
        "id": "RLz72E37RwXw"
      },
      "source": [
        "While the url column contains 269 duplicate values (mostly blanks), a deeper inspection showed that each row is associated with a unique campaign title and attributes. Therefore, these entries are retained, as they likely represent distinct fundraising campaigns that simply lack a proper URL field."
      ]
    },
    {
      "cell_type": "code",
      "execution_count": 52,
      "metadata": {
        "colab": {
          "base_uri": "https://localhost:8080/",
          "height": 538
        },
        "id": "6cxoTQUmjS4l",
        "outputId": "8dcd5fab-01e5-4b2c-b6a2-7ee3b2c10554"
      },
      "outputs": [
        {
          "data": {
            "text/html": [
              "<div>\n",
              "<style scoped>\n",
              "    .dataframe tbody tr th:only-of-type {\n",
              "        vertical-align: middle;\n",
              "    }\n",
              "\n",
              "    .dataframe tbody tr th {\n",
              "        vertical-align: top;\n",
              "    }\n",
              "\n",
              "    .dataframe thead th {\n",
              "        text-align: right;\n",
              "    }\n",
              "</style>\n",
              "<table border=\"1\" class=\"dataframe\">\n",
              "  <thead>\n",
              "    <tr style=\"text-align: right;\">\n",
              "      <th></th>\n",
              "      <th>days_remaining</th>\n",
              "      <th>donations_collected</th>\n",
              "      <th>donations_target</th>\n",
              "      <th>open_goal</th>\n",
              "      <th>donation_percentage</th>\n",
              "      <th>forever_running</th>\n",
              "      <th>campaigner_badge</th>\n",
              "      <th>expired</th>\n",
              "      <th>request_userdata</th>\n",
              "      <th>status</th>\n",
              "      <th>Unnamed: 18</th>\n",
              "      <th>Unnamed: 19</th>\n",
              "      <th>Unnamed: 20</th>\n",
              "    </tr>\n",
              "  </thead>\n",
              "  <tbody>\n",
              "    <tr>\n",
              "      <th>count</th>\n",
              "      <td>8199.000000</td>\n",
              "      <td>8.199000e+03</td>\n",
              "      <td>8.199000e+03</td>\n",
              "      <td>8199.000000</td>\n",
              "      <td>8199.000000</td>\n",
              "      <td>8199.000000</td>\n",
              "      <td>0.0</td>\n",
              "      <td>8199</td>\n",
              "      <td>8199.000000</td>\n",
              "      <td>8199.000000</td>\n",
              "      <td>0.0</td>\n",
              "      <td>0.0</td>\n",
              "      <td>1</td>\n",
              "    </tr>\n",
              "    <tr>\n",
              "      <th>mean</th>\n",
              "      <td>885.489084</td>\n",
              "      <td>1.463224e+08</td>\n",
              "      <td>6.864426e+10</td>\n",
              "      <td>0.053177</td>\n",
              "      <td>0.237014</td>\n",
              "      <td>0.160873</td>\n",
              "      <td>NaN</td>\n",
              "      <td>2027-05-26 20:48:32.712037888</td>\n",
              "      <td>0.068057</td>\n",
              "      <td>0.237014</td>\n",
              "      <td>NaN</td>\n",
              "      <td>NaN</td>\n",
              "      <td>2025-01-15 00:00:00</td>\n",
              "    </tr>\n",
              "    <tr>\n",
              "      <th>min</th>\n",
              "      <td>0.000000</td>\n",
              "      <td>0.000000e+00</td>\n",
              "      <td>0.000000e+00</td>\n",
              "      <td>0.000000</td>\n",
              "      <td>0.000000</td>\n",
              "      <td>0.000000</td>\n",
              "      <td>NaN</td>\n",
              "      <td>2024-12-23 07:59:59</td>\n",
              "      <td>0.000000</td>\n",
              "      <td>0.000000</td>\n",
              "      <td>NaN</td>\n",
              "      <td>NaN</td>\n",
              "      <td>2025-01-15 00:00:00</td>\n",
              "    </tr>\n",
              "    <tr>\n",
              "      <th>25%</th>\n",
              "      <td>18.000000</td>\n",
              "      <td>9.900000e+05</td>\n",
              "      <td>5.000000e+07</td>\n",
              "      <td>0.000000</td>\n",
              "      <td>0.004120</td>\n",
              "      <td>0.000000</td>\n",
              "      <td>NaN</td>\n",
              "      <td>2025-01-12 16:59:59</td>\n",
              "      <td>0.000000</td>\n",
              "      <td>0.004120</td>\n",
              "      <td>NaN</td>\n",
              "      <td>NaN</td>\n",
              "      <td>2025-01-15 00:00:00</td>\n",
              "    </tr>\n",
              "    <tr>\n",
              "      <th>50%</th>\n",
              "      <td>67.000000</td>\n",
              "      <td>4.643907e+06</td>\n",
              "      <td>1.000000e+08</td>\n",
              "      <td>0.000000</td>\n",
              "      <td>0.041465</td>\n",
              "      <td>0.000000</td>\n",
              "      <td>NaN</td>\n",
              "      <td>2025-02-28 16:59:59</td>\n",
              "      <td>0.000000</td>\n",
              "      <td>0.041465</td>\n",
              "      <td>NaN</td>\n",
              "      <td>NaN</td>\n",
              "      <td>2025-01-15 00:00:00</td>\n",
              "    </tr>\n",
              "    <tr>\n",
              "      <th>75%</th>\n",
              "      <td>373.000000</td>\n",
              "      <td>3.812628e+07</td>\n",
              "      <td>2.500000e+08</td>\n",
              "      <td>0.000000</td>\n",
              "      <td>0.297069</td>\n",
              "      <td>0.000000</td>\n",
              "      <td>NaN</td>\n",
              "      <td>2025-12-31 16:59:59</td>\n",
              "      <td>0.000000</td>\n",
              "      <td>0.297069</td>\n",
              "      <td>NaN</td>\n",
              "      <td>NaN</td>\n",
              "      <td>2025-01-15 00:00:00</td>\n",
              "    </tr>\n",
              "    <tr>\n",
              "      <th>max</th>\n",
              "      <td>4775.000000</td>\n",
              "      <td>6.523964e+10</td>\n",
              "      <td>2.500000e+12</td>\n",
              "      <td>1.000000</td>\n",
              "      <td>68.232270</td>\n",
              "      <td>1.000000</td>\n",
              "      <td>NaN</td>\n",
              "      <td>2038-01-19 03:14:07</td>\n",
              "      <td>1.000000</td>\n",
              "      <td>68.232270</td>\n",
              "      <td>NaN</td>\n",
              "      <td>NaN</td>\n",
              "      <td>2025-01-15 00:00:00</td>\n",
              "    </tr>\n",
              "    <tr>\n",
              "      <th>std</th>\n",
              "      <td>1723.555204</td>\n",
              "      <td>1.464222e+09</td>\n",
              "      <td>4.067299e+11</td>\n",
              "      <td>0.224400</td>\n",
              "      <td>1.043636</td>\n",
              "      <td>0.367436</td>\n",
              "      <td>NaN</td>\n",
              "      <td>NaN</td>\n",
              "      <td>0.251859</td>\n",
              "      <td>1.043636</td>\n",
              "      <td>NaN</td>\n",
              "      <td>NaN</td>\n",
              "      <td>NaN</td>\n",
              "    </tr>\n",
              "  </tbody>\n",
              "</table>\n",
              "</div>"
            ],
            "text/plain": [
              "       days_remaining  donations_collected  donations_target    open_goal  \\\n",
              "count     8199.000000         8.199000e+03      8.199000e+03  8199.000000   \n",
              "mean       885.489084         1.463224e+08      6.864426e+10     0.053177   \n",
              "min          0.000000         0.000000e+00      0.000000e+00     0.000000   \n",
              "25%         18.000000         9.900000e+05      5.000000e+07     0.000000   \n",
              "50%         67.000000         4.643907e+06      1.000000e+08     0.000000   \n",
              "75%        373.000000         3.812628e+07      2.500000e+08     0.000000   \n",
              "max       4775.000000         6.523964e+10      2.500000e+12     1.000000   \n",
              "std       1723.555204         1.464222e+09      4.067299e+11     0.224400   \n",
              "\n",
              "       donation_percentage  forever_running  campaigner_badge  \\\n",
              "count          8199.000000      8199.000000               0.0   \n",
              "mean              0.237014         0.160873               NaN   \n",
              "min               0.000000         0.000000               NaN   \n",
              "25%               0.004120         0.000000               NaN   \n",
              "50%               0.041465         0.000000               NaN   \n",
              "75%               0.297069         0.000000               NaN   \n",
              "max              68.232270         1.000000               NaN   \n",
              "std               1.043636         0.367436               NaN   \n",
              "\n",
              "                             expired  request_userdata       status  \\\n",
              "count                           8199       8199.000000  8199.000000   \n",
              "mean   2027-05-26 20:48:32.712037888          0.068057     0.237014   \n",
              "min              2024-12-23 07:59:59          0.000000     0.000000   \n",
              "25%              2025-01-12 16:59:59          0.000000     0.004120   \n",
              "50%              2025-02-28 16:59:59          0.000000     0.041465   \n",
              "75%              2025-12-31 16:59:59          0.000000     0.297069   \n",
              "max              2038-01-19 03:14:07          1.000000    68.232270   \n",
              "std                              NaN          0.251859     1.043636   \n",
              "\n",
              "       Unnamed: 18  Unnamed: 19          Unnamed: 20  \n",
              "count          0.0          0.0                    1  \n",
              "mean           NaN          NaN  2025-01-15 00:00:00  \n",
              "min            NaN          NaN  2025-01-15 00:00:00  \n",
              "25%            NaN          NaN  2025-01-15 00:00:00  \n",
              "50%            NaN          NaN  2025-01-15 00:00:00  \n",
              "75%            NaN          NaN  2025-01-15 00:00:00  \n",
              "max            NaN          NaN  2025-01-15 00:00:00  \n",
              "std            NaN          NaN                  NaN  "
            ]
          },
          "metadata": {},
          "output_type": "display_data"
        }
      ],
      "source": [
        "# 7. Descriptive statistics\n",
        "display(df.describe())"
      ]
    },
    {
      "cell_type": "code",
      "execution_count": 53,
      "metadata": {
        "colab": {
          "base_uri": "https://localhost:8080/",
          "height": 427
        },
        "id": "4CrVl0_wjU_T",
        "outputId": "bfab1ae1-8721-4dbb-f4cd-d8b1b19a5c24"
      },
      "outputs": [
        {
          "name": "stdout",
          "output_type": "stream",
          "text": [
            "Skewness of target amount (in millions rupiah): 5.80\n"
          ]
        },
        {
          "name": "stderr",
          "output_type": "stream",
          "text": [
            "/Users/ratughifa/Documents/Personal Project/islamic crowdfunding campaign/venv/lib/python3.11/site-packages/scipy/_lib/_util.py:1279: RuntimeWarning: divide by zero encountered in vecdot\n",
            "  return np.vecdot(x1, x2, axis=axis)\n",
            "/Users/ratughifa/Documents/Personal Project/islamic crowdfunding campaign/venv/lib/python3.11/site-packages/scipy/_lib/_util.py:1279: RuntimeWarning: overflow encountered in vecdot\n",
            "  return np.vecdot(x1, x2, axis=axis)\n",
            "/Users/ratughifa/Documents/Personal Project/islamic crowdfunding campaign/venv/lib/python3.11/site-packages/scipy/_lib/_util.py:1279: RuntimeWarning: invalid value encountered in vecdot\n",
            "  return np.vecdot(x1, x2, axis=axis)\n"
          ]
        },
        {
          "data": {
            "image/png": "[encoded data removed]",
            "text/plain": [
              "<Figure size 800x400 with 1 Axes>"
            ]
          },
          "metadata": {},
          "output_type": "display_data"
        }
      ],
      "source": [
        "# 8. Skewness check for 'donations_target'\n",
        "if 'donations_target' in df.columns:\n",
        "    df['donations_target_million'] = df['donations_target'] / 1e6\n",
        "\n",
        "    skew_value = skew(df['donations_target_million'].dropna())\n",
        "    print(f\"Skewness of target amount (in millions rupiah): {skew_value:.2f}\")\n",
        "\n",
        "    # Histogram\n",
        "    plt.figure(figsize=(8, 4))\n",
        "    sns.histplot(df['donations_target_million'], bins=50, kde=True)\n",
        "    plt.title('Distribution of Target Amount (in millions rupiah)')\n",
        "    plt.xlabel('Target Amount (Million Rupiah)')\n",
        "    plt.ylabel('Frequency')\n",
        "    plt.show()\n"
      ]
    },
    {
      "cell_type": "markdown",
      "metadata": {
        "id": "1BQ_WPIt4XA4"
      },
      "source": [
        "The distribution of donations_target is **right-skewed** (skewness > 0). This indicates that:\n",
        "\n",
        "- Most campaigns set relatively low donation targets.\n",
        "- A few campaigns request exceptionally high donations, creating a long tail on the right.\n",
        "- Such skewness can introduce instability or bias in model training.\n",
        "\n",
        "To address this, we apply a **logarithmic transformation** using `np.log1p()` to make the data more normally distributed and reduce the effect of outliers."
      ]
    },
    {
      "cell_type": "code",
      "execution_count": 54,
      "metadata": {
        "colab": {
          "base_uri": "https://localhost:8080/",
          "height": 427
        },
        "id": "CiQDCgrg6bab",
        "outputId": "37fe48b3-34eb-4b7d-8d8c-f97936f60f2e"
      },
      "outputs": [
        {
          "name": "stdout",
          "output_type": "stream",
          "text": [
            "Skewness of collected amount (in millions rupiah): 28.40\n"
          ]
        },
        {
          "name": "stderr",
          "output_type": "stream",
          "text": [
            "/Users/ratughifa/Documents/Personal Project/islamic crowdfunding campaign/venv/lib/python3.11/site-packages/scipy/_lib/_util.py:1279: RuntimeWarning: divide by zero encountered in vecdot\n",
            "  return np.vecdot(x1, x2, axis=axis)\n",
            "/Users/ratughifa/Documents/Personal Project/islamic crowdfunding campaign/venv/lib/python3.11/site-packages/scipy/_lib/_util.py:1279: RuntimeWarning: overflow encountered in vecdot\n",
            "  return np.vecdot(x1, x2, axis=axis)\n",
            "/Users/ratughifa/Documents/Personal Project/islamic crowdfunding campaign/venv/lib/python3.11/site-packages/scipy/_lib/_util.py:1279: RuntimeWarning: invalid value encountered in vecdot\n",
            "  return np.vecdot(x1, x2, axis=axis)\n"
          ]
        },
        {
          "data": {
            "image/png": "[encoded data removed]",
            "text/plain": [
              "<Figure size 800x400 with 1 Axes>"
            ]
          },
          "metadata": {},
          "output_type": "display_data"
        }
      ],
      "source": [
        "# 9. Skewness check for 'donations_collected'\n",
        "if 'donations_collected' in df.columns:\n",
        "    df['donations_collected_million'] = df['donations_collected'] / 1e6\n",
        "\n",
        "    skew_value = skew(df['donations_collected_million'].dropna())\n",
        "    print(f\"Skewness of collected amount (in millions rupiah): {skew_value:.2f}\")\n",
        "\n",
        "    # Histogram\n",
        "    plt.figure(figsize=(8, 4))\n",
        "    sns.histplot(df['donations_collected_million'], bins=50, kde=True)\n",
        "    plt.title('Distribution of Collected Amount (in millions rupiah)')\n",
        "    plt.xlabel('Collected Amount (Million Rupiah)')\n",
        "    plt.ylabel('Frequency')\n",
        "    plt.show()"
      ]
    },
    {
      "cell_type": "markdown",
      "metadata": {
        "id": "zns2Zcmu7kt-"
      },
      "source": [
        "The `donations_collected` variable shows a **right-skewed distribution**, which indicates that:\n",
        "\n",
        "- Most crowdfunding projects receive relatively **low donation amounts**, typically clustered around the lower end of the scale.\n",
        "- A **small number of projects receive disproportionately high donations**, which creates a long tail on the right side of the distribution.\n",
        "\n",
        "This pattern is common in real-world donation or fundraising datasets, where a few highly successful campaigns dominate the total contributions.\n",
        "\n",
        "We will consider applying a log transformation to this variable later in the preprocessing stage to reduce skewness and stabilize variance.\n"
      ]
    },
    {
      "cell_type": "markdown",
      "metadata": {
        "id": "zlBwRArUTSM-"
      },
      "source": [
        "#### Outlier Consideration\n",
        "\n",
        "In analyzing the donations_target and donations_collected features, I understand that such high-value campaigns are an **expected phenomenon** in the crowdfunding industry. They likely represent projects initiated by large organizations, hospitals, or media-backed efforts, which naturally attract higher donations. Removing them would distort the actual landscape of crowdfunding behavior in Indonesia. Thus, I retain them in the dataset and apply transformations (e.g. `log1p`) later during **preprocessing**.\n"
      ]
    },
    {
      "cell_type": "code",
      "execution_count": 55,
      "metadata": {
        "colab": {
          "base_uri": "https://localhost:8080/",
          "height": 797
        },
        "id": "gG8661opjZDA",
        "outputId": "42120ed3-81d0-4fa1-997e-13a52bc265b9"
      },
      "outputs": [
        {
          "data": {
            "image/png": "[encoded data removed]",
            "text/plain": [
              "<Figure size 800x400 with 1 Axes>"
            ]
          },
          "metadata": {},
          "output_type": "display_data"
        },
        {
          "data": {
            "image/png": "[encoded data removed]",
            "text/plain": [
              "<Figure size 800x400 with 1 Axes>"
            ]
          },
          "metadata": {},
          "output_type": "display_data"
        }
      ],
      "source": [
        "# 10. Visualize categorical features (1)\n",
        "categorical_features = ['campaigner_type', 'campaign_type']\n",
        "\n",
        "for col in categorical_features:\n",
        "    if col in df.columns:\n",
        "        plt.figure(figsize=(8, 4))\n",
        "        sns.countplot(data=df, x=col, order=df[col].value_counts().index)\n",
        "        plt.title(f'Distribution of {col}')\n",
        "        plt.xticks(rotation=0)\n",
        "        plt.ylabel('Total Campaign', fontsize=12)\n",
        "        plt.tight_layout()\n",
        "        plt.show()"
      ]
    },
    {
      "cell_type": "code",
      "execution_count": 56,
      "metadata": {
        "colab": {
          "base_uri": "https://localhost:8080/",
          "height": 507
        },
        "id": "WLl6Bj1d_vnX",
        "outputId": "c61b06e7-5288-4312-fe99-5159241a9d21"
      },
      "outputs": [
        {
          "data": {
            "image/png": "[encoded data removed]",
            "text/plain": [
              "<Figure size 1000x500 with 1 Axes>"
            ]
          },
          "metadata": {},
          "output_type": "display_data"
        }
      ],
      "source": [
        "# 11. Visualize categorical features (2)\n",
        "categorical_features = ['category_name']\n",
        "\n",
        "for col in categorical_features:\n",
        "    if col in df.columns:\n",
        "        plt.figure(figsize=(10, 5))  # slightly wider\n",
        "        sns.countplot(data=df, x=col, order=df[col].value_counts().index)\n",
        "        plt.title(f'Distribution of {col}', fontsize=14)\n",
        "        plt.xlabel(col, fontsize=12)\n",
        "        plt.ylabel('Total Campaign', fontsize=12)\n",
        "        plt.xticks(rotation=30, ha='right')  # tilt for readability\n",
        "        plt.tight_layout()\n",
        "        plt.show()\n"
      ]
    },
    {
      "cell_type": "markdown",
      "metadata": {
        "id": "6XY5fIQDAmdJ"
      },
      "source": [
        "### Interpretation of Categorical Features Visualization\n",
        "\n",
        "\n",
        "- Most crowdfunding projects are initiated by **organizations**, with the campaign type being **regular** —meaning the beneficiaries are clearly identified from the beginning, so donors know exactly who or what they're supporting.\n",
        "\n",
        "- **Social activities, medical aid, and humanitarian** causes are the most dominant types of crowdfunding projects in Indonesia.\n",
        "\n",
        "Category names are originally in Indonesian and will be translated in the preprocessing step for clarity in communication."
      ]
    },
    {
      "cell_type": "code",
      "execution_count": 57,
      "metadata": {
        "colab": {
          "base_uri": "https://localhost:8080/",
          "height": 657
        },
        "id": "PbCp-WpYX_Qw",
        "outputId": "e49afea9-59c3-447c-9d96-7e5e579d6e11"
      },
      "outputs": [
        {
          "data": {
            "image/png": "[encoded data removed]",
            "text/plain": [
              "<Figure size 800x800 with 1 Axes>"
            ]
          },
          "metadata": {},
          "output_type": "display_data"
        }
      ],
      "source": [
        "# 12. Campaign Distribution by Platform\n",
        "\n",
        "# Total campaign by platform\n",
        "source_counts = df['source'].value_counts()\n",
        "\n",
        "# Customize color (blue, orange, green)\n",
        "colors = ['#1f77b4', '#ff7f0e', '#2ca02c']\n",
        "\n",
        "plt.figure(figsize=(8, 8))\n",
        "wedges, texts, autotexts = plt.pie(\n",
        "    source_counts,\n",
        "    labels=None,\n",
        "    colors=colors,\n",
        "    autopct=lambda p: '{:.1f}%\\n({:,})'.format(p, int(p * sum(source_counts) / 100)), # show % with 1 decimal + actual count in pie slices\n",
        "    startangle=90, # rotate chart so it starts at 12 o’clock\n",
        "    wedgeprops={'edgecolor': 'white', 'width': 0.4},  # donut chart\n",
        "    pctdistance=0.8,       # distance of numbers to the center\n",
        "    labeldistance=1.1      # distance of labels to the outside (if any)\n",
        ")\n",
        "\n",
        "# Percentage Formatting\n",
        "for autotext in autotexts:\n",
        "    autotext.set_fontsize(7)\n",
        "    autotext.set_color('black')\n",
        "\n",
        "# Platform legend\n",
        "plt.legend(\n",
        "    wedges,\n",
        "    source_counts.index, #use category names as legends\n",
        "    title=\"Platform\",\n",
        "    loc=\"center left\",\n",
        "    bbox_to_anchor=(1, 0, 0.5, 1),\n",
        "    fontsize=11\n",
        ")\n",
        "\n",
        "plt.title('Campaign Distribution by Platform', fontsize=14)\n",
        "plt.tight_layout()\n",
        "plt.show()"
      ]
    },
    {
      "cell_type": "markdown",
      "metadata": {
        "id": "aszxQUwdYej8"
      },
      "source": [
        "The chart indicates that Kitabisa hosts significantly more campaigns compared to others. This aligns with its position as one of the leading players in the crowdfunding industry, supported by a large user base. Other platforms, while hosting fewer campaigns, still represent specific market segments and contribute to the diversity of the dataset."
      ]
    },
    {
      "cell_type": "code",
      "execution_count": 58,
      "metadata": {
        "colab": {
          "base_uri": "https://localhost:8080/"
        },
        "id": "mgv-fJPZspEq",
        "outputId": "4ad76624-34d5-4d22-f3ab-c35137c63bf2"
      },
      "outputs": [
        {
          "name": "stdout",
          "output_type": "stream",
          "text": [
            "Data type: datetime64[ns]\n",
            "Missing/Invalid dates: 0\n",
            "Date range:\n",
            "Min: 2024-12-23 07:59:59\n",
            "Max: 2038-01-19 03:14:07\n"
          ]
        }
      ],
      "source": [
        "# 13. Check Datetime Features\n",
        "datetime_col = 'expired'\n",
        "\n",
        "# Check data type\n",
        "print(\"Data type:\", df[datetime_col].dtype)\n",
        "\n",
        "# Convert to datetime if not already\n",
        "df[datetime_col] = pd.to_datetime(df[datetime_col], errors='coerce')\n",
        "\n",
        "# Check missing or invalid dates\n",
        "print(\"Missing/Invalid dates:\", df[datetime_col].isna().sum())\n",
        "\n",
        "# Display min and max dates\n",
        "print(\"Date range:\")\n",
        "print(\"Min:\", df[datetime_col].min())\n",
        "print(\"Max:\", df[datetime_col].max())"
      ]
    },
    {
      "cell_type": "markdown",
      "metadata": {
        "id": "UE8IFesS6Za-"
      },
      "source": [
        "There are still timestamp values present in the `expired` feature. These will be removed during the preprocessing step, as they are not needed for further analysis or modeling.\n"
      ]
    },
    {
      "cell_type": "markdown",
      "metadata": {
        "id": "OnYYf9jAdEs2"
      },
      "source": [
        "## Preprocessing"
      ]
    },
    {
      "cell_type": "code",
      "execution_count": 59,
      "metadata": {
        "colab": {
          "base_uri": "https://localhost:8080/"
        },
        "id": "q6h2rd-i79_k",
        "outputId": "094d275f-9ef5-4ad4-dfe5-2b650f35af9e"
      },
      "outputs": [
        {
          "name": "stdout",
          "output_type": "stream",
          "text": [
            "Index(['url', 'source', 'campaign_title', 'fundraiser_name', 'campaign_month',\n",
            "       'days_remaining', 'donations_collected', 'donations_target',\n",
            "       'category_name', 'open_goal', 'donation_percentage', 'forever_running',\n",
            "       'campaigner_type', 'campaigner_badge', 'expired', 'request_userdata',\n",
            "       'campaign_type', 'status', 'donations_target_million',\n",
            "       'donations_collected_million'],\n",
            "      dtype='object')\n"
          ]
        }
      ],
      "source": [
        "# 1. Drop unnamed/blank columns\n",
        "# These blank columns appeared during scraping but contain no useful information.\n",
        "# They are dropped to avoid noise in the dataset.\n",
        "df = df.loc[:, ~df.columns.str.contains('^Unnamed')]\n",
        "print(df.columns)"
      ]
    },
    {
      "cell_type": "code",
      "execution_count": 60,
      "metadata": {
        "colab": {
          "base_uri": "https://localhost:8080/"
        },
        "id": "6Hw-DUwaP4yd",
        "outputId": "8266edbf-a80c-41c2-ad83-704388f37fc9"
      },
      "outputs": [
        {
          "name": "stdout",
          "output_type": "stream",
          "text": [
            "0       2038-01-19\n",
            "1       2038-01-19\n",
            "2       2038-01-19\n",
            "3       2038-01-19\n",
            "4       2038-01-19\n",
            "           ...    \n",
            "8194    2025-01-15\n",
            "8195    2025-01-15\n",
            "8196    2025-01-15\n",
            "8197    2025-01-15\n",
            "8198    2025-01-15\n",
            "Name: expired, Length: 8199, dtype: object\n"
          ]
        }
      ],
      "source": [
        "# 2. Remove The Time Portion\n",
        "# Convert to datetime, then drop hours/minutes/seconds.\n",
        "# This keeps only the date, which is sufficient for analysis while avoiding unnecessary timestamp granularity.\n",
        "\n",
        "df['expired'] = pd.to_datetime(df['expired'], errors='coerce')\n",
        "\n",
        "# Remove the time portion\n",
        "df['expired'] = df['expired'].dt.date\n",
        "print(df.expired)"
      ]
    },
    {
      "cell_type": "code",
      "execution_count": 61,
      "metadata": {
        "colab": {
          "base_uri": "https://localhost:8080/"
        },
        "id": "CViG70MWEhTV",
        "outputId": "bee8957c-15de-4c74-dea0-6cc3f9006880"
      },
      "outputs": [
        {
          "name": "stdout",
          "output_type": "stream",
          "text": [
            "   donation_percentage  status\n",
            "0             2.596530       0\n",
            "1             2.046874       0\n",
            "2            36.667310       0\n",
            "3             1.175465       0\n",
            "4             0.549453       0\n"
          ]
        }
      ],
      "source": [
        "# 3. Create Percentage Column and Recode as Binary Target\n",
        "\n",
        "# Convert 'status' into percentage format for interpretability\n",
        "df['donation_percentage'] = df['status'] * 100\n",
        "\n",
        "# Recode 'status' into binary target: 1 if campaign met/exceeded target, 0 otherwise\n",
        "df['status'] = df['donation_percentage'].apply(lambda x: 1 if x >= 100 else 0)\n",
        "\n",
        "# Check results\n",
        "print(df[['donation_percentage', 'status']].head())"
      ]
    },
    {
      "cell_type": "markdown",
      "metadata": {
        "id": "tmcRSTSmixoU"
      },
      "source": [
        "The status feature originally represented the ratio between collected donations and the fundraising target.\n",
        "I first converted it into donation_percentage (e.g., 150% means a campaign raised 1.5× its target) to retain interpretability for EDA.\n",
        "Then, I recoded status into a binary target (1 = success, 0 = failure), which is more suitable for classification tasks."
      ]
    },
    {
      "cell_type": "code",
      "execution_count": 62,
      "metadata": {
        "id": "7chtAquW95Z4"
      },
      "outputs": [],
      "source": [
        "# 5. Filter Out Unfunded and Future-Expired Projects\n",
        "df['expired'] = pd.to_datetime(df['expired'], errors='coerce')\n",
        "df = df.dropna(subset=['expired'])  # If there is any NaT\n",
        "df['status'] = df['status'].astype(int)  # If there is any string\n",
        "\n",
        "cutoff_date = pd.Timestamp('2025-01-15')\n",
        "df = df[~((df['status'] == 0) & (df['expired'] > cutoff_date))]\n"
      ]
    },
    {
      "cell_type": "markdown",
      "metadata": {
        "id": "su1LRR8dAnA0"
      },
      "source": [
        "I removed two types of data:\n",
        "\n",
        "1. **Projects that haven't collected any funds** — These campaigns likely had low visibility or engagement, offering little value for modeling; and\n",
        "2. **Expired projects after 15th January 2025** — Projects with expiration dates after January 15, 2025 were excluded because they were still active at the time of data collection, and thus their final fundraising status was unknown. Since the supervised learning approach requires complete target labels, only completed campaigns were retained.\n"
      ]
    },
    {
      "cell_type": "code",
      "execution_count": 63,
      "metadata": {
        "colab": {
          "base_uri": "https://localhost:8080/"
        },
        "id": "A8ScQDciA6jF",
        "outputId": "ae57a316-533e-4433-c0cf-f5256e38d619"
      },
      "outputs": [
        {
          "name": "stdout",
          "output_type": "stream",
          "text": [
            "Number of Campaigns: 2459\n"
          ]
        }
      ],
      "source": [
        "# 6. Check Observations\n",
        "observations_df = len(df)\n",
        "print(f\"Number of Campaigns: {observations_df}\")"
      ]
    },
    {
      "cell_type": "code",
      "execution_count": 64,
      "metadata": {
        "colab": {
          "base_uri": "https://localhost:8080/"
        },
        "id": "KB3iHRdYFUET",
        "outputId": "cef2a3f3-7fda-4904-832f-b75c9f32cf21"
      },
      "outputs": [
        {
          "name": "stdout",
          "output_type": "stream",
          "text": [
            "        Total  Percentage\n",
            "status                   \n",
            "0        2247       91.38\n",
            "1         212        8.62\n"
          ]
        }
      ],
      "source": [
        "# 7. Check Status\n",
        "success_project = df['status'].value_counts()\n",
        "\n",
        "# Check percentage\n",
        "success_project_rate = df['status'].value_counts(normalize=True) * 100\n",
        "\n",
        "# Create tabel\n",
        "tabel_success_project = pd.DataFrame({\n",
        "    'Total': success_project,\n",
        "    'Percentage': success_project_rate.round(2)\n",
        "})\n",
        "\n",
        "# View tabel\n",
        "print(tabel_success_project) # there's imbalance"
      ]
    },
    {
      "cell_type": "markdown",
      "metadata": {
        "id": "RzTdJNeegHCj"
      },
      "source": [
        "In this project, a campaign is considered successful only if it reaches 100% of its donation target.\n",
        "This strict definition ensures clarity, aligns with the platform’s official KPI, and allows direct mapping of model outputs to actual business outcomes. While alternative thresholds (e.g., ≥90%) could capture near-successful campaigns, they are excluded here to maintain a consistent and objective target for evaluation.\n",
        "\n",
        "-------\n",
        "Note on Class Imbalance  \n",
        "\n",
        "The dataset exhibits a clear class imbalance, which aligns with the business context — most crowdfunding campaigns do not reach their donation targets. Only **8.6%** of campaigns are successful (`status=1`), while **91.4%** are unsuccessful (`status=0`).  \n",
        "\n",
        "This imbalance can bias models toward always predicting the majority class.  \n",
        "In particular, it increases the risk of generating **false positives**, which is the main error type to minimize for this project.  \n",
        "\n",
        "> Solutions to this challenge will be applied during model development.\n",
        "\n"
      ]
    },
    {
      "cell_type": "code",
      "execution_count": 65,
      "metadata": {
        "colab": {
          "base_uri": "https://localhost:8080/"
        },
        "id": "RxscHMEFqRcg",
        "outputId": "4ed3868b-ecfb-44d4-e220-2f07d4c2485a"
      },
      "outputs": [
        {
          "name": "stdout",
          "output_type": "stream",
          "text": [
            "Campaign Status by Campaigner Type\n",
            "(Count and Percentage per Row)\n",
            "\n",
            "status                       0             1\n",
            "campaigner_type                             \n",
            "CORPORATE             0 (0.0%)    7 (100.0%)\n",
            "ORGANIZATION     1288 (93.13%)    95 (6.87%)\n",
            "PERSONAL          959 (89.71%)  110 (10.29%)\n",
            "\n",
            "Note: The percentages are calculated within each campaigner type category.\n"
          ]
        }
      ],
      "source": [
        "# 8. Cross tabulation campain status by campaigner type\n",
        "# Cross tab for reporting\n",
        "cross_tab = pd.crosstab(df['campaigner_type'], df['status'])\n",
        "cross_tab_pct = pd.crosstab(df['campaigner_type'], df['status'], normalize='index') * 100\n",
        "\n",
        "# Combine \"Count (Percentage%)\"\n",
        "final_table = cross_tab.astype(str) + \" (\" + cross_tab_pct.round(2).astype(str) + \"%)\"\n",
        "\n",
        "# Display table with title and note\n",
        "print(\"Campaign Status by Campaigner Type\")\n",
        "print(\"(Count and Percentage per Row)\\n\")\n",
        "print(final_table)\n",
        "print(\"\\nNote: The percentages are calculated within each campaigner type category.\")\n"
      ]
    },
    {
      "cell_type": "markdown",
      "metadata": {
        "id": "EyovUcU70KAp"
      },
      "source": [
        "There are only a few crowdfunding projects initiated by corporations (such as fintech company); however, all of them have successfully achieved their donation targets. Crowdfunding platforms could engage in bilateral discussions with these corporations to learn how they promote their campaigns and explore ways to adapt these strategies for the platforms."
      ]
    },
    {
      "cell_type": "code",
      "execution_count": 66,
      "metadata": {
        "colab": {
          "base_uri": "https://localhost:8080/"
        },
        "id": "dMWQY4Oq1uQS",
        "outputId": "c32e6ae8-f5be-416d-bee4-79d80dd41857"
      },
      "outputs": [
        {
          "name": "stdout",
          "output_type": "stream",
          "text": [
            "14                     Zakat\n",
            "16                     Zakat\n",
            "25                     Zakat\n",
            "28                     Zakat\n",
            "34                     Zakat\n",
            "                ...         \n",
            "8194            Humanitarian\n",
            "8195            Humanitarian\n",
            "8196    Medical & Health Aid\n",
            "8197    Medical & Health Aid\n",
            "8198    Medical & Health Aid\n",
            "Name: category_name_en, Length: 2459, dtype: object\n"
          ]
        }
      ],
      "source": [
        "# 9. Translate `category_name` From Indonesian To English\n",
        "category_translation = {\n",
        "    'Balita & Anak Sakit': 'Sick Children',\n",
        "    'Bantuan Medis & Kesehatan': 'Medical & Health Aid',\n",
        "    'Bencana Alam': 'Natural Disaster',\n",
        "    'Bantuan Pendidikan': 'Educational Aid',\n",
        "    'Difabel': 'Disabilities',\n",
        "    'Infrastruktur Umum': 'Public Infrastructure',\n",
        "    'Karya Kreatif & Modal Usaha': 'Creative Works & Business Capital',\n",
        "    'Kegiatan Sosial': 'Social Activities',\n",
        "    'Kemanusiaan': 'Humanitarian',\n",
        "    'Menolong Hewan': 'Animal Rescue',\n",
        "    'Panti Asuhan': 'Orphanage',\n",
        "    'Rumah Ibadah': 'Place of Worship',\n",
        "    'Wakaf': 'Waqf',\n",
        "    'Zakat': 'Zakat',\n",
        "}\n",
        "\n",
        "df['category_name_en'] = df['category_name'].map(category_translation)\n",
        "\n",
        "print(df.category_name_en)"
      ]
    },
    {
      "cell_type": "markdown",
      "metadata": {
        "id": "cyHoHanPo-VE"
      },
      "source": [
        "### Context: Zakat and Waqf\n",
        "\n",
        "- **Zakat**: A form of *mandatory almsgiving* in Islam, usually calculated as a fixed percentage of wealth or income. It functions as a social safety net to support the poor and vulnerable.  \n",
        "- **Waqf**: A form of *Islamic endowment*, where individuals donate assets (such as land, property, or funds) for perpetual charitable purposes, e.g., education, healthcare, or public welfare.  \n",
        "\n",
        "Both concepts play a central role in Islamic philanthropy and are common in crowdfunding platforms for social and religious causes.\n"
      ]
    },
    {
      "cell_type": "code",
      "execution_count": 67,
      "metadata": {
        "colab": {
          "base_uri": "https://localhost:8080/",
          "height": 585
        },
        "id": "opZVIVuTaGUr",
        "outputId": "8e3c516e-0ab3-4302-9e95-ce1c793440b4"
      },
      "outputs": [
        {
          "data": {
            "image/png": "[encoded data removed]",
            "text/plain": [
              "<Figure size 1200x600 with 2 Axes>"
            ]
          },
          "metadata": {},
          "output_type": "display_data"
        }
      ],
      "source": [
        "# 10. Campaign Category Magnitude Based on Platforms\n",
        "# Calculate frequency\n",
        "count_df = df.groupby(['source', 'category_name_en']).size().reset_index(name='count')\n",
        "\n",
        "# Pivot table for heatmap\n",
        "pivot_df = count_df.pivot(index='source', columns='category_name_en', values='count').fillna(0)\n",
        "\n",
        "# Plot heatmap\n",
        "plt.figure(figsize=(12, 6))\n",
        "sns.heatmap(\n",
        "    pivot_df,\n",
        "    annot=False,      # showing value in cell\n",
        "    fmt='.0f',        # number format\n",
        "    cmap='Blues'      # darker color indicates higher value\n",
        ")\n",
        "\n",
        "plt.title('Magnitude of Campaign Categories by Platform', fontsize=14)\n",
        "plt.xlabel('')\n",
        "plt.ylabel('')\n",
        "plt.xticks(rotation=45, ha='right')\n",
        "plt.yticks(rotation=0)\n",
        "plt.tight_layout()\n",
        "plt.show()"
      ]
    },
    {
      "cell_type": "markdown",
      "metadata": {
        "id": "CNWLZ0UlPxq8"
      },
      "source": [
        "Based on the magnitude of campaigns across platforms, there are diverse crowdfunding contexts within the ecosystem. The high saturation on Kitabisa.com indicates that it is the leading choice for fundraisers. The large share of humanitarian and social activities campaigns may signal to the government the public’s needs, and could also suggest to the platform that these categories deserve increased promotional focus."
      ]
    },
    {
      "cell_type": "code",
      "execution_count": 68,
      "metadata": {
        "colab": {
          "base_uri": "https://localhost:8080/",
          "height": 410
        },
        "id": "LqXwh4Iv4Y5z",
        "outputId": "d73198a9-3f19-4e90-cdbc-7ab214fbcf12"
      },
      "outputs": [
        {
          "name": "stderr",
          "output_type": "stream",
          "text": [
            "/Users/ratughifa/Documents/Personal Project/islamic crowdfunding campaign/venv/lib/python3.11/site-packages/scipy/_lib/_util.py:1279: RuntimeWarning: divide by zero encountered in vecdot\n",
            "  return np.vecdot(x1, x2, axis=axis)\n",
            "/Users/ratughifa/Documents/Personal Project/islamic crowdfunding campaign/venv/lib/python3.11/site-packages/scipy/_lib/_util.py:1279: RuntimeWarning: overflow encountered in vecdot\n",
            "  return np.vecdot(x1, x2, axis=axis)\n",
            "/Users/ratughifa/Documents/Personal Project/islamic crowdfunding campaign/venv/lib/python3.11/site-packages/scipy/_lib/_util.py:1279: RuntimeWarning: invalid value encountered in vecdot\n",
            "  return np.vecdot(x1, x2, axis=axis)\n"
          ]
        },
        {
          "data": {
            "image/png": "[encoded data removed]",
            "text/plain": [
              "<Figure size 800x400 with 1 Axes>"
            ]
          },
          "metadata": {},
          "output_type": "display_data"
        }
      ],
      "source": [
        "# 11. Transform `donations_target` To Log Form\n",
        "df['log_donations_target'] = np.log1p(df['donations_target'])\n",
        "\n",
        "plt.figure(figsize=(8, 4))\n",
        "sns.histplot(df['log_donations_target'], bins=50, kde=True)\n",
        "plt.title('Log-Transformed Distribution of donations_target')\n",
        "plt.xlabel('log1p(donations_target)')\n",
        "plt.ylabel('Frequency')\n",
        "plt.show()\n"
      ]
    },
    {
      "cell_type": "code",
      "execution_count": 69,
      "metadata": {
        "colab": {
          "base_uri": "https://localhost:8080/",
          "height": 410
        },
        "id": "JI8e1rfhLzR1",
        "outputId": "08444bd0-d6c9-4caa-cd91-2270688c2491"
      },
      "outputs": [
        {
          "name": "stderr",
          "output_type": "stream",
          "text": [
            "/Users/ratughifa/Documents/Personal Project/islamic crowdfunding campaign/venv/lib/python3.11/site-packages/scipy/_lib/_util.py:1279: RuntimeWarning: divide by zero encountered in vecdot\n",
            "  return np.vecdot(x1, x2, axis=axis)\n",
            "/Users/ratughifa/Documents/Personal Project/islamic crowdfunding campaign/venv/lib/python3.11/site-packages/scipy/_lib/_util.py:1279: RuntimeWarning: overflow encountered in vecdot\n",
            "  return np.vecdot(x1, x2, axis=axis)\n",
            "/Users/ratughifa/Documents/Personal Project/islamic crowdfunding campaign/venv/lib/python3.11/site-packages/scipy/_lib/_util.py:1279: RuntimeWarning: invalid value encountered in vecdot\n",
            "  return np.vecdot(x1, x2, axis=axis)\n"
          ]
        },
        {
          "data": {
            "image/png": "[encoded data removed]",
            "text/plain": [
              "<Figure size 800x400 with 1 Axes>"
            ]
          },
          "metadata": {},
          "output_type": "display_data"
        }
      ],
      "source": [
        "# 12. Transform `donations_collected` To Log Form\n",
        "df['log_donations_collected'] = np.log1p(df['donations_collected'])\n",
        "\n",
        "plt.figure(figsize=(8, 4))\n",
        "sns.histplot(df['log_donations_collected'], bins=50, kde=True)\n",
        "plt.title('Log-Transformed Distribution of donations_collected')\n",
        "plt.xlabel('log1p(donations_collected)')\n",
        "plt.ylabel('Frequency')\n",
        "plt.show()\n"
      ]
    },
    {
      "cell_type": "markdown",
      "metadata": {
        "id": "lSllskWw5UpT"
      },
      "source": [
        "#### Post-transformation Insight\n",
        "\n",
        "After the log transformation, the distribution becomes more symmetrical. This will help improve the performance of many machine learning models that assume linearity or normality in the input features.\n"
      ]
    },
    {
      "cell_type": "markdown",
      "metadata": {
        "id": "etcAlciH4PrJ"
      },
      "source": [
        "> Encoding Note:\n",
        ">\n",
        "> Categorical features such as `platform`, `campaigner_type`, and `campaign_type` are retained in their original form for now.  \n",
        "> One Hot Encoding will be applied later using appropriate techniques for each model during the pipeline phase.\n"
      ]
    },
    {
      "cell_type": "markdown",
      "metadata": {
        "id": "Ie_W6ZTaj_oe"
      },
      "source": [
        "## Train Test Split"
      ]
    },
    {
      "cell_type": "code",
      "execution_count": 70,
      "metadata": {
        "id": "2Qc2Rs23xY5X"
      },
      "outputs": [],
      "source": [
        "# 1. Define Features and Target\n",
        "\n",
        "X = df[['source', 'category_name_en', 'campaign_type', 'log_donations_target','forever_running']]\n",
        "y = df['status']"
      ]
    },
    {
      "cell_type": "code",
      "execution_count": 71,
      "metadata": {
        "colab": {
          "base_uri": "https://localhost:8080/"
        },
        "id": "_RRSus3uo7LZ",
        "outputId": "c6b0acba-d9a2-4e68-c94b-5c477d9b4bee"
      },
      "outputs": [
        {
          "name": "stdout",
          "output_type": "stream",
          "text": [
            "Train size: (1967, 5)\n",
            "Test size: (492, 5)\n",
            "Class balance in train: status\n",
            "0    0.913574\n",
            "1    0.086426\n",
            "Name: proportion, dtype: float64\n",
            "Class balance in test : status\n",
            "0    0.914634\n",
            "1    0.085366\n",
            "Name: proportion, dtype: float64\n"
          ]
        }
      ],
      "source": [
        "# 2.Train-Test Split\n",
        "\n",
        "# Stratify to maintain the class distribution (important for imbalanced binary classification)\n",
        "X_train, X_test, y_train, y_test = train_test_split(\n",
        "    X, y,\n",
        "    test_size=0.2,\n",
        "    stratify=y,\n",
        "    random_state=42\n",
        ")\n",
        "\n",
        "# Quick check\n",
        "print(\"Train size:\", X_train.shape)\n",
        "print(\"Test size:\", X_test.shape)\n",
        "print(\"Class balance in train:\", y_train.value_counts(normalize=True))\n",
        "print(\"Class balance in test :\", y_test.value_counts(normalize=True))\n"
      ]
    },
    {
      "cell_type": "markdown",
      "metadata": {
        "id": "hVK_NCCoX0Aj"
      },
      "source": [
        "I adopted an 80:20 train-test split because this ratio is among the most widely used in the literature. According to Vrigazova (2021) and Tan et al. (2021), both 70:30 and 80:20 splits provide a good balance between training and testing data, ensuring sufficient information for model learning while maintaining enough data to evaluate generalization performance. This makes the 80:20 split a robust and reliable choice across various contexts.\n",
        "\n",
        "Source:\n",
        "- https://sciendo.com/article/10.2478/bsrj-2021-0015\n",
        "- https://arxiv.org/abs/2106.04525"
      ]
    },
    {
      "cell_type": "markdown",
      "metadata": {
        "id": "xVHQfMgXq0IW"
      },
      "source": [
        "## Pre-Processing Pipeline"
      ]
    },
    {
      "cell_type": "code",
      "execution_count": 72,
      "metadata": {
        "colab": {
          "base_uri": "https://localhost:8080/"
        },
        "id": "bmtnYS93NTTx",
        "outputId": "50026ffc-dbec-45b7-c66c-b8151939b993"
      },
      "outputs": [
        {
          "name": "stdout",
          "output_type": "stream",
          "text": [
            "['source', 'category_name_en', 'campaign_type']\n"
          ]
        }
      ],
      "source": [
        "# 1. Check Categorical Variables To Be Encoded\n",
        "check = X_train.select_dtypes(include='object').columns.tolist()\n",
        "print(check)"
      ]
    },
    {
      "cell_type": "code",
      "execution_count": 73,
      "metadata": {
        "colab": {
          "base_uri": "https://localhost:8080/"
        },
        "id": "OLd_69eenWTO",
        "outputId": "a35e8205-5c62-4ea0-b796-d872ab86d9c1"
      },
      "outputs": [
        {
          "data": {
            "text/plain": [
              "dtype('int64')"
            ]
          },
          "execution_count": 73,
          "metadata": {},
          "output_type": "execute_result"
        }
      ],
      "source": [
        "# 2. Checking forever_running Data Type\n",
        "X_train['forever_running'] = X_train['forever_running'].astype(int)\n",
        "X_train.dtypes['forever_running']"
      ]
    },
    {
      "cell_type": "code",
      "execution_count": 74,
      "metadata": {
        "id": "6unNBpq_rOrc"
      },
      "outputs": [],
      "source": [
        "# 3. Define Feature Types\n",
        "categorical_cols = ['source', 'category_name_en', 'campaign_type']\n",
        "binary_cols = ['forever_running']\n",
        "numerical_cols = ['log_donations_target']"
      ]
    },
    {
      "cell_type": "code",
      "execution_count": 75,
      "metadata": {
        "id": "MGgmoq7fa5Fu"
      },
      "outputs": [],
      "source": [
        "# 4. Preprocessing Pipeline for Logistic Regression\n",
        "\n",
        "preprocessor_lr = ColumnTransformer(\n",
        "    transformers=[\n",
        "        ('num', StandardScaler(), numerical_cols), # standardize numerical features\n",
        "        ('binary', 'passthrough', binary_cols),\n",
        "        ('cat', OneHotEncoder(handle_unknown='ignore'), categorical_cols)\n",
        "    ]\n",
        ")\n",
        "\n",
        "# Fit-transform the training set\n",
        "X_train_lr = preprocessor_lr.fit_transform(X_train)\n",
        "\n",
        "# Transform the test set\n",
        "X_test_lr = preprocessor_lr.transform(X_test)\n"
      ]
    },
    {
      "cell_type": "markdown",
      "metadata": {
        "id": "WYdA8CBgqcH5"
      },
      "source": [
        "### Note on Preprocessing Pipeline for Logistic Regression\n",
        "\n",
        "To keep the workflow clean and reproducible, I used a **ColumnTransformer** within a preprocessing pipeline:  \n",
        "\n",
        "- **Numerical features** → standardized using StandardScaler to help the model converge faster, remain stable, and avoid bias from features with larger scales\n",
        "- **Binary features** → also passed through as they are already encoded (0/1).  \n",
        "- **Categorical features** → transformed with **One-Hot Encoding** (convert categories into binary columns), with `handle_unknown='ignore'` to safely handle unseen categories in the test set.  \n",
        "\n",
        "This setup ensures that the exact same transformations are applied consistently to both the training and test sets. It also makes the model more production-ready, since all preprocessing steps are bundled into one pipeline instead of being scattered across the notebook.\n"
      ]
    },
    {
      "cell_type": "code",
      "execution_count": 76,
      "metadata": {
        "id": "-BBF-Oi0JZVT"
      },
      "outputs": [],
      "source": [
        "# 5. Preprocessing Pipeline for Random Forest and XGBoost\n",
        "\n",
        "# Copy X_train and X_test To Prevent Interference With Other Pipelines\n",
        "X_train_tree = X_train.copy()\n",
        "X_test_tree = X_test.copy()\n",
        "\n",
        "# Define Categorical and Binary Columns\n",
        "categorical_cols_tree = ['source', 'category_name_en', 'campaign_type']\n",
        "binary_cols_tree = ['forever_running']\n",
        "\n",
        "# Create ColumnTransformer using OneHotEncoder\n",
        "preprocessor_tree = ColumnTransformer(\n",
        "    transformers=[\n",
        "        ('cat', OneHotEncoder(handle_unknown='error'), categorical_cols_tree),\n",
        "        ('bin', 'passthrough', binary_cols_tree)\n",
        "    ],\n",
        "    remainder='passthrough'\n",
        ")\n",
        "\n",
        "# Fit and Transform Data\n",
        "X_train_tree_final = preprocessor_tree.fit_transform(X_train_tree)\n",
        "X_test_tree_final = preprocessor_tree.transform(X_test_tree)\n",
        "\n",
        "# Convert to Dense Array (because OneHotEncoder result is sparse)\n",
        "X_train_tree_final = X_train_tree_final.toarray()\n",
        "X_test_tree_final = X_test_tree_final.toarray()\n",
        "\n",
        "# Get Feature Names Directly From ColumnTransformer\n",
        "feature_names_tree = preprocessor_tree.get_feature_names_out()\n",
        "\n",
        "# Create Encoding Result DataFrame\n",
        "X_train_tree_df = pd.DataFrame(\n",
        "    X_train_tree_final,\n",
        "    columns=feature_names_tree,\n",
        "    index=X_train_tree.index\n",
        ")\n",
        "\n",
        "X_test_tree_df = pd.DataFrame(\n",
        "    X_test_tree_final,\n",
        "    columns=feature_names_tree,\n",
        "    index=X_test_tree.index\n",
        ")"
      ]
    },
    {
      "cell_type": "markdown",
      "metadata": {
        "id": "VZ9R7vAoEB71"
      },
      "source": [
        "#### Note on Preprocessing for Random Forest and XGBoost  \n",
        "\n",
        "Unlike Logistic Regression (which requires numerical input only), tree-based models such as **Random Forest** and **XGBoost** can directly handle mixed feature types with less preprocessing.  \n",
        "\n",
        "Here’s how I prepared the data for these models:  \n",
        "\n",
        "- **Categorical features** (`source`, `category_name_en`, `campaign_type`) → transformed using **One-Hot Encoding**.  \n",
        "- **Binary features** (`forever_running`) → kept as they are (0/1).  \n",
        "- **Numerical features** → passed through unchanged.  \n",
        "\n",
        "Because `OneHotEncoder` produces a **sparse matrix**, I converted the result to a **dense array** and wrapped it in a DataFrame with feature names. This makes it easier to inspect, debug, and interpret feature importance later.  \n",
        "\n",
        "This pipeline ensures consistent preprocessing between train and test data, while also making feature engineering transparent for analysis and future deployment.\n"
      ]
    },
    {
      "cell_type": "code",
      "execution_count": 77,
      "metadata": {
        "colab": {
          "base_uri": "https://localhost:8080/"
        },
        "id": "xduxmBfrwngJ",
        "outputId": "19d58bce-6339-4230-eda8-d87fce7369f0"
      },
      "outputs": [
        {
          "name": "stdout",
          "output_type": "stream",
          "text": [
            "Categorical cols tree: ['source', 'category_name_en', 'campaign_type']\n",
            "Binary cols tree: ['forever_running']\n",
            "Shape after transform (train): (1967, 21)\n",
            "Shape after transform (test): (492, 21)\n",
            "Feature names length: 21\n"
          ]
        }
      ],
      "source": [
        "# 6. Sanity Check: Print Key Preprocessing Information\n",
        "\n",
        "print(\"Categorical cols tree:\", categorical_cols_tree)\n",
        "print(\"Binary cols tree:\", binary_cols_tree)\n",
        "print(\"Shape after transform (train):\", X_train_tree_final.shape)\n",
        "print(\"Shape after transform (test):\", X_test_tree_final.shape)\n",
        "print(\"Feature names length:\", len(feature_names_tree))"
      ]
    },
    {
      "cell_type": "markdown",
      "metadata": {
        "id": "RkGy8Oyd--2U"
      },
      "source": [
        "These print statements serve as a preprocessing validation step. They confirm which columns were encoded, which were passed through, and the final dimensionality of the transformed dataset."
      ]
    },
    {
      "cell_type": "code",
      "execution_count": 78,
      "metadata": {
        "colab": {
          "base_uri": "https://localhost:8080/"
        },
        "id": "TJTwTJyRGf6u",
        "outputId": "a6728261-8e7e-4c8d-a956-c6071efc594d"
      },
      "outputs": [
        {
          "name": "stdout",
          "output_type": "stream",
          "text": [
            "\n",
            "=== Encoded Result Sample for 'category_name_en' (first 10 rows) ===\n",
            "      category_name_en_Animal Rescue  \\\n",
            "2482                             0.0   \n",
            "6084                             0.0   \n",
            "1458                             0.0   \n",
            "2117                             0.0   \n",
            "4523                             0.0   \n",
            "2574                             0.0   \n",
            "5991                             0.0   \n",
            "5274                             0.0   \n",
            "7274                             0.0   \n",
            "5842                             0.0   \n",
            "\n",
            "      category_name_en_Creative Works & Business Capital  \\\n",
            "2482                                                0.0    \n",
            "6084                                                0.0    \n",
            "1458                                                0.0    \n",
            "2117                                                0.0    \n",
            "4523                                                0.0    \n",
            "2574                                                0.0    \n",
            "5991                                                0.0    \n",
            "5274                                                1.0    \n",
            "7274                                                0.0    \n",
            "5842                                                0.0    \n",
            "\n",
            "      category_name_en_Disabilities  category_name_en_Educational Aid  \\\n",
            "2482                            0.0                               0.0   \n",
            "6084                            0.0                               1.0   \n",
            "1458                            0.0                               0.0   \n",
            "2117                            0.0                               0.0   \n",
            "4523                            0.0                               0.0   \n",
            "2574                            0.0                               0.0   \n",
            "5991                            0.0                               1.0   \n",
            "5274                            0.0                               0.0   \n",
            "7274                            0.0                               0.0   \n",
            "5842                            0.0                               1.0   \n",
            "\n",
            "      category_name_en_Humanitarian  category_name_en_Medical & Health Aid  \\\n",
            "2482                            1.0                                    0.0   \n",
            "6084                            0.0                                    0.0   \n",
            "1458                            0.0                                    0.0   \n",
            "2117                            1.0                                    0.0   \n",
            "4523                            0.0                                    0.0   \n",
            "2574                            1.0                                    0.0   \n",
            "5991                            0.0                                    0.0   \n",
            "5274                            0.0                                    0.0   \n",
            "7274                            0.0                                    1.0   \n",
            "5842                            0.0                                    0.0   \n",
            "\n",
            "      category_name_en_Natural Disaster  category_name_en_Orphanage  \\\n",
            "2482                                0.0                         0.0   \n",
            "6084                                0.0                         0.0   \n",
            "1458                                0.0                         1.0   \n",
            "2117                                0.0                         0.0   \n",
            "4523                                0.0                         0.0   \n",
            "2574                                0.0                         0.0   \n",
            "5991                                0.0                         0.0   \n",
            "5274                                0.0                         0.0   \n",
            "7274                                0.0                         0.0   \n",
            "5842                                0.0                         0.0   \n",
            "\n",
            "      category_name_en_Place of Worship  \\\n",
            "2482                                0.0   \n",
            "6084                                0.0   \n",
            "1458                                0.0   \n",
            "2117                                0.0   \n",
            "4523                                0.0   \n",
            "2574                                0.0   \n",
            "5991                                0.0   \n",
            "5274                                0.0   \n",
            "7274                                0.0   \n",
            "5842                                0.0   \n",
            "\n",
            "      category_name_en_Public Infrastructure  category_name_en_Sick Children  \\\n",
            "2482                                     0.0                             0.0   \n",
            "6084                                     0.0                             0.0   \n",
            "1458                                     0.0                             0.0   \n",
            "2117                                     0.0                             0.0   \n",
            "4523                                     0.0                             0.0   \n",
            "2574                                     0.0                             0.0   \n",
            "5991                                     0.0                             0.0   \n",
            "5274                                     0.0                             0.0   \n",
            "7274                                     0.0                             0.0   \n",
            "5842                                     0.0                             0.0   \n",
            "\n",
            "      category_name_en_Social Activities  category_name_en_Waqf  \\\n",
            "2482                                 0.0                    0.0   \n",
            "6084                                 0.0                    0.0   \n",
            "1458                                 0.0                    0.0   \n",
            "2117                                 0.0                    0.0   \n",
            "4523                                 1.0                    0.0   \n",
            "2574                                 0.0                    0.0   \n",
            "5991                                 0.0                    0.0   \n",
            "5274                                 0.0                    0.0   \n",
            "7274                                 0.0                    0.0   \n",
            "5842                                 0.0                    0.0   \n",
            "\n",
            "      category_name_en_Zakat  \n",
            "2482                     0.0  \n",
            "6084                     0.0  \n",
            "1458                     0.0  \n",
            "2117                     0.0  \n",
            "4523                     0.0  \n",
            "2574                     0.0  \n",
            "5991                     0.0  \n",
            "5274                     0.0  \n",
            "7274                     0.0  \n",
            "5842                     0.0  \n",
            "\n",
            "=== Original Value Sample (first 10 rows) ===\n",
            "                     Humanitarian\n",
            "                  Educational Aid\n",
            "                        Orphanage\n",
            "                     Humanitarian\n",
            "                Social Activities\n",
            "                     Humanitarian\n",
            "                  Educational Aid\n",
            "Creative Works & Business Capital\n",
            "             Medical & Health Aid\n",
            "                  Educational Aid\n"
          ]
        }
      ],
      "source": [
        "# 7. Checking The Encoding Result (OneHotEncoder version)\n",
        "\n",
        "# Get OneHotEncoder from preprocessor\n",
        "encoder = preprocessor_tree.named_transformers_['cat']\n",
        "\n",
        "# Transform category coulumn\n",
        "X_train_tree_ohe = encoder.transform(X_train_tree[categorical_cols_tree])\n",
        "\n",
        "# Convert to dense array\n",
        "X_train_tree_ohe = X_train_tree_ohe.toarray()\n",
        "\n",
        "# Get feature names from OHE\n",
        "ohe_feature_names = encoder.get_feature_names_out(categorical_cols_tree)\n",
        "\n",
        "# Create DataFrame  \n",
        "X_train_tree_ohe_df = pd.DataFrame(\n",
        "    X_train_tree_ohe,\n",
        "    columns=ohe_feature_names,\n",
        "    index=X_train_tree.index\n",
        ")\n",
        "\n",
        "# Print the result of 'category_name_en'\n",
        "print(\"\\n=== Encoded Result Sample for 'category_name_en' (first 10 rows) ===\")\n",
        "print(X_train_tree_ohe_df.filter(like=\"category_name_en\").head(10))\n",
        "\n",
        "# Compare with original\n",
        "print(\"\\n=== Original Value Sample (first 10 rows) ===\")\n",
        "print(X_train_tree['category_name_en'].head(10).to_string(index=False))\n",
        "\n"
      ]
    },
    {
      "cell_type": "markdown",
      "metadata": {
        "id": "wiLs4ublDDSH"
      },
      "source": [
        "We retrieve the OneHotEncoder from the preprocessing pipeline and transform the categorical columns into a DataFrame with proper column names.\n",
        "Print categories per column to see the mapping from original values to one-hot columns.\n",
        "Inspect a sample of encoded values for category_name_en and compare with the original data to verify correctness."
      ]
    },
    {
      "cell_type": "code",
      "execution_count": 79,
      "metadata": {
        "id": "PUesRMQ05dvs"
      },
      "outputs": [],
      "source": [
        "# 8. Extract Target Variable\n",
        "y = df['status']"
      ]
    },
    {
      "cell_type": "markdown",
      "metadata": {
        "id": "4qb3BNR7rMN3"
      },
      "source": [
        "## Modeling"
      ]
    },
    {
      "cell_type": "markdown",
      "metadata": {
        "id": "BPCpOjnUW2Lm"
      },
      "source": [
        "### Creating Baseline Model"
      ]
    },
    {
      "cell_type": "markdown",
      "metadata": {
        "id": "eIeR2VToEJOY"
      },
      "source": [
        "#### Logistic Regression"
      ]
    },
    {
      "cell_type": "code",
      "execution_count": 80,
      "metadata": {
        "id": "833J6kzq0CN5"
      },
      "outputs": [],
      "source": [
        "# 1. Train and Predict With Logistic Regression Model\n",
        "\n",
        "# Train Logistic Regression model\n",
        "model_lr = LogisticRegression(max_iter=1000)\n",
        "\n",
        "# Fit model to training data\n",
        "model_lr.fit(X_train_lr, y_train)\n",
        "\n",
        "# Predict on test data\n",
        "y_pred_lr = model_lr.predict(X_test_lr)"
      ]
    },
    {
      "cell_type": "code",
      "execution_count": 81,
      "metadata": {
        "colab": {
          "base_uri": "https://localhost:8080/"
        },
        "id": "9ugcnxz2RMaK",
        "outputId": "74e864c0-b562-4f5f-d732-893485591873"
      },
      "outputs": [
        {
          "name": "stdout",
          "output_type": "stream",
          "text": [
            "Logistic Regression Evaluation:\n",
            "              precision    recall  f1-score   support\n",
            "\n",
            "           0       0.98      1.00      0.99       450\n",
            "           1       1.00      0.79      0.88        42\n",
            "\n",
            "    accuracy                           0.98       492\n",
            "   macro avg       0.99      0.89      0.94       492\n",
            "weighted avg       0.98      0.98      0.98       492\n",
            "\n",
            "ROC AUC: 0.9178042328042328\n"
          ]
        }
      ],
      "source": [
        "# 2. Logistic Regression Evaluation: Classification report and ROC AUC\n",
        "print(\"Logistic Regression Evaluation:\")\n",
        "\n",
        "# Display precision, recall, f1-score, and support for each class\n",
        "print(classification_report(y_test, y_pred_lr))\n",
        "\n",
        "# Display ROC AUC score using predicted probabilities\n",
        "print(\"ROC AUC:\", roc_auc_score(y_test, model_lr.predict_proba(X_test_lr)[:, 1]))"
      ]
    },
    {
      "cell_type": "markdown",
      "metadata": {
        "id": "erFqWRC2D590"
      },
      "source": [
        "Evaluation Metrics\n",
        "\n",
        "- Precision: proportion of predicted positives that are actually positive. Important here because we want to minimize false positives.\n",
        "\n",
        "- Recall: proportion of actual positives correctly identified.\n",
        "\n",
        "- F1-score: harmonic mean of precision and recall.\n",
        "\n",
        "- ROC AUC: measures overall ability to distinguish between classes, independent of threshold."
      ]
    },
    {
      "cell_type": "markdown",
      "metadata": {
        "id": "FbaDltc-QY2V"
      },
      "source": [
        "- Classification report interpretation\n",
        "\n",
        "Model shows strong performance on the majority class but underdetects the minority class. Although precision is high for both classes, the recall for class 1 (0.79) suggests that some positive cases are missed. Logistic Regression is a linear model, and may not be the best fit if the relationship between features and the target variable is non-linear or involves complex interactions.\n",
        "\n",
        "- ROC AUC interpretation\n",
        "\n",
        "The model can distinguish between the positive and negative classes with 0.92 effectiveness, considering all possible classification thresholds"
      ]
    },
    {
      "cell_type": "markdown",
      "metadata": {
        "id": "aYVNeJPrENGS"
      },
      "source": [
        "#### Random Forest"
      ]
    },
    {
      "cell_type": "code",
      "execution_count": 82,
      "metadata": {
        "id": "6rpvXti00Fgu"
      },
      "outputs": [],
      "source": [
        "# 3. Train and Predict With Random Forest\n",
        "\n",
        "# Train Random Forest Model\n",
        "model_rf = RandomForestClassifier(random_state=42)\n",
        "\n",
        "# Fit model to training data\n",
        "model_rf.fit(X_train_tree_final, y_train)\n",
        "\n",
        "# Predict on test data\n",
        "y_pred_rf = model_rf.predict(X_test_tree_final)"
      ]
    },
    {
      "cell_type": "code",
      "execution_count": 83,
      "metadata": {
        "id": "dDqsHmL7_T01"
      },
      "outputs": [],
      "source": [
        "# Predict class probabilities for class 1 (positive class)\n",
        "y_proba_rf = model_rf.predict_proba(X_test_tree_final)[:, 1]\n",
        "\n",
        "# Apply custom threshold (e.g., 0.65) to convert probabilities into binary predictions\n",
        "# Increase threshold to 0.65 to reduce false positives and improve precision\n",
        "y_pred_rf_thresh = (y_proba_rf >= 0.65).astype(int)"
      ]
    },
    {
      "cell_type": "code",
      "execution_count": 84,
      "metadata": {
        "colab": {
          "base_uri": "https://localhost:8080/"
        },
        "id": "bdv1q2OukW_K",
        "outputId": "f4e28731-d2a0-4854-c925-7b12050ef7fd"
      },
      "outputs": [
        {
          "name": "stdout",
          "output_type": "stream",
          "text": [
            "Random Forest with Threshold 0.65\n",
            "[[450   0]\n",
            " [  8  34]]\n",
            "              precision    recall  f1-score   support\n",
            "\n",
            "           0       0.98      1.00      0.99       450\n",
            "           1       1.00      0.81      0.89        42\n",
            "\n",
            "    accuracy                           0.98       492\n",
            "   macro avg       0.99      0.90      0.94       492\n",
            "weighted avg       0.98      0.98      0.98       492\n",
            "\n",
            "ROC AUC: 0.9459259259259258\n"
          ]
        }
      ],
      "source": [
        "# 4. Random Forest Evaluation: Classification report and ROC AUC\n",
        "\n",
        "# Display precision, recall, f1-score, and support for each class\n",
        "print(\"Random Forest with Threshold 0.65\")\n",
        "print(confusion_matrix(y_test, y_pred_rf_thresh))\n",
        "print(classification_report(y_test, y_pred_rf_thresh))\n",
        "print(\"ROC AUC:\", roc_auc_score(y_test, y_proba_rf))"
      ]
    },
    {
      "cell_type": "markdown",
      "metadata": {
        "id": "2GdfMtUnJASd"
      },
      "source": [
        "I decided to use domain-driven thresholding instead of a purely statistical approach (e.g., Youden’s J). In crowdfunding, false positives are particularly costly: when the platform promotes a campaign that ultimately fails, it wastes marketing resources and risks damaging both fundraiser trust and the platform’s brand reputation.  \n",
        "By raising the threshold to 0.65, the model becomes stricter in classifying “successful” campaigns, reducing false positives and ensuring that only the most promising campaigns receive additional support.  \n"
      ]
    },
    {
      "cell_type": "markdown",
      "metadata": {
        "id": "zSG5_7vHgvQj"
      },
      "source": [
        "- Classification report interpretation\n",
        "\n",
        "The model achieves perfect precision for the positive class (1.00) and high recall (0.81), indicating it rarely predicts false positives but misses a small portion of actual positives.\n",
        "\n",
        "- ROC AUC interpretation\n",
        "\n",
        "The high ROC AUC (0.95) confirms strong overall discriminative ability, with balanced performance across both classes despite the imbalanced data.\n",
        "\n"
      ]
    },
    {
      "cell_type": "markdown",
      "metadata": {
        "id": "j7e8P-bhEQYd"
      },
      "source": [
        "#### XGBoost"
      ]
    },
    {
      "cell_type": "code",
      "execution_count": 85,
      "metadata": {
        "colab": {
          "base_uri": "https://localhost:8080/"
        },
        "id": "aXVZKj_pRxxb",
        "outputId": "8e21f8d8-39bf-4d3a-83ee-8ee3246fddde"
      },
      "outputs": [
        {
          "name": "stderr",
          "output_type": "stream",
          "text": [
            "/Users/ratughifa/Documents/Personal Project/islamic crowdfunding campaign/venv/lib/python3.11/site-packages/xgboost/training.py:183: UserWarning: [19:17:47] WARNING: /Users/runner/work/xgboost/xgboost/src/learner.cc:738: \n",
            "Parameters: { \"use_label_encoder\" } are not used.\n",
            "\n",
            "  bst.update(dtrain, iteration=i, fobj=obj)\n"
          ]
        }
      ],
      "source": [
        "# 5. Train and Predict With Boosted Trees (XGBoost)\n",
        "\n",
        "# Train XGBoost Model\n",
        "model_xgb = XGBClassifier(use_label_encoder=False, eval_metric='logloss', random_state=42)\n",
        "\n",
        "# Fit model to training data\n",
        "model_xgb.fit(X_train_tree_final, y_train)\n",
        "\n",
        "# Predict on test data\n",
        "y_pred_xgb = model_xgb.predict(X_test_tree_final)"
      ]
    },
    {
      "cell_type": "code",
      "execution_count": 86,
      "metadata": {
        "id": "F-GG1lZ9_aSm"
      },
      "outputs": [],
      "source": [
        "# Predict class probabilities for class 1 (positive class)\n",
        "y_proba_xgb = model_xgb.predict_proba(X_test_tree_final)[:, 1]\n",
        "\n",
        "# Apply custom threshold (e.g., 0.65) to convert probabilities into binary predictions\n",
        "# Increase threshold to 0.65 to reduce false positives and improve precision\n",
        "y_pred_xgb_thresh = (y_proba_xgb >= 0.65).astype(int)"
      ]
    },
    {
      "cell_type": "code",
      "execution_count": 87,
      "metadata": {
        "colab": {
          "base_uri": "https://localhost:8080/"
        },
        "id": "ajWNVgDdR0_s",
        "outputId": "7df0c760-b28b-4055-8437-e17246131814"
      },
      "outputs": [
        {
          "name": "stdout",
          "output_type": "stream",
          "text": [
            "XGBoost with Threshold 0.65\n",
            "[[450   0]\n",
            " [  9  33]]\n",
            "              precision    recall  f1-score   support\n",
            "\n",
            "           0       0.98      1.00      0.99       450\n",
            "           1       1.00      0.79      0.88        42\n",
            "\n",
            "    accuracy                           0.98       492\n",
            "   macro avg       0.99      0.89      0.94       492\n",
            "weighted avg       0.98      0.98      0.98       492\n",
            "\n",
            "ROC AUC: 0.9514814814814814\n"
          ]
        }
      ],
      "source": [
        "# 6. XGBoost Evaluation: Classification report and ROC AUC\n",
        "\n",
        "print(\"XGBoost with Threshold 0.65\")\n",
        "print(confusion_matrix(y_test, y_pred_xgb_thresh))\n",
        "print(classification_report(y_test, y_pred_xgb_thresh))\n",
        "print(\"ROC AUC:\", roc_auc_score(y_test, y_proba_xgb))"
      ]
    },
    {
      "cell_type": "markdown",
      "metadata": {
        "id": "MWqIB3VskZ9Q"
      },
      "source": [
        "- Classification Report Interpretation\n",
        "\n",
        "The model shows excellent performance on Class 0 with perfect recall (1.00) and high precision (0.98), meaning it captures all true negatives with minimal false alarms.\n",
        "\n",
        "For Class 1, precision is perfect (1.00), but recall is lower (0.79), indicating the model is conservative in flagging positives—avoiding false positives but missing some actual positives.\n",
        "\n",
        "- ROC AUC Interpretation\n",
        "\n",
        "The ROC AUC score of 0.95 reflects strong overall ability to distinguish between the two classes, even across varying classification thresholds.\n"
      ]
    },
    {
      "cell_type": "markdown",
      "metadata": {
        "id": "d3XAnyrUrJAL"
      },
      "source": [
        "### Parameter Tuning"
      ]
    },
    {
      "cell_type": "markdown",
      "metadata": {
        "id": "CWq23mTMVD6m"
      },
      "source": [
        "I decided to use Randomized Search CV for hyperparameter tuning. It efficiently explores a wide range of hyperparameter combinations, making it much faster than Grid Search while still likely to find near-optimal values. This is suitable for my dataset size and computational resources.\n",
        "For reference, Grid Search CV is more comprehensive but slower, and Optuna is ideal for large datasets or more complex models because it intelligently searches the hyperparameter space and often finds the best results with fewer evaluations.\n",
        "\n",
        "Linear Regression was tested as a baseline model. However, it showed the lowest performance (accuracy = 0.92) and is limited in capturing non-linear patterns in the data. Therefore, it was not included in hyperparameter tuning."
      ]
    },
    {
      "cell_type": "code",
      "execution_count": 88,
      "metadata": {
        "colab": {
          "base_uri": "https://localhost:8080/"
        },
        "id": "hJ91pO3_rKyA",
        "outputId": "0091f746-0b15-4f17-ddf6-714cfd716456"
      },
      "outputs": [
        {
          "name": "stdout",
          "output_type": "stream",
          "text": [
            "Fitting 5 folds for each of 50 candidates, totalling 250 fits\n"
          ]
        },
        {
          "name": "stdout",
          "output_type": "stream",
          "text": [
            "Best RF Params: {'clf__n_estimators': 500, 'clf__min_samples_split': 10, 'clf__min_samples_leaf': 1, 'clf__max_features': 'log2', 'clf__max_depth': 10, 'clf__class_weight': None}\n"
          ]
        }
      ],
      "source": [
        "# 1. Parameter Tuning For Random Forest\n",
        "\n",
        "# Add Preprocessing and Model to the Pipeline\n",
        "pipeline_rf = Pipeline([\n",
        "    ('preprocessor', preprocessor_tree),\n",
        "    ('clf', RandomForestClassifier(random_state=42))\n",
        "])\n",
        "\n",
        "# Define Hyperparameter Space\n",
        "param_dist_rf = {\n",
        "    'clf__n_estimators': [100, 200, 300, 500],\n",
        "    'clf__max_depth': [4, 6, 8, 10, None],\n",
        "    'clf__min_samples_split': [2, 5, 10],\n",
        "    'clf__min_samples_leaf': [1, 2, 4],\n",
        "    'clf__max_features': ['sqrt', 'log2', None],\n",
        "    'clf__class_weight': [None, 'balanced']\n",
        "}\n",
        "\n",
        "# F1 macro scorer\n",
        "scorer = make_scorer(f1_score, average='macro')\n",
        "\n",
        "# Randomized Search CV (more efficient than Grid Search)\n",
        "random_search_rf = RandomizedSearchCV(\n",
        "    estimator=pipeline_rf,\n",
        "    param_distributions=param_dist_rf,\n",
        "    n_iter=50,          # number of sampled parameter settings\n",
        "    cv=5,\n",
        "    scoring=scorer,\n",
        "    n_jobs=-1,\n",
        "    verbose=1,\n",
        "    random_state=42\n",
        ")\n",
        "\n",
        "# Fit the model\n",
        "random_search_rf.fit(X_train, y_train)\n",
        "\n",
        "# Get the best estimator (the best Random Forest model found)\n",
        "best_rf = random_search_rf.best_estimator_\n",
        "\n",
        "# Print best parameters\n",
        "print(\"Best RF Params:\", random_search_rf.best_params_)"
      ]
    },
    {
      "cell_type": "markdown",
      "metadata": {
        "id": "f_Dz9aAZSlgH"
      },
      "source": [
        "Random Forest hyperparameters were optimized using Random Search CV. The best configuration found was 500 trees (n_estimators=500) with a maximum depth of 10 (max_depth=10), a minimum of 10 samples required to split a node (min_samples_split=10), and log2 features considered per split (max_features='log2'). This configuration balances bias and variance, helping the model generalize well on unseen data."
      ]
    },
    {
      "cell_type": "code",
      "execution_count": 89,
      "metadata": {
        "colab": {
          "base_uri": "https://localhost:8080/"
        },
        "id": "RN3r-blyPGVb",
        "outputId": "9f4dab4a-6a83-4d5e-d660-3ae75290a9aa"
      },
      "outputs": [
        {
          "name": "stdout",
          "output_type": "stream",
          "text": [
            "\n",
            "    Train Set at Threshold 0.65 \n",
            "\n",
            "Classification Report:\n",
            "               precision    recall  f1-score   support\n",
            "\n",
            "           0       0.98      1.00      0.99      1797\n",
            "           1       0.97      0.75      0.85       170\n",
            "\n",
            "    accuracy                           0.98      1967\n",
            "   macro avg       0.97      0.88      0.92      1967\n",
            "weighted avg       0.98      0.98      0.98      1967\n",
            "\n",
            "ROC AUC Score (Train): 0.9894988379325018\n",
            "\n",
            "  Test Set at Threshold 0.65 \n",
            "Classification Report:\n",
            "               precision    recall  f1-score   support\n",
            "\n",
            "           0       0.98      1.00      0.99       450\n",
            "           1       1.00      0.79      0.88        42\n",
            "\n",
            "    accuracy                           0.98       492\n",
            "   macro avg       0.99      0.89      0.94       492\n",
            "weighted avg       0.98      0.98      0.98       492\n",
            "\n",
            "ROC AUC Score (Test): 0.9404232804232804\n"
          ]
        }
      ],
      "source": [
        "# **Train Set**\n",
        "y_proba_train = best_rf.predict_proba(X_train)[:, 1]\n",
        "## y_pred_train = best_rf.predict(X_train) --default threshold\n",
        "\n",
        "thresh = 0.65\n",
        "y_pred_train = (y_proba_train >= thresh).astype(int)\n",
        "\n",
        "print(\"\\n    Train Set at Threshold 0.65 \")\n",
        "print(\"\\nClassification Report:\\n\", classification_report(y_train, y_pred_train))\n",
        "print(\"ROC AUC Score (Train):\", roc_auc_score(y_train, y_proba_train))\n",
        "\n",
        "# **Test Set**\n",
        "y_proba_test = random_search_rf.best_estimator_.predict_proba(X_test)[:, 1]\n",
        "y_pred_test_thresh = (y_proba_test >= thresh).astype(int)\n",
        "\n",
        "print(f\"\\n  Test Set at Threshold {thresh} \")\n",
        "print(\"Classification Report:\\n\", classification_report(y_test, y_pred_test_thresh))\n",
        "print(\"ROC AUC Score (Test):\", roc_auc_score(y_test, y_proba_test))"
      ]
    },
    {
      "cell_type": "markdown",
      "metadata": {
        "id": "MDXlaDZHR6XP"
      },
      "source": [
        "The Random Forest model shows strong performance (Train AUC = 0.98, Test AUC = 0.94) with no major signs of overfitting. Class 0 is predicted almost perfectly, while for Class 1 the model achieves precision = 1.00 and recall = 0.79 at threshold 0.65. This means the model is highly conservative: it avoids false positives entirely but misses some true positives. The threshold choice can be adjusted depending on whether the business goal prioritizes minimizing false positives or capturing more true positives."
      ]
    },
    {
      "cell_type": "code",
      "execution_count": 90,
      "metadata": {
        "colab": {
          "base_uri": "https://localhost:8080/"
        },
        "id": "bF3sQE1LPV3Y",
        "outputId": "121875fe-3a71-4329-c952-20cb2d588aeb"
      },
      "outputs": [
        {
          "name": "stdout",
          "output_type": "stream",
          "text": [
            "Fitting 5 folds for each of 50 candidates, totalling 250 fits\n"
          ]
        },
        {
          "name": "stderr",
          "output_type": "stream",
          "text": [
            "/Users/ratughifa/Documents/Personal Project/islamic crowdfunding campaign/venv/lib/python3.11/site-packages/xgboost/training.py:183: UserWarning: [19:17:56] WARNING: /Users/runner/work/xgboost/xgboost/src/learner.cc:738: \n",
            "Parameters: { \"use_label_encoder\" } are not used.\n",
            "\n",
            "  bst.update(dtrain, iteration=i, fobj=obj)\n",
            "/Users/ratughifa/Documents/Personal Project/islamic crowdfunding campaign/venv/lib/python3.11/site-packages/xgboost/training.py:183: UserWarning: [19:17:56] WARNING: /Users/runner/work/xgboost/xgboost/src/learner.cc:738: \n",
            "Parameters: { \"use_label_encoder\" } are not used.\n",
            "\n",
            "  bst.update(dtrain, iteration=i, fobj=obj)\n",
            "/Users/ratughifa/Documents/Personal Project/islamic crowdfunding campaign/venv/lib/python3.11/site-packages/xgboost/training.py:183: UserWarning: [19:17:56] WARNING: /Users/runner/work/xgboost/xgboost/src/learner.cc:738: \n",
            "Parameters: { \"use_label_encoder\" } are not used.\n",
            "\n",
            "  bst.update(dtrain, iteration=i, fobj=obj)\n",
            "/Users/ratughifa/Documents/Personal Project/islamic crowdfunding campaign/venv/lib/python3.11/site-packages/xgboost/training.py:183: UserWarning: [19:17:56] WARNING: /Users/runner/work/xgboost/xgboost/src/learner.cc:738: \n",
            "Parameters: { \"use_label_encoder\" } are not used.\n",
            "\n",
            "  bst.update(dtrain, iteration=i, fobj=obj)\n",
            "/Users/ratughifa/Documents/Personal Project/islamic crowdfunding campaign/venv/lib/python3.11/site-packages/xgboost/training.py:183: UserWarning: [19:17:56] WARNING: /Users/runner/work/xgboost/xgboost/src/learner.cc:738: \n",
            "Parameters: { \"use_label_encoder\" } are not used.\n",
            "\n",
            "  bst.update(dtrain, iteration=i, fobj=obj)\n",
            "/Users/ratughifa/Documents/Personal Project/islamic crowdfunding campaign/venv/lib/python3.11/site-packages/xgboost/training.py:183: UserWarning: [19:17:56] WARNING: /Users/runner/work/xgboost/xgboost/src/learner.cc:738: \n",
            "Parameters: { \"use_label_encoder\" } are not used.\n",
            "\n",
            "  bst.update(dtrain, iteration=i, fobj=obj)\n",
            "/Users/ratughifa/Documents/Personal Project/islamic crowdfunding campaign/venv/lib/python3.11/site-packages/xgboost/training.py:183: UserWarning: [19:17:56] WARNING: /Users/runner/work/xgboost/xgboost/src/learner.cc:738: \n",
            "Parameters: { \"use_label_encoder\" } are not used.\n",
            "\n",
            "  bst.update(dtrain, iteration=i, fobj=obj)\n",
            "/Users/ratughifa/Documents/Personal Project/islamic crowdfunding campaign/venv/lib/python3.11/site-packages/xgboost/training.py:183: UserWarning: [19:17:56] WARNING: /Users/runner/work/xgboost/xgboost/src/learner.cc:738: \n",
            "Parameters: { \"use_label_encoder\" } are not used.\n",
            "\n",
            "  bst.update(dtrain, iteration=i, fobj=obj)\n",
            "/Users/ratughifa/Documents/Personal Project/islamic crowdfunding campaign/venv/lib/python3.11/site-packages/xgboost/training.py:183: UserWarning: [19:17:56] WARNING: /Users/runner/work/xgboost/xgboost/src/learner.cc:738: \n",
            "Parameters: { \"use_label_encoder\" } are not used.\n",
            "\n",
            "  bst.update(dtrain, iteration=i, fobj=obj)\n",
            "/Users/ratughifa/Documents/Personal Project/islamic crowdfunding campaign/venv/lib/python3.11/site-packages/xgboost/training.py:183: UserWarning: [19:17:56] WARNING: /Users/runner/work/xgboost/xgboost/src/learner.cc:738: \n",
            "Parameters: { \"use_label_encoder\" } are not used.\n",
            "\n",
            "  bst.update(dtrain, iteration=i, fobj=obj)\n",
            "/Users/ratughifa/Documents/Personal Project/islamic crowdfunding campaign/venv/lib/python3.11/site-packages/xgboost/training.py:183: UserWarning: [19:17:56] WARNING: /Users/runner/work/xgboost/xgboost/src/learner.cc:738: \n",
            "Parameters: { \"use_label_encoder\" } are not used.\n",
            "\n",
            "  bst.update(dtrain, iteration=i, fobj=obj)\n",
            "/Users/ratughifa/Documents/Personal Project/islamic crowdfunding campaign/venv/lib/python3.11/site-packages/xgboost/training.py:183: UserWarning: [19:17:56] WARNING: /Users/runner/work/xgboost/xgboost/src/learner.cc:738: \n",
            "Parameters: { \"use_label_encoder\" } are not used.\n",
            "\n",
            "  bst.update(dtrain, iteration=i, fobj=obj)\n",
            "/Users/ratughifa/Documents/Personal Project/islamic crowdfunding campaign/venv/lib/python3.11/site-packages/xgboost/training.py:183: UserWarning: [19:17:56] WARNING: /Users/runner/work/xgboost/xgboost/src/learner.cc:738: \n",
            "Parameters: { \"use_label_encoder\" } are not used.\n",
            "\n",
            "  bst.update(dtrain, iteration=i, fobj=obj)\n",
            "/Users/ratughifa/Documents/Personal Project/islamic crowdfunding campaign/venv/lib/python3.11/site-packages/xgboost/training.py:183: UserWarning: [19:17:56] WARNING: /Users/runner/work/xgboost/xgboost/src/learner.cc:738: \n",
            "Parameters: { \"use_label_encoder\" } are not used.\n",
            "\n",
            "  bst.update(dtrain, iteration=i, fobj=obj)\n",
            "/Users/ratughifa/Documents/Personal Project/islamic crowdfunding campaign/venv/lib/python3.11/site-packages/xgboost/training.py:183: UserWarning: [19:17:56] WARNING: /Users/runner/work/xgboost/xgboost/src/learner.cc:738: \n",
            "Parameters: { \"use_label_encoder\" } are not used.\n",
            "\n",
            "  bst.update(dtrain, iteration=i, fobj=obj)\n",
            "/Users/ratughifa/Documents/Personal Project/islamic crowdfunding campaign/venv/lib/python3.11/site-packages/xgboost/training.py:183: UserWarning: [19:17:56] WARNING: /Users/runner/work/xgboost/xgboost/src/learner.cc:738: \n",
            "Parameters: { \"use_label_encoder\" } are not used.\n",
            "\n",
            "  bst.update(dtrain, iteration=i, fobj=obj)\n",
            "/Users/ratughifa/Documents/Personal Project/islamic crowdfunding campaign/venv/lib/python3.11/site-packages/xgboost/training.py:183: UserWarning: [19:17:56] WARNING: /Users/runner/work/xgboost/xgboost/src/learner.cc:738: \n",
            "Parameters: { \"use_label_encoder\" } are not used.\n",
            "\n",
            "  bst.update(dtrain, iteration=i, fobj=obj)\n",
            "/Users/ratughifa/Documents/Personal Project/islamic crowdfunding campaign/venv/lib/python3.11/site-packages/xgboost/training.py:183: UserWarning: [19:17:56] WARNING: /Users/runner/work/xgboost/xgboost/src/learner.cc:738: \n",
            "Parameters: { \"use_label_encoder\" } are not used.\n",
            "\n",
            "  bst.update(dtrain, iteration=i, fobj=obj)\n",
            "/Users/ratughifa/Documents/Personal Project/islamic crowdfunding campaign/venv/lib/python3.11/site-packages/xgboost/training.py:183: UserWarning: [19:17:56] WARNING: /Users/runner/work/xgboost/xgboost/src/learner.cc:738: \n",
            "Parameters: { \"use_label_encoder\" } are not used.\n",
            "\n",
            "  bst.update(dtrain, iteration=i, fobj=obj)\n",
            "/Users/ratughifa/Documents/Personal Project/islamic crowdfunding campaign/venv/lib/python3.11/site-packages/xgboost/training.py:183: UserWarning: [19:17:56] WARNING: /Users/runner/work/xgboost/xgboost/src/learner.cc:738: \n",
            "Parameters: { \"use_label_encoder\" } are not used.\n",
            "\n",
            "  bst.update(dtrain, iteration=i, fobj=obj)\n",
            "/Users/ratughifa/Documents/Personal Project/islamic crowdfunding campaign/venv/lib/python3.11/site-packages/xgboost/training.py:183: UserWarning: [19:17:56] WARNING: /Users/runner/work/xgboost/xgboost/src/learner.cc:738: \n",
            "Parameters: { \"use_label_encoder\" } are not used.\n",
            "\n",
            "  bst.update(dtrain, iteration=i, fobj=obj)\n",
            "/Users/ratughifa/Documents/Personal Project/islamic crowdfunding campaign/venv/lib/python3.11/site-packages/xgboost/training.py:183: UserWarning: [19:17:56] WARNING: /Users/runner/work/xgboost/xgboost/src/learner.cc:738: \n",
            "Parameters: { \"use_label_encoder\" } are not used.\n",
            "\n",
            "  bst.update(dtrain, iteration=i, fobj=obj)\n",
            "/Users/ratughifa/Documents/Personal Project/islamic crowdfunding campaign/venv/lib/python3.11/site-packages/xgboost/training.py:183: UserWarning: [19:17:56] WARNING: /Users/runner/work/xgboost/xgboost/src/learner.cc:738: \n",
            "Parameters: { \"use_label_encoder\" } are not used.\n",
            "\n",
            "  bst.update(dtrain, iteration=i, fobj=obj)\n",
            "/Users/ratughifa/Documents/Personal Project/islamic crowdfunding campaign/venv/lib/python3.11/site-packages/xgboost/training.py:183: UserWarning: [19:17:56] WARNING: /Users/runner/work/xgboost/xgboost/src/learner.cc:738: \n",
            "Parameters: { \"use_label_encoder\" } are not used.\n",
            "\n",
            "  bst.update(dtrain, iteration=i, fobj=obj)\n",
            "/Users/ratughifa/Documents/Personal Project/islamic crowdfunding campaign/venv/lib/python3.11/site-packages/xgboost/training.py:183: UserWarning: [19:17:56] WARNING: /Users/runner/work/xgboost/xgboost/src/learner.cc:738: \n",
            "Parameters: { \"use_label_encoder\" } are not used.\n",
            "\n",
            "  bst.update(dtrain, iteration=i, fobj=obj)\n",
            "/Users/ratughifa/Documents/Personal Project/islamic crowdfunding campaign/venv/lib/python3.11/site-packages/xgboost/training.py:183: UserWarning: [19:17:56] WARNING: /Users/runner/work/xgboost/xgboost/src/learner.cc:738: \n",
            "Parameters: { \"use_label_encoder\" } are not used.\n",
            "\n",
            "  bst.update(dtrain, iteration=i, fobj=obj)\n",
            "/Users/ratughifa/Documents/Personal Project/islamic crowdfunding campaign/venv/lib/python3.11/site-packages/xgboost/training.py:183: UserWarning: [19:17:56] WARNING: /Users/runner/work/xgboost/xgboost/src/learner.cc:738: \n",
            "Parameters: { \"use_label_encoder\" } are not used.\n",
            "\n",
            "  bst.update(dtrain, iteration=i, fobj=obj)\n",
            "/Users/ratughifa/Documents/Personal Project/islamic crowdfunding campaign/venv/lib/python3.11/site-packages/xgboost/training.py:183: UserWarning: [19:17:56] WARNING: /Users/runner/work/xgboost/xgboost/src/learner.cc:738: \n",
            "Parameters: { \"use_label_encoder\" } are not used.\n",
            "\n",
            "  bst.update(dtrain, iteration=i, fobj=obj)\n",
            "/Users/ratughifa/Documents/Personal Project/islamic crowdfunding campaign/venv/lib/python3.11/site-packages/xgboost/training.py:183: UserWarning: [19:17:56] WARNING: /Users/runner/work/xgboost/xgboost/src/learner.cc:738: \n",
            "Parameters: { \"use_label_encoder\" } are not used.\n",
            "\n",
            "  bst.update(dtrain, iteration=i, fobj=obj)\n",
            "/Users/ratughifa/Documents/Personal Project/islamic crowdfunding campaign/venv/lib/python3.11/site-packages/xgboost/training.py:183: UserWarning: [19:17:56] WARNING: /Users/runner/work/xgboost/xgboost/src/learner.cc:738: \n",
            "Parameters: { \"use_label_encoder\" } are not used.\n",
            "\n",
            "  bst.update(dtrain, iteration=i, fobj=obj)\n",
            "/Users/ratughifa/Documents/Personal Project/islamic crowdfunding campaign/venv/lib/python3.11/site-packages/xgboost/training.py:183: UserWarning: [19:17:56] WARNING: /Users/runner/work/xgboost/xgboost/src/learner.cc:738: \n",
            "Parameters: { \"use_label_encoder\" } are not used.\n",
            "\n",
            "  bst.update(dtrain, iteration=i, fobj=obj)\n",
            "/Users/ratughifa/Documents/Personal Project/islamic crowdfunding campaign/venv/lib/python3.11/site-packages/xgboost/training.py:183: UserWarning: [19:17:56] WARNING: /Users/runner/work/xgboost/xgboost/src/learner.cc:738: \n",
            "Parameters: { \"use_label_encoder\" } are not used.\n",
            "\n",
            "  bst.update(dtrain, iteration=i, fobj=obj)\n",
            "/Users/ratughifa/Documents/Personal Project/islamic crowdfunding campaign/venv/lib/python3.11/site-packages/xgboost/training.py:183: UserWarning: [19:17:56] WARNING: /Users/runner/work/xgboost/xgboost/src/learner.cc:738: \n",
            "Parameters: { \"use_label_encoder\" } are not used.\n",
            "\n",
            "  bst.update(dtrain, iteration=i, fobj=obj)\n",
            "/Users/ratughifa/Documents/Personal Project/islamic crowdfunding campaign/venv/lib/python3.11/site-packages/xgboost/training.py:183: UserWarning: [19:17:56] WARNING: /Users/runner/work/xgboost/xgboost/src/learner.cc:738: \n",
            "Parameters: { \"use_label_encoder\" } are not used.\n",
            "\n",
            "  bst.update(dtrain, iteration=i, fobj=obj)\n",
            "/Users/ratughifa/Documents/Personal Project/islamic crowdfunding campaign/venv/lib/python3.11/site-packages/xgboost/training.py:183: UserWarning: [19:17:56] WARNING: /Users/runner/work/xgboost/xgboost/src/learner.cc:738: \n",
            "Parameters: { \"use_label_encoder\" } are not used.\n",
            "\n",
            "  bst.update(dtrain, iteration=i, fobj=obj)\n",
            "/Users/ratughifa/Documents/Personal Project/islamic crowdfunding campaign/venv/lib/python3.11/site-packages/xgboost/training.py:183: UserWarning: [19:17:56] WARNING: /Users/runner/work/xgboost/xgboost/src/learner.cc:738: \n",
            "Parameters: { \"use_label_encoder\" } are not used.\n",
            "\n",
            "  bst.update(dtrain, iteration=i, fobj=obj)\n",
            "/Users/ratughifa/Documents/Personal Project/islamic crowdfunding campaign/venv/lib/python3.11/site-packages/xgboost/training.py:183: UserWarning: [19:17:56] WARNING: /Users/runner/work/xgboost/xgboost/src/learner.cc:738: \n",
            "Parameters: { \"use_label_encoder\" } are not used.\n",
            "\n",
            "  bst.update(dtrain, iteration=i, fobj=obj)\n",
            "/Users/ratughifa/Documents/Personal Project/islamic crowdfunding campaign/venv/lib/python3.11/site-packages/xgboost/training.py:183: UserWarning: [19:17:56] WARNING: /Users/runner/work/xgboost/xgboost/src/learner.cc:738: \n",
            "Parameters: { \"use_label_encoder\" } are not used.\n",
            "\n",
            "  bst.update(dtrain, iteration=i, fobj=obj)\n",
            "/Users/ratughifa/Documents/Personal Project/islamic crowdfunding campaign/venv/lib/python3.11/site-packages/xgboost/training.py:183: UserWarning: [19:17:56] WARNING: /Users/runner/work/xgboost/xgboost/src/learner.cc:738: \n",
            "Parameters: { \"use_label_encoder\" } are not used.\n",
            "\n",
            "  bst.update(dtrain, iteration=i, fobj=obj)\n",
            "/Users/ratughifa/Documents/Personal Project/islamic crowdfunding campaign/venv/lib/python3.11/site-packages/xgboost/training.py:183: UserWarning: [19:17:56] WARNING: /Users/runner/work/xgboost/xgboost/src/learner.cc:738: \n",
            "Parameters: { \"use_label_encoder\" } are not used.\n",
            "\n",
            "  bst.update(dtrain, iteration=i, fobj=obj)\n",
            "/Users/ratughifa/Documents/Personal Project/islamic crowdfunding campaign/venv/lib/python3.11/site-packages/xgboost/training.py:183: UserWarning: [19:17:56] WARNING: /Users/runner/work/xgboost/xgboost/src/learner.cc:738: \n",
            "Parameters: { \"use_label_encoder\" } are not used.\n",
            "\n",
            "  bst.update(dtrain, iteration=i, fobj=obj)\n",
            "/Users/ratughifa/Documents/Personal Project/islamic crowdfunding campaign/venv/lib/python3.11/site-packages/xgboost/training.py:183: UserWarning: [19:17:56] WARNING: /Users/runner/work/xgboost/xgboost/src/learner.cc:738: \n",
            "Parameters: { \"use_label_encoder\" } are not used.\n",
            "\n",
            "  bst.update(dtrain, iteration=i, fobj=obj)\n",
            "/Users/ratughifa/Documents/Personal Project/islamic crowdfunding campaign/venv/lib/python3.11/site-packages/xgboost/training.py:183: UserWarning: [19:17:56] WARNING: /Users/runner/work/xgboost/xgboost/src/learner.cc:738: \n",
            "Parameters: { \"use_label_encoder\" } are not used.\n",
            "\n",
            "  bst.update(dtrain, iteration=i, fobj=obj)\n",
            "/Users/ratughifa/Documents/Personal Project/islamic crowdfunding campaign/venv/lib/python3.11/site-packages/xgboost/training.py:183: UserWarning: [19:17:56] WARNING: /Users/runner/work/xgboost/xgboost/src/learner.cc:738: \n",
            "Parameters: { \"use_label_encoder\" } are not used.\n",
            "\n",
            "  bst.update(dtrain, iteration=i, fobj=obj)\n",
            "/Users/ratughifa/Documents/Personal Project/islamic crowdfunding campaign/venv/lib/python3.11/site-packages/xgboost/training.py:183: UserWarning: [19:17:56] WARNING: /Users/runner/work/xgboost/xgboost/src/learner.cc:738: \n",
            "Parameters: { \"use_label_encoder\" } are not used.\n",
            "\n",
            "  bst.update(dtrain, iteration=i, fobj=obj)\n",
            "/Users/ratughifa/Documents/Personal Project/islamic crowdfunding campaign/venv/lib/python3.11/site-packages/xgboost/training.py:183: UserWarning: [19:17:56] WARNING: /Users/runner/work/xgboost/xgboost/src/learner.cc:738: \n",
            "Parameters: { \"use_label_encoder\" } are not used.\n",
            "\n",
            "  bst.update(dtrain, iteration=i, fobj=obj)\n",
            "/Users/ratughifa/Documents/Personal Project/islamic crowdfunding campaign/venv/lib/python3.11/site-packages/xgboost/training.py:183: UserWarning: [19:17:56] WARNING: /Users/runner/work/xgboost/xgboost/src/learner.cc:738: \n",
            "Parameters: { \"use_label_encoder\" } are not used.\n",
            "\n",
            "  bst.update(dtrain, iteration=i, fobj=obj)\n",
            "/Users/ratughifa/Documents/Personal Project/islamic crowdfunding campaign/venv/lib/python3.11/site-packages/xgboost/training.py:183: UserWarning: [19:17:56] WARNING: /Users/runner/work/xgboost/xgboost/src/learner.cc:738: \n",
            "Parameters: { \"use_label_encoder\" } are not used.\n",
            "\n",
            "  bst.update(dtrain, iteration=i, fobj=obj)\n",
            "/Users/ratughifa/Documents/Personal Project/islamic crowdfunding campaign/venv/lib/python3.11/site-packages/xgboost/training.py:183: UserWarning: [19:17:56] WARNING: /Users/runner/work/xgboost/xgboost/src/learner.cc:738: \n",
            "Parameters: { \"use_label_encoder\" } are not used.\n",
            "\n",
            "  bst.update(dtrain, iteration=i, fobj=obj)\n",
            "/Users/ratughifa/Documents/Personal Project/islamic crowdfunding campaign/venv/lib/python3.11/site-packages/xgboost/training.py:183: UserWarning: [19:17:56] WARNING: /Users/runner/work/xgboost/xgboost/src/learner.cc:738: \n",
            "Parameters: { \"use_label_encoder\" } are not used.\n",
            "\n",
            "  bst.update(dtrain, iteration=i, fobj=obj)\n",
            "/Users/ratughifa/Documents/Personal Project/islamic crowdfunding campaign/venv/lib/python3.11/site-packages/xgboost/training.py:183: UserWarning: [19:17:56] WARNING: /Users/runner/work/xgboost/xgboost/src/learner.cc:738: \n",
            "Parameters: { \"use_label_encoder\" } are not used.\n",
            "\n",
            "  bst.update(dtrain, iteration=i, fobj=obj)\n",
            "/Users/ratughifa/Documents/Personal Project/islamic crowdfunding campaign/venv/lib/python3.11/site-packages/xgboost/training.py:183: UserWarning: [19:17:56] WARNING: /Users/runner/work/xgboost/xgboost/src/learner.cc:738: \n",
            "Parameters: { \"use_label_encoder\" } are not used.\n",
            "\n",
            "  bst.update(dtrain, iteration=i, fobj=obj)\n",
            "/Users/ratughifa/Documents/Personal Project/islamic crowdfunding campaign/venv/lib/python3.11/site-packages/xgboost/training.py:183: UserWarning: [19:17:56] WARNING: /Users/runner/work/xgboost/xgboost/src/learner.cc:738: \n",
            "Parameters: { \"use_label_encoder\" } are not used.\n",
            "\n",
            "  bst.update(dtrain, iteration=i, fobj=obj)\n",
            "/Users/ratughifa/Documents/Personal Project/islamic crowdfunding campaign/venv/lib/python3.11/site-packages/xgboost/training.py:183: UserWarning: [19:17:56] WARNING: /Users/runner/work/xgboost/xgboost/src/learner.cc:738: \n",
            "Parameters: { \"use_label_encoder\" } are not used.\n",
            "\n",
            "  bst.update(dtrain, iteration=i, fobj=obj)\n",
            "/Users/ratughifa/Documents/Personal Project/islamic crowdfunding campaign/venv/lib/python3.11/site-packages/xgboost/training.py:183: UserWarning: [19:17:56] WARNING: /Users/runner/work/xgboost/xgboost/src/learner.cc:738: \n",
            "Parameters: { \"use_label_encoder\" } are not used.\n",
            "\n",
            "  bst.update(dtrain, iteration=i, fobj=obj)\n",
            "/Users/ratughifa/Documents/Personal Project/islamic crowdfunding campaign/venv/lib/python3.11/site-packages/xgboost/training.py:183: UserWarning: [19:17:56] WARNING: /Users/runner/work/xgboost/xgboost/src/learner.cc:738: \n",
            "Parameters: { \"use_label_encoder\" } are not used.\n",
            "\n",
            "  bst.update(dtrain, iteration=i, fobj=obj)\n",
            "/Users/ratughifa/Documents/Personal Project/islamic crowdfunding campaign/venv/lib/python3.11/site-packages/xgboost/training.py:183: UserWarning: [19:17:56] WARNING: /Users/runner/work/xgboost/xgboost/src/learner.cc:738: \n",
            "Parameters: { \"use_label_encoder\" } are not used.\n",
            "\n",
            "  bst.update(dtrain, iteration=i, fobj=obj)\n",
            "/Users/ratughifa/Documents/Personal Project/islamic crowdfunding campaign/venv/lib/python3.11/site-packages/xgboost/training.py:183: UserWarning: [19:17:56] WARNING: /Users/runner/work/xgboost/xgboost/src/learner.cc:738: \n",
            "Parameters: { \"use_label_encoder\" } are not used.\n",
            "\n",
            "  bst.update(dtrain, iteration=i, fobj=obj)\n",
            "/Users/ratughifa/Documents/Personal Project/islamic crowdfunding campaign/venv/lib/python3.11/site-packages/xgboost/training.py:183: UserWarning: [19:17:56] WARNING: /Users/runner/work/xgboost/xgboost/src/learner.cc:738: \n",
            "Parameters: { \"use_label_encoder\" } are not used.\n",
            "\n",
            "  bst.update(dtrain, iteration=i, fobj=obj)\n",
            "/Users/ratughifa/Documents/Personal Project/islamic crowdfunding campaign/venv/lib/python3.11/site-packages/xgboost/training.py:183: UserWarning: [19:17:56] WARNING: /Users/runner/work/xgboost/xgboost/src/learner.cc:738: \n",
            "Parameters: { \"use_label_encoder\" } are not used.\n",
            "\n",
            "  bst.update(dtrain, iteration=i, fobj=obj)\n",
            "/Users/ratughifa/Documents/Personal Project/islamic crowdfunding campaign/venv/lib/python3.11/site-packages/xgboost/training.py:183: UserWarning: [19:17:56] WARNING: /Users/runner/work/xgboost/xgboost/src/learner.cc:738: \n",
            "Parameters: { \"use_label_encoder\" } are not used.\n",
            "\n",
            "  bst.update(dtrain, iteration=i, fobj=obj)\n",
            "/Users/ratughifa/Documents/Personal Project/islamic crowdfunding campaign/venv/lib/python3.11/site-packages/xgboost/training.py:183: UserWarning: [19:17:56] WARNING: /Users/runner/work/xgboost/xgboost/src/learner.cc:738: \n",
            "Parameters: { \"use_label_encoder\" } are not used.\n",
            "\n",
            "  bst.update(dtrain, iteration=i, fobj=obj)\n",
            "/Users/ratughifa/Documents/Personal Project/islamic crowdfunding campaign/venv/lib/python3.11/site-packages/xgboost/training.py:183: UserWarning: [19:17:56] WARNING: /Users/runner/work/xgboost/xgboost/src/learner.cc:738: \n",
            "Parameters: { \"use_label_encoder\" } are not used.\n",
            "\n",
            "  bst.update(dtrain, iteration=i, fobj=obj)\n",
            "/Users/ratughifa/Documents/Personal Project/islamic crowdfunding campaign/venv/lib/python3.11/site-packages/xgboost/training.py:183: UserWarning: [19:17:56] WARNING: /Users/runner/work/xgboost/xgboost/src/learner.cc:738: \n",
            "Parameters: { \"use_label_encoder\" } are not used.\n",
            "\n",
            "  bst.update(dtrain, iteration=i, fobj=obj)\n",
            "/Users/ratughifa/Documents/Personal Project/islamic crowdfunding campaign/venv/lib/python3.11/site-packages/xgboost/training.py:183: UserWarning: [19:17:56] WARNING: /Users/runner/work/xgboost/xgboost/src/learner.cc:738: \n",
            "Parameters: { \"use_label_encoder\" } are not used.\n",
            "\n",
            "  bst.update(dtrain, iteration=i, fobj=obj)\n",
            "/Users/ratughifa/Documents/Personal Project/islamic crowdfunding campaign/venv/lib/python3.11/site-packages/xgboost/training.py:183: UserWarning: [19:17:56] WARNING: /Users/runner/work/xgboost/xgboost/src/learner.cc:738: \n",
            "Parameters: { \"use_label_encoder\" } are not used.\n",
            "\n",
            "  bst.update(dtrain, iteration=i, fobj=obj)\n",
            "/Users/ratughifa/Documents/Personal Project/islamic crowdfunding campaign/venv/lib/python3.11/site-packages/xgboost/training.py:183: UserWarning: [19:17:56] WARNING: /Users/runner/work/xgboost/xgboost/src/learner.cc:738: \n",
            "Parameters: { \"use_label_encoder\" } are not used.\n",
            "\n",
            "  bst.update(dtrain, iteration=i, fobj=obj)\n",
            "/Users/ratughifa/Documents/Personal Project/islamic crowdfunding campaign/venv/lib/python3.11/site-packages/xgboost/training.py:183: UserWarning: [19:17:56] WARNING: /Users/runner/work/xgboost/xgboost/src/learner.cc:738: \n",
            "Parameters: { \"use_label_encoder\" } are not used.\n",
            "\n",
            "  bst.update(dtrain, iteration=i, fobj=obj)\n",
            "/Users/ratughifa/Documents/Personal Project/islamic crowdfunding campaign/venv/lib/python3.11/site-packages/xgboost/training.py:183: UserWarning: [19:17:56] WARNING: /Users/runner/work/xgboost/xgboost/src/learner.cc:738: \n",
            "Parameters: { \"use_label_encoder\" } are not used.\n",
            "\n",
            "  bst.update(dtrain, iteration=i, fobj=obj)\n",
            "/Users/ratughifa/Documents/Personal Project/islamic crowdfunding campaign/venv/lib/python3.11/site-packages/xgboost/training.py:183: UserWarning: [19:17:56] WARNING: /Users/runner/work/xgboost/xgboost/src/learner.cc:738: \n",
            "Parameters: { \"use_label_encoder\" } are not used.\n",
            "\n",
            "  bst.update(dtrain, iteration=i, fobj=obj)\n",
            "/Users/ratughifa/Documents/Personal Project/islamic crowdfunding campaign/venv/lib/python3.11/site-packages/xgboost/training.py:183: UserWarning: [19:17:56] WARNING: /Users/runner/work/xgboost/xgboost/src/learner.cc:738: \n",
            "Parameters: { \"use_label_encoder\" } are not used.\n",
            "\n",
            "  bst.update(dtrain, iteration=i, fobj=obj)\n",
            "/Users/ratughifa/Documents/Personal Project/islamic crowdfunding campaign/venv/lib/python3.11/site-packages/xgboost/training.py:183: UserWarning: [19:17:56] WARNING: /Users/runner/work/xgboost/xgboost/src/learner.cc:738: \n",
            "Parameters: { \"use_label_encoder\" } are not used.\n",
            "\n",
            "  bst.update(dtrain, iteration=i, fobj=obj)\n",
            "/Users/ratughifa/Documents/Personal Project/islamic crowdfunding campaign/venv/lib/python3.11/site-packages/xgboost/training.py:183: UserWarning: [19:17:56] WARNING: /Users/runner/work/xgboost/xgboost/src/learner.cc:738: \n",
            "Parameters: { \"use_label_encoder\" } are not used.\n",
            "\n",
            "  bst.update(dtrain, iteration=i, fobj=obj)\n",
            "/Users/ratughifa/Documents/Personal Project/islamic crowdfunding campaign/venv/lib/python3.11/site-packages/xgboost/training.py:183: UserWarning: [19:17:56] WARNING: /Users/runner/work/xgboost/xgboost/src/learner.cc:738: \n",
            "Parameters: { \"use_label_encoder\" } are not used.\n",
            "\n",
            "  bst.update(dtrain, iteration=i, fobj=obj)\n",
            "/Users/ratughifa/Documents/Personal Project/islamic crowdfunding campaign/venv/lib/python3.11/site-packages/xgboost/training.py:183: UserWarning: [19:17:56] WARNING: /Users/runner/work/xgboost/xgboost/src/learner.cc:738: \n",
            "Parameters: { \"use_label_encoder\" } are not used.\n",
            "\n",
            "  bst.update(dtrain, iteration=i, fobj=obj)\n",
            "/Users/ratughifa/Documents/Personal Project/islamic crowdfunding campaign/venv/lib/python3.11/site-packages/xgboost/training.py:183: UserWarning: [19:17:56] WARNING: /Users/runner/work/xgboost/xgboost/src/learner.cc:738: \n",
            "Parameters: { \"use_label_encoder\" } are not used.\n",
            "\n",
            "  bst.update(dtrain, iteration=i, fobj=obj)\n",
            "/Users/ratughifa/Documents/Personal Project/islamic crowdfunding campaign/venv/lib/python3.11/site-packages/xgboost/training.py:183: UserWarning: [19:17:56] WARNING: /Users/runner/work/xgboost/xgboost/src/learner.cc:738: \n",
            "Parameters: { \"use_label_encoder\" } are not used.\n",
            "\n",
            "  bst.update(dtrain, iteration=i, fobj=obj)\n",
            "/Users/ratughifa/Documents/Personal Project/islamic crowdfunding campaign/venv/lib/python3.11/site-packages/xgboost/training.py:183: UserWarning: [19:17:56] WARNING: /Users/runner/work/xgboost/xgboost/src/learner.cc:738: \n",
            "Parameters: { \"use_label_encoder\" } are not used.\n",
            "\n",
            "  bst.update(dtrain, iteration=i, fobj=obj)\n",
            "/Users/ratughifa/Documents/Personal Project/islamic crowdfunding campaign/venv/lib/python3.11/site-packages/xgboost/training.py:183: UserWarning: [19:17:56] WARNING: /Users/runner/work/xgboost/xgboost/src/learner.cc:738: \n",
            "Parameters: { \"use_label_encoder\" } are not used.\n",
            "\n",
            "  bst.update(dtrain, iteration=i, fobj=obj)\n",
            "/Users/ratughifa/Documents/Personal Project/islamic crowdfunding campaign/venv/lib/python3.11/site-packages/xgboost/training.py:183: UserWarning: [19:17:56] WARNING: /Users/runner/work/xgboost/xgboost/src/learner.cc:738: \n",
            "Parameters: { \"use_label_encoder\" } are not used.\n",
            "\n",
            "  bst.update(dtrain, iteration=i, fobj=obj)\n",
            "/Users/ratughifa/Documents/Personal Project/islamic crowdfunding campaign/venv/lib/python3.11/site-packages/xgboost/training.py:183: UserWarning: [19:17:56] WARNING: /Users/runner/work/xgboost/xgboost/src/learner.cc:738: \n",
            "Parameters: { \"use_label_encoder\" } are not used.\n",
            "\n",
            "  bst.update(dtrain, iteration=i, fobj=obj)\n",
            "/Users/ratughifa/Documents/Personal Project/islamic crowdfunding campaign/venv/lib/python3.11/site-packages/xgboost/training.py:183: UserWarning: [19:17:56] WARNING: /Users/runner/work/xgboost/xgboost/src/learner.cc:738: \n",
            "Parameters: { \"use_label_encoder\" } are not used.\n",
            "\n",
            "  bst.update(dtrain, iteration=i, fobj=obj)\n",
            "/Users/ratughifa/Documents/Personal Project/islamic crowdfunding campaign/venv/lib/python3.11/site-packages/xgboost/training.py:183: UserWarning: [19:17:56] WARNING: /Users/runner/work/xgboost/xgboost/src/learner.cc:738: \n",
            "Parameters: { \"use_label_encoder\" } are not used.\n",
            "\n",
            "  bst.update(dtrain, iteration=i, fobj=obj)\n",
            "/Users/ratughifa/Documents/Personal Project/islamic crowdfunding campaign/venv/lib/python3.11/site-packages/xgboost/training.py:183: UserWarning: [19:17:56] WARNING: /Users/runner/work/xgboost/xgboost/src/learner.cc:738: \n",
            "Parameters: { \"use_label_encoder\" } are not used.\n",
            "\n",
            "  bst.update(dtrain, iteration=i, fobj=obj)\n",
            "/Users/ratughifa/Documents/Personal Project/islamic crowdfunding campaign/venv/lib/python3.11/site-packages/xgboost/training.py:183: UserWarning: [19:17:56] WARNING: /Users/runner/work/xgboost/xgboost/src/learner.cc:738: \n",
            "Parameters: { \"use_label_encoder\" } are not used.\n",
            "\n",
            "  bst.update(dtrain, iteration=i, fobj=obj)\n",
            "/Users/ratughifa/Documents/Personal Project/islamic crowdfunding campaign/venv/lib/python3.11/site-packages/xgboost/training.py:183: UserWarning: [19:17:56] WARNING: /Users/runner/work/xgboost/xgboost/src/learner.cc:738: \n",
            "Parameters: { \"use_label_encoder\" } are not used.\n",
            "\n",
            "  bst.update(dtrain, iteration=i, fobj=obj)\n",
            "/Users/ratughifa/Documents/Personal Project/islamic crowdfunding campaign/venv/lib/python3.11/site-packages/xgboost/training.py:183: UserWarning: [19:17:56] WARNING: /Users/runner/work/xgboost/xgboost/src/learner.cc:738: \n",
            "Parameters: { \"use_label_encoder\" } are not used.\n",
            "\n",
            "  bst.update(dtrain, iteration=i, fobj=obj)\n",
            "/Users/ratughifa/Documents/Personal Project/islamic crowdfunding campaign/venv/lib/python3.11/site-packages/xgboost/training.py:183: UserWarning: [19:17:56] WARNING: /Users/runner/work/xgboost/xgboost/src/learner.cc:738: \n",
            "Parameters: { \"use_label_encoder\" } are not used.\n",
            "\n",
            "  bst.update(dtrain, iteration=i, fobj=obj)\n",
            "/Users/ratughifa/Documents/Personal Project/islamic crowdfunding campaign/venv/lib/python3.11/site-packages/xgboost/training.py:183: UserWarning: [19:17:56] WARNING: /Users/runner/work/xgboost/xgboost/src/learner.cc:738: \n",
            "Parameters: { \"use_label_encoder\" } are not used.\n",
            "\n",
            "  bst.update(dtrain, iteration=i, fobj=obj)\n",
            "/Users/ratughifa/Documents/Personal Project/islamic crowdfunding campaign/venv/lib/python3.11/site-packages/xgboost/training.py:183: UserWarning: [19:17:56] WARNING: /Users/runner/work/xgboost/xgboost/src/learner.cc:738: \n",
            "Parameters: { \"use_label_encoder\" } are not used.\n",
            "\n",
            "  bst.update(dtrain, iteration=i, fobj=obj)\n",
            "/Users/ratughifa/Documents/Personal Project/islamic crowdfunding campaign/venv/lib/python3.11/site-packages/xgboost/training.py:183: UserWarning: [19:17:56] WARNING: /Users/runner/work/xgboost/xgboost/src/learner.cc:738: \n",
            "Parameters: { \"use_label_encoder\" } are not used.\n",
            "\n",
            "  bst.update(dtrain, iteration=i, fobj=obj)\n",
            "/Users/ratughifa/Documents/Personal Project/islamic crowdfunding campaign/venv/lib/python3.11/site-packages/xgboost/training.py:183: UserWarning: [19:17:56] WARNING: /Users/runner/work/xgboost/xgboost/src/learner.cc:738: \n",
            "Parameters: { \"use_label_encoder\" } are not used.\n",
            "\n",
            "  bst.update(dtrain, iteration=i, fobj=obj)\n",
            "/Users/ratughifa/Documents/Personal Project/islamic crowdfunding campaign/venv/lib/python3.11/site-packages/xgboost/training.py:183: UserWarning: [19:17:56] WARNING: /Users/runner/work/xgboost/xgboost/src/learner.cc:738: \n",
            "Parameters: { \"use_label_encoder\" } are not used.\n",
            "\n",
            "  bst.update(dtrain, iteration=i, fobj=obj)\n",
            "/Users/ratughifa/Documents/Personal Project/islamic crowdfunding campaign/venv/lib/python3.11/site-packages/xgboost/training.py:183: UserWarning: [19:17:56] WARNING: /Users/runner/work/xgboost/xgboost/src/learner.cc:738: \n",
            "Parameters: { \"use_label_encoder\" } are not used.\n",
            "\n",
            "  bst.update(dtrain, iteration=i, fobj=obj)\n",
            "/Users/ratughifa/Documents/Personal Project/islamic crowdfunding campaign/venv/lib/python3.11/site-packages/xgboost/training.py:183: UserWarning: [19:17:56] WARNING: /Users/runner/work/xgboost/xgboost/src/learner.cc:738: \n",
            "Parameters: { \"use_label_encoder\" } are not used.\n",
            "\n",
            "  bst.update(dtrain, iteration=i, fobj=obj)\n",
            "/Users/ratughifa/Documents/Personal Project/islamic crowdfunding campaign/venv/lib/python3.11/site-packages/xgboost/training.py:183: UserWarning: [19:17:56] WARNING: /Users/runner/work/xgboost/xgboost/src/learner.cc:738: \n",
            "Parameters: { \"use_label_encoder\" } are not used.\n",
            "\n",
            "  bst.update(dtrain, iteration=i, fobj=obj)\n",
            "/Users/ratughifa/Documents/Personal Project/islamic crowdfunding campaign/venv/lib/python3.11/site-packages/xgboost/training.py:183: UserWarning: [19:17:56] WARNING: /Users/runner/work/xgboost/xgboost/src/learner.cc:738: \n",
            "Parameters: { \"use_label_encoder\" } are not used.\n",
            "\n",
            "  bst.update(dtrain, iteration=i, fobj=obj)\n",
            "/Users/ratughifa/Documents/Personal Project/islamic crowdfunding campaign/venv/lib/python3.11/site-packages/xgboost/training.py:183: UserWarning: [19:17:56] WARNING: /Users/runner/work/xgboost/xgboost/src/learner.cc:738: \n",
            "Parameters: { \"use_label_encoder\" } are not used.\n",
            "\n",
            "  bst.update(dtrain, iteration=i, fobj=obj)\n",
            "/Users/ratughifa/Documents/Personal Project/islamic crowdfunding campaign/venv/lib/python3.11/site-packages/xgboost/training.py:183: UserWarning: [19:17:56] WARNING: /Users/runner/work/xgboost/xgboost/src/learner.cc:738: \n",
            "Parameters: { \"use_label_encoder\" } are not used.\n",
            "\n",
            "  bst.update(dtrain, iteration=i, fobj=obj)\n",
            "/Users/ratughifa/Documents/Personal Project/islamic crowdfunding campaign/venv/lib/python3.11/site-packages/xgboost/training.py:183: UserWarning: [19:17:56] WARNING: /Users/runner/work/xgboost/xgboost/src/learner.cc:738: \n",
            "Parameters: { \"use_label_encoder\" } are not used.\n",
            "\n",
            "  bst.update(dtrain, iteration=i, fobj=obj)\n",
            "/Users/ratughifa/Documents/Personal Project/islamic crowdfunding campaign/venv/lib/python3.11/site-packages/xgboost/training.py:183: UserWarning: [19:17:56] WARNING: /Users/runner/work/xgboost/xgboost/src/learner.cc:738: \n",
            "Parameters: { \"use_label_encoder\" } are not used.\n",
            "\n",
            "  bst.update(dtrain, iteration=i, fobj=obj)\n",
            "/Users/ratughifa/Documents/Personal Project/islamic crowdfunding campaign/venv/lib/python3.11/site-packages/xgboost/training.py:183: UserWarning: [19:17:56] WARNING: /Users/runner/work/xgboost/xgboost/src/learner.cc:738: \n",
            "Parameters: { \"use_label_encoder\" } are not used.\n",
            "\n",
            "  bst.update(dtrain, iteration=i, fobj=obj)\n",
            "/Users/ratughifa/Documents/Personal Project/islamic crowdfunding campaign/venv/lib/python3.11/site-packages/xgboost/training.py:183: UserWarning: [19:17:56] WARNING: /Users/runner/work/xgboost/xgboost/src/learner.cc:738: \n",
            "Parameters: { \"use_label_encoder\" } are not used.\n",
            "\n",
            "  bst.update(dtrain, iteration=i, fobj=obj)\n",
            "/Users/ratughifa/Documents/Personal Project/islamic crowdfunding campaign/venv/lib/python3.11/site-packages/xgboost/training.py:183: UserWarning: [19:17:56] WARNING: /Users/runner/work/xgboost/xgboost/src/learner.cc:738: \n",
            "Parameters: { \"use_label_encoder\" } are not used.\n",
            "\n",
            "  bst.update(dtrain, iteration=i, fobj=obj)\n",
            "/Users/ratughifa/Documents/Personal Project/islamic crowdfunding campaign/venv/lib/python3.11/site-packages/xgboost/training.py:183: UserWarning: [19:17:56] WARNING: /Users/runner/work/xgboost/xgboost/src/learner.cc:738: \n",
            "Parameters: { \"use_label_encoder\" } are not used.\n",
            "\n",
            "  bst.update(dtrain, iteration=i, fobj=obj)\n",
            "/Users/ratughifa/Documents/Personal Project/islamic crowdfunding campaign/venv/lib/python3.11/site-packages/xgboost/training.py:183: UserWarning: [19:17:56] WARNING: /Users/runner/work/xgboost/xgboost/src/learner.cc:738: \n",
            "Parameters: { \"use_label_encoder\" } are not used.\n",
            "\n",
            "  bst.update(dtrain, iteration=i, fobj=obj)\n",
            "/Users/ratughifa/Documents/Personal Project/islamic crowdfunding campaign/venv/lib/python3.11/site-packages/xgboost/training.py:183: UserWarning: [19:17:56] WARNING: /Users/runner/work/xgboost/xgboost/src/learner.cc:738: \n",
            "Parameters: { \"use_label_encoder\" } are not used.\n",
            "\n",
            "  bst.update(dtrain, iteration=i, fobj=obj)\n",
            "/Users/ratughifa/Documents/Personal Project/islamic crowdfunding campaign/venv/lib/python3.11/site-packages/xgboost/training.py:183: UserWarning: [19:17:56] WARNING: /Users/runner/work/xgboost/xgboost/src/learner.cc:738: \n",
            "Parameters: { \"use_label_encoder\" } are not used.\n",
            "\n",
            "  bst.update(dtrain, iteration=i, fobj=obj)\n",
            "/Users/ratughifa/Documents/Personal Project/islamic crowdfunding campaign/venv/lib/python3.11/site-packages/xgboost/training.py:183: UserWarning: [19:17:56] WARNING: /Users/runner/work/xgboost/xgboost/src/learner.cc:738: \n",
            "Parameters: { \"use_label_encoder\" } are not used.\n",
            "\n",
            "  bst.update(dtrain, iteration=i, fobj=obj)\n",
            "/Users/ratughifa/Documents/Personal Project/islamic crowdfunding campaign/venv/lib/python3.11/site-packages/xgboost/training.py:183: UserWarning: [19:17:56] WARNING: /Users/runner/work/xgboost/xgboost/src/learner.cc:738: \n",
            "Parameters: { \"use_label_encoder\" } are not used.\n",
            "\n",
            "  bst.update(dtrain, iteration=i, fobj=obj)\n",
            "/Users/ratughifa/Documents/Personal Project/islamic crowdfunding campaign/venv/lib/python3.11/site-packages/xgboost/training.py:183: UserWarning: [19:17:56] WARNING: /Users/runner/work/xgboost/xgboost/src/learner.cc:738: \n",
            "Parameters: { \"use_label_encoder\" } are not used.\n",
            "\n",
            "  bst.update(dtrain, iteration=i, fobj=obj)\n",
            "/Users/ratughifa/Documents/Personal Project/islamic crowdfunding campaign/venv/lib/python3.11/site-packages/xgboost/training.py:183: UserWarning: [19:17:56] WARNING: /Users/runner/work/xgboost/xgboost/src/learner.cc:738: \n",
            "Parameters: { \"use_label_encoder\" } are not used.\n",
            "\n",
            "  bst.update(dtrain, iteration=i, fobj=obj)\n",
            "/Users/ratughifa/Documents/Personal Project/islamic crowdfunding campaign/venv/lib/python3.11/site-packages/xgboost/training.py:183: UserWarning: [19:17:56] WARNING: /Users/runner/work/xgboost/xgboost/src/learner.cc:738: \n",
            "Parameters: { \"use_label_encoder\" } are not used.\n",
            "\n",
            "  bst.update(dtrain, iteration=i, fobj=obj)\n",
            "/Users/ratughifa/Documents/Personal Project/islamic crowdfunding campaign/venv/lib/python3.11/site-packages/xgboost/training.py:183: UserWarning: [19:17:56] WARNING: /Users/runner/work/xgboost/xgboost/src/learner.cc:738: \n",
            "Parameters: { \"use_label_encoder\" } are not used.\n",
            "\n",
            "  bst.update(dtrain, iteration=i, fobj=obj)\n",
            "/Users/ratughifa/Documents/Personal Project/islamic crowdfunding campaign/venv/lib/python3.11/site-packages/xgboost/training.py:183: UserWarning: [19:17:56] WARNING: /Users/runner/work/xgboost/xgboost/src/learner.cc:738: \n",
            "Parameters: { \"use_label_encoder\" } are not used.\n",
            "\n",
            "  bst.update(dtrain, iteration=i, fobj=obj)\n",
            "/Users/ratughifa/Documents/Personal Project/islamic crowdfunding campaign/venv/lib/python3.11/site-packages/xgboost/training.py:183: UserWarning: [19:17:56] WARNING: /Users/runner/work/xgboost/xgboost/src/learner.cc:738: \n",
            "Parameters: { \"use_label_encoder\" } are not used.\n",
            "\n",
            "  bst.update(dtrain, iteration=i, fobj=obj)\n",
            "/Users/ratughifa/Documents/Personal Project/islamic crowdfunding campaign/venv/lib/python3.11/site-packages/xgboost/training.py:183: UserWarning: [19:17:56] WARNING: /Users/runner/work/xgboost/xgboost/src/learner.cc:738: \n",
            "Parameters: { \"use_label_encoder\" } are not used.\n",
            "\n",
            "  bst.update(dtrain, iteration=i, fobj=obj)\n",
            "/Users/ratughifa/Documents/Personal Project/islamic crowdfunding campaign/venv/lib/python3.11/site-packages/xgboost/training.py:183: UserWarning: [19:17:56] WARNING: /Users/runner/work/xgboost/xgboost/src/learner.cc:738: \n",
            "Parameters: { \"use_label_encoder\" } are not used.\n",
            "\n",
            "  bst.update(dtrain, iteration=i, fobj=obj)\n",
            "/Users/ratughifa/Documents/Personal Project/islamic crowdfunding campaign/venv/lib/python3.11/site-packages/xgboost/training.py:183: UserWarning: [19:17:56] WARNING: /Users/runner/work/xgboost/xgboost/src/learner.cc:738: \n",
            "Parameters: { \"use_label_encoder\" } are not used.\n",
            "\n",
            "  bst.update(dtrain, iteration=i, fobj=obj)\n",
            "/Users/ratughifa/Documents/Personal Project/islamic crowdfunding campaign/venv/lib/python3.11/site-packages/xgboost/training.py:183: UserWarning: [19:17:56] WARNING: /Users/runner/work/xgboost/xgboost/src/learner.cc:738: \n",
            "Parameters: { \"use_label_encoder\" } are not used.\n",
            "\n",
            "  bst.update(dtrain, iteration=i, fobj=obj)\n",
            "/Users/ratughifa/Documents/Personal Project/islamic crowdfunding campaign/venv/lib/python3.11/site-packages/xgboost/training.py:183: UserWarning: [19:17:56] WARNING: /Users/runner/work/xgboost/xgboost/src/learner.cc:738: \n",
            "Parameters: { \"use_label_encoder\" } are not used.\n",
            "\n",
            "  bst.update(dtrain, iteration=i, fobj=obj)\n",
            "/Users/ratughifa/Documents/Personal Project/islamic crowdfunding campaign/venv/lib/python3.11/site-packages/xgboost/training.py:183: UserWarning: [19:17:56] WARNING: /Users/runner/work/xgboost/xgboost/src/learner.cc:738: \n",
            "Parameters: { \"use_label_encoder\" } are not used.\n",
            "\n",
            "  bst.update(dtrain, iteration=i, fobj=obj)\n",
            "/Users/ratughifa/Documents/Personal Project/islamic crowdfunding campaign/venv/lib/python3.11/site-packages/xgboost/training.py:183: UserWarning: [19:17:56] WARNING: /Users/runner/work/xgboost/xgboost/src/learner.cc:738: \n",
            "Parameters: { \"use_label_encoder\" } are not used.\n",
            "\n",
            "  bst.update(dtrain, iteration=i, fobj=obj)\n",
            "/Users/ratughifa/Documents/Personal Project/islamic crowdfunding campaign/venv/lib/python3.11/site-packages/xgboost/training.py:183: UserWarning: [19:17:56] WARNING: /Users/runner/work/xgboost/xgboost/src/learner.cc:738: \n",
            "Parameters: { \"use_label_encoder\" } are not used.\n",
            "\n",
            "  bst.update(dtrain, iteration=i, fobj=obj)\n",
            "/Users/ratughifa/Documents/Personal Project/islamic crowdfunding campaign/venv/lib/python3.11/site-packages/xgboost/training.py:183: UserWarning: [19:17:56] WARNING: /Users/runner/work/xgboost/xgboost/src/learner.cc:738: \n",
            "Parameters: { \"use_label_encoder\" } are not used.\n",
            "\n",
            "  bst.update(dtrain, iteration=i, fobj=obj)\n",
            "/Users/ratughifa/Documents/Personal Project/islamic crowdfunding campaign/venv/lib/python3.11/site-packages/xgboost/training.py:183: UserWarning: [19:17:56] WARNING: /Users/runner/work/xgboost/xgboost/src/learner.cc:738: \n",
            "Parameters: { \"use_label_encoder\" } are not used.\n",
            "\n",
            "  bst.update(dtrain, iteration=i, fobj=obj)\n",
            "/Users/ratughifa/Documents/Personal Project/islamic crowdfunding campaign/venv/lib/python3.11/site-packages/xgboost/training.py:183: UserWarning: [19:17:56] WARNING: /Users/runner/work/xgboost/xgboost/src/learner.cc:738: \n",
            "Parameters: { \"use_label_encoder\" } are not used.\n",
            "\n",
            "  bst.update(dtrain, iteration=i, fobj=obj)\n",
            "/Users/ratughifa/Documents/Personal Project/islamic crowdfunding campaign/venv/lib/python3.11/site-packages/xgboost/training.py:183: UserWarning: [19:17:56] WARNING: /Users/runner/work/xgboost/xgboost/src/learner.cc:738: \n",
            "Parameters: { \"use_label_encoder\" } are not used.\n",
            "\n",
            "  bst.update(dtrain, iteration=i, fobj=obj)\n",
            "/Users/ratughifa/Documents/Personal Project/islamic crowdfunding campaign/venv/lib/python3.11/site-packages/xgboost/training.py:183: UserWarning: [19:17:56] WARNING: /Users/runner/work/xgboost/xgboost/src/learner.cc:738: \n",
            "Parameters: { \"use_label_encoder\" } are not used.\n",
            "\n",
            "  bst.update(dtrain, iteration=i, fobj=obj)\n",
            "/Users/ratughifa/Documents/Personal Project/islamic crowdfunding campaign/venv/lib/python3.11/site-packages/xgboost/training.py:183: UserWarning: [19:17:56] WARNING: /Users/runner/work/xgboost/xgboost/src/learner.cc:738: \n",
            "Parameters: { \"use_label_encoder\" } are not used.\n",
            "\n",
            "  bst.update(dtrain, iteration=i, fobj=obj)\n",
            "/Users/ratughifa/Documents/Personal Project/islamic crowdfunding campaign/venv/lib/python3.11/site-packages/xgboost/training.py:183: UserWarning: [19:17:56] WARNING: /Users/runner/work/xgboost/xgboost/src/learner.cc:738: \n",
            "Parameters: { \"use_label_encoder\" } are not used.\n",
            "\n",
            "  bst.update(dtrain, iteration=i, fobj=obj)\n",
            "/Users/ratughifa/Documents/Personal Project/islamic crowdfunding campaign/venv/lib/python3.11/site-packages/xgboost/training.py:183: UserWarning: [19:17:56] WARNING: /Users/runner/work/xgboost/xgboost/src/learner.cc:738: \n",
            "Parameters: { \"use_label_encoder\" } are not used.\n",
            "\n",
            "  bst.update(dtrain, iteration=i, fobj=obj)\n",
            "/Users/ratughifa/Documents/Personal Project/islamic crowdfunding campaign/venv/lib/python3.11/site-packages/xgboost/training.py:183: UserWarning: [19:17:56] WARNING: /Users/runner/work/xgboost/xgboost/src/learner.cc:738: \n",
            "Parameters: { \"use_label_encoder\" } are not used.\n",
            "\n",
            "  bst.update(dtrain, iteration=i, fobj=obj)\n",
            "/Users/ratughifa/Documents/Personal Project/islamic crowdfunding campaign/venv/lib/python3.11/site-packages/xgboost/training.py:183: UserWarning: [19:17:56] WARNING: /Users/runner/work/xgboost/xgboost/src/learner.cc:738: \n",
            "Parameters: { \"use_label_encoder\" } are not used.\n",
            "\n",
            "  bst.update(dtrain, iteration=i, fobj=obj)\n",
            "/Users/ratughifa/Documents/Personal Project/islamic crowdfunding campaign/venv/lib/python3.11/site-packages/xgboost/training.py:183: UserWarning: [19:17:56] WARNING: /Users/runner/work/xgboost/xgboost/src/learner.cc:738: \n",
            "Parameters: { \"use_label_encoder\" } are not used.\n",
            "\n",
            "  bst.update(dtrain, iteration=i, fobj=obj)\n",
            "/Users/ratughifa/Documents/Personal Project/islamic crowdfunding campaign/venv/lib/python3.11/site-packages/xgboost/training.py:183: UserWarning: [19:17:56] WARNING: /Users/runner/work/xgboost/xgboost/src/learner.cc:738: \n",
            "Parameters: { \"use_label_encoder\" } are not used.\n",
            "\n",
            "  bst.update(dtrain, iteration=i, fobj=obj)\n",
            "/Users/ratughifa/Documents/Personal Project/islamic crowdfunding campaign/venv/lib/python3.11/site-packages/xgboost/training.py:183: UserWarning: [19:17:56] WARNING: /Users/runner/work/xgboost/xgboost/src/learner.cc:738: \n",
            "Parameters: { \"use_label_encoder\" } are not used.\n",
            "\n",
            "  bst.update(dtrain, iteration=i, fobj=obj)\n",
            "/Users/ratughifa/Documents/Personal Project/islamic crowdfunding campaign/venv/lib/python3.11/site-packages/xgboost/training.py:183: UserWarning: [19:17:56] WARNING: /Users/runner/work/xgboost/xgboost/src/learner.cc:738: \n",
            "Parameters: { \"use_label_encoder\" } are not used.\n",
            "\n",
            "  bst.update(dtrain, iteration=i, fobj=obj)\n",
            "/Users/ratughifa/Documents/Personal Project/islamic crowdfunding campaign/venv/lib/python3.11/site-packages/xgboost/training.py:183: UserWarning: [19:17:56] WARNING: /Users/runner/work/xgboost/xgboost/src/learner.cc:738: \n",
            "Parameters: { \"use_label_encoder\" } are not used.\n",
            "\n",
            "  bst.update(dtrain, iteration=i, fobj=obj)\n",
            "/Users/ratughifa/Documents/Personal Project/islamic crowdfunding campaign/venv/lib/python3.11/site-packages/xgboost/training.py:183: UserWarning: [19:17:56] WARNING: /Users/runner/work/xgboost/xgboost/src/learner.cc:738: \n",
            "Parameters: { \"use_label_encoder\" } are not used.\n",
            "\n",
            "  bst.update(dtrain, iteration=i, fobj=obj)\n",
            "/Users/ratughifa/Documents/Personal Project/islamic crowdfunding campaign/venv/lib/python3.11/site-packages/xgboost/training.py:183: UserWarning: [19:17:56] WARNING: /Users/runner/work/xgboost/xgboost/src/learner.cc:738: \n",
            "Parameters: { \"use_label_encoder\" } are not used.\n",
            "\n",
            "  bst.update(dtrain, iteration=i, fobj=obj)\n",
            "/Users/ratughifa/Documents/Personal Project/islamic crowdfunding campaign/venv/lib/python3.11/site-packages/xgboost/training.py:183: UserWarning: [19:17:56] WARNING: /Users/runner/work/xgboost/xgboost/src/learner.cc:738: \n",
            "Parameters: { \"use_label_encoder\" } are not used.\n",
            "\n",
            "  bst.update(dtrain, iteration=i, fobj=obj)\n",
            "/Users/ratughifa/Documents/Personal Project/islamic crowdfunding campaign/venv/lib/python3.11/site-packages/xgboost/training.py:183: UserWarning: [19:17:56] WARNING: /Users/runner/work/xgboost/xgboost/src/learner.cc:738: \n",
            "Parameters: { \"use_label_encoder\" } are not used.\n",
            "\n",
            "  bst.update(dtrain, iteration=i, fobj=obj)\n",
            "/Users/ratughifa/Documents/Personal Project/islamic crowdfunding campaign/venv/lib/python3.11/site-packages/xgboost/training.py:183: UserWarning: [19:17:56] WARNING: /Users/runner/work/xgboost/xgboost/src/learner.cc:738: \n",
            "Parameters: { \"use_label_encoder\" } are not used.\n",
            "\n",
            "  bst.update(dtrain, iteration=i, fobj=obj)\n",
            "/Users/ratughifa/Documents/Personal Project/islamic crowdfunding campaign/venv/lib/python3.11/site-packages/xgboost/training.py:183: UserWarning: [19:17:56] WARNING: /Users/runner/work/xgboost/xgboost/src/learner.cc:738: \n",
            "Parameters: { \"use_label_encoder\" } are not used.\n",
            "\n",
            "  bst.update(dtrain, iteration=i, fobj=obj)\n",
            "/Users/ratughifa/Documents/Personal Project/islamic crowdfunding campaign/venv/lib/python3.11/site-packages/xgboost/training.py:183: UserWarning: [19:17:56] WARNING: /Users/runner/work/xgboost/xgboost/src/learner.cc:738: \n",
            "Parameters: { \"use_label_encoder\" } are not used.\n",
            "\n",
            "  bst.update(dtrain, iteration=i, fobj=obj)\n",
            "/Users/ratughifa/Documents/Personal Project/islamic crowdfunding campaign/venv/lib/python3.11/site-packages/xgboost/training.py:183: UserWarning: [19:17:56] WARNING: /Users/runner/work/xgboost/xgboost/src/learner.cc:738: \n",
            "Parameters: { \"use_label_encoder\" } are not used.\n",
            "\n",
            "  bst.update(dtrain, iteration=i, fobj=obj)\n",
            "/Users/ratughifa/Documents/Personal Project/islamic crowdfunding campaign/venv/lib/python3.11/site-packages/xgboost/training.py:183: UserWarning: [19:17:56] WARNING: /Users/runner/work/xgboost/xgboost/src/learner.cc:738: \n",
            "Parameters: { \"use_label_encoder\" } are not used.\n",
            "\n",
            "  bst.update(dtrain, iteration=i, fobj=obj)\n",
            "/Users/ratughifa/Documents/Personal Project/islamic crowdfunding campaign/venv/lib/python3.11/site-packages/xgboost/training.py:183: UserWarning: [19:17:56] WARNING: /Users/runner/work/xgboost/xgboost/src/learner.cc:738: \n",
            "Parameters: { \"use_label_encoder\" } are not used.\n",
            "\n",
            "  bst.update(dtrain, iteration=i, fobj=obj)\n",
            "/Users/ratughifa/Documents/Personal Project/islamic crowdfunding campaign/venv/lib/python3.11/site-packages/xgboost/training.py:183: UserWarning: [19:17:56] WARNING: /Users/runner/work/xgboost/xgboost/src/learner.cc:738: \n",
            "Parameters: { \"use_label_encoder\" } are not used.\n",
            "\n",
            "  bst.update(dtrain, iteration=i, fobj=obj)\n",
            "/Users/ratughifa/Documents/Personal Project/islamic crowdfunding campaign/venv/lib/python3.11/site-packages/xgboost/training.py:183: UserWarning: [19:17:56] WARNING: /Users/runner/work/xgboost/xgboost/src/learner.cc:738: \n",
            "Parameters: { \"use_label_encoder\" } are not used.\n",
            "\n",
            "  bst.update(dtrain, iteration=i, fobj=obj)\n",
            "/Users/ratughifa/Documents/Personal Project/islamic crowdfunding campaign/venv/lib/python3.11/site-packages/xgboost/training.py:183: UserWarning: [19:17:56] WARNING: /Users/runner/work/xgboost/xgboost/src/learner.cc:738: \n",
            "Parameters: { \"use_label_encoder\" } are not used.\n",
            "\n",
            "  bst.update(dtrain, iteration=i, fobj=obj)\n",
            "/Users/ratughifa/Documents/Personal Project/islamic crowdfunding campaign/venv/lib/python3.11/site-packages/xgboost/training.py:183: UserWarning: [19:17:56] WARNING: /Users/runner/work/xgboost/xgboost/src/learner.cc:738: \n",
            "Parameters: { \"use_label_encoder\" } are not used.\n",
            "\n",
            "  bst.update(dtrain, iteration=i, fobj=obj)\n",
            "/Users/ratughifa/Documents/Personal Project/islamic crowdfunding campaign/venv/lib/python3.11/site-packages/xgboost/training.py:183: UserWarning: [19:17:56] WARNING: /Users/runner/work/xgboost/xgboost/src/learner.cc:738: \n",
            "Parameters: { \"use_label_encoder\" } are not used.\n",
            "\n",
            "  bst.update(dtrain, iteration=i, fobj=obj)\n",
            "/Users/ratughifa/Documents/Personal Project/islamic crowdfunding campaign/venv/lib/python3.11/site-packages/xgboost/training.py:183: UserWarning: [19:17:56] WARNING: /Users/runner/work/xgboost/xgboost/src/learner.cc:738: \n",
            "Parameters: { \"use_label_encoder\" } are not used.\n",
            "\n",
            "  bst.update(dtrain, iteration=i, fobj=obj)\n",
            "/Users/ratughifa/Documents/Personal Project/islamic crowdfunding campaign/venv/lib/python3.11/site-packages/xgboost/training.py:183: UserWarning: [19:17:57] WARNING: /Users/runner/work/xgboost/xgboost/src/learner.cc:738: \n",
            "Parameters: { \"use_label_encoder\" } are not used.\n",
            "\n",
            "  bst.update(dtrain, iteration=i, fobj=obj)\n",
            "/Users/ratughifa/Documents/Personal Project/islamic crowdfunding campaign/venv/lib/python3.11/site-packages/xgboost/training.py:183: UserWarning: [19:17:57] WARNING: /Users/runner/work/xgboost/xgboost/src/learner.cc:738: \n",
            "Parameters: { \"use_label_encoder\" } are not used.\n",
            "\n",
            "  bst.update(dtrain, iteration=i, fobj=obj)\n",
            "/Users/ratughifa/Documents/Personal Project/islamic crowdfunding campaign/venv/lib/python3.11/site-packages/xgboost/training.py:183: UserWarning: [19:17:57] WARNING: /Users/runner/work/xgboost/xgboost/src/learner.cc:738: \n",
            "Parameters: { \"use_label_encoder\" } are not used.\n",
            "\n",
            "  bst.update(dtrain, iteration=i, fobj=obj)\n",
            "/Users/ratughifa/Documents/Personal Project/islamic crowdfunding campaign/venv/lib/python3.11/site-packages/xgboost/training.py:183: UserWarning: [19:17:57] WARNING: /Users/runner/work/xgboost/xgboost/src/learner.cc:738: \n",
            "Parameters: { \"use_label_encoder\" } are not used.\n",
            "\n",
            "  bst.update(dtrain, iteration=i, fobj=obj)\n",
            "/Users/ratughifa/Documents/Personal Project/islamic crowdfunding campaign/venv/lib/python3.11/site-packages/xgboost/training.py:183: UserWarning: [19:17:57] WARNING: /Users/runner/work/xgboost/xgboost/src/learner.cc:738: \n",
            "Parameters: { \"use_label_encoder\" } are not used.\n",
            "\n",
            "  bst.update(dtrain, iteration=i, fobj=obj)\n",
            "/Users/ratughifa/Documents/Personal Project/islamic crowdfunding campaign/venv/lib/python3.11/site-packages/xgboost/training.py:183: UserWarning: [19:17:57] WARNING: /Users/runner/work/xgboost/xgboost/src/learner.cc:738: \n",
            "Parameters: { \"use_label_encoder\" } are not used.\n",
            "\n",
            "  bst.update(dtrain, iteration=i, fobj=obj)\n",
            "/Users/ratughifa/Documents/Personal Project/islamic crowdfunding campaign/venv/lib/python3.11/site-packages/xgboost/training.py:183: UserWarning: [19:17:57] WARNING: /Users/runner/work/xgboost/xgboost/src/learner.cc:738: \n",
            "Parameters: { \"use_label_encoder\" } are not used.\n",
            "\n",
            "  bst.update(dtrain, iteration=i, fobj=obj)\n",
            "/Users/ratughifa/Documents/Personal Project/islamic crowdfunding campaign/venv/lib/python3.11/site-packages/xgboost/training.py:183: UserWarning: [19:17:57] WARNING: /Users/runner/work/xgboost/xgboost/src/learner.cc:738: \n",
            "Parameters: { \"use_label_encoder\" } are not used.\n",
            "\n",
            "  bst.update(dtrain, iteration=i, fobj=obj)\n",
            "/Users/ratughifa/Documents/Personal Project/islamic crowdfunding campaign/venv/lib/python3.11/site-packages/xgboost/training.py:183: UserWarning: [19:17:57] WARNING: /Users/runner/work/xgboost/xgboost/src/learner.cc:738: \n",
            "Parameters: { \"use_label_encoder\" } are not used.\n",
            "\n",
            "  bst.update(dtrain, iteration=i, fobj=obj)\n",
            "/Users/ratughifa/Documents/Personal Project/islamic crowdfunding campaign/venv/lib/python3.11/site-packages/xgboost/training.py:183: UserWarning: [19:17:57] WARNING: /Users/runner/work/xgboost/xgboost/src/learner.cc:738: \n",
            "Parameters: { \"use_label_encoder\" } are not used.\n",
            "\n",
            "  bst.update(dtrain, iteration=i, fobj=obj)\n",
            "/Users/ratughifa/Documents/Personal Project/islamic crowdfunding campaign/venv/lib/python3.11/site-packages/xgboost/training.py:183: UserWarning: [19:17:57] WARNING: /Users/runner/work/xgboost/xgboost/src/learner.cc:738: \n",
            "Parameters: { \"use_label_encoder\" } are not used.\n",
            "\n",
            "  bst.update(dtrain, iteration=i, fobj=obj)\n",
            "/Users/ratughifa/Documents/Personal Project/islamic crowdfunding campaign/venv/lib/python3.11/site-packages/xgboost/training.py:183: UserWarning: [19:17:57] WARNING: /Users/runner/work/xgboost/xgboost/src/learner.cc:738: \n",
            "Parameters: { \"use_label_encoder\" } are not used.\n",
            "\n",
            "  bst.update(dtrain, iteration=i, fobj=obj)\n",
            "/Users/ratughifa/Documents/Personal Project/islamic crowdfunding campaign/venv/lib/python3.11/site-packages/xgboost/training.py:183: UserWarning: [19:17:57] WARNING: /Users/runner/work/xgboost/xgboost/src/learner.cc:738: \n",
            "Parameters: { \"use_label_encoder\" } are not used.\n",
            "\n",
            "  bst.update(dtrain, iteration=i, fobj=obj)\n",
            "/Users/ratughifa/Documents/Personal Project/islamic crowdfunding campaign/venv/lib/python3.11/site-packages/xgboost/training.py:183: UserWarning: [19:17:57] WARNING: /Users/runner/work/xgboost/xgboost/src/learner.cc:738: \n",
            "Parameters: { \"use_label_encoder\" } are not used.\n",
            "\n",
            "  bst.update(dtrain, iteration=i, fobj=obj)\n",
            "/Users/ratughifa/Documents/Personal Project/islamic crowdfunding campaign/venv/lib/python3.11/site-packages/xgboost/training.py:183: UserWarning: [19:17:57] WARNING: /Users/runner/work/xgboost/xgboost/src/learner.cc:738: \n",
            "Parameters: { \"use_label_encoder\" } are not used.\n",
            "\n",
            "  bst.update(dtrain, iteration=i, fobj=obj)\n",
            "/Users/ratughifa/Documents/Personal Project/islamic crowdfunding campaign/venv/lib/python3.11/site-packages/xgboost/training.py:183: UserWarning: [19:17:57] WARNING: /Users/runner/work/xgboost/xgboost/src/learner.cc:738: \n",
            "Parameters: { \"use_label_encoder\" } are not used.\n",
            "\n",
            "  bst.update(dtrain, iteration=i, fobj=obj)\n",
            "/Users/ratughifa/Documents/Personal Project/islamic crowdfunding campaign/venv/lib/python3.11/site-packages/xgboost/training.py:183: UserWarning: [19:17:57] WARNING: /Users/runner/work/xgboost/xgboost/src/learner.cc:738: \n",
            "Parameters: { \"use_label_encoder\" } are not used.\n",
            "\n",
            "  bst.update(dtrain, iteration=i, fobj=obj)\n",
            "/Users/ratughifa/Documents/Personal Project/islamic crowdfunding campaign/venv/lib/python3.11/site-packages/xgboost/training.py:183: UserWarning: [19:17:57] WARNING: /Users/runner/work/xgboost/xgboost/src/learner.cc:738: \n",
            "Parameters: { \"use_label_encoder\" } are not used.\n",
            "\n",
            "  bst.update(dtrain, iteration=i, fobj=obj)\n",
            "/Users/ratughifa/Documents/Personal Project/islamic crowdfunding campaign/venv/lib/python3.11/site-packages/xgboost/training.py:183: UserWarning: [19:17:57] WARNING: /Users/runner/work/xgboost/xgboost/src/learner.cc:738: \n",
            "Parameters: { \"use_label_encoder\" } are not used.\n",
            "\n",
            "  bst.update(dtrain, iteration=i, fobj=obj)\n",
            "/Users/ratughifa/Documents/Personal Project/islamic crowdfunding campaign/venv/lib/python3.11/site-packages/xgboost/training.py:183: UserWarning: [19:17:57] WARNING: /Users/runner/work/xgboost/xgboost/src/learner.cc:738: \n",
            "Parameters: { \"use_label_encoder\" } are not used.\n",
            "\n",
            "  bst.update(dtrain, iteration=i, fobj=obj)\n",
            "/Users/ratughifa/Documents/Personal Project/islamic crowdfunding campaign/venv/lib/python3.11/site-packages/xgboost/training.py:183: UserWarning: [19:17:57] WARNING: /Users/runner/work/xgboost/xgboost/src/learner.cc:738: \n",
            "Parameters: { \"use_label_encoder\" } are not used.\n",
            "\n",
            "  bst.update(dtrain, iteration=i, fobj=obj)\n",
            "/Users/ratughifa/Documents/Personal Project/islamic crowdfunding campaign/venv/lib/python3.11/site-packages/xgboost/training.py:183: UserWarning: [19:17:57] WARNING: /Users/runner/work/xgboost/xgboost/src/learner.cc:738: \n",
            "Parameters: { \"use_label_encoder\" } are not used.\n",
            "\n",
            "  bst.update(dtrain, iteration=i, fobj=obj)\n",
            "/Users/ratughifa/Documents/Personal Project/islamic crowdfunding campaign/venv/lib/python3.11/site-packages/xgboost/training.py:183: UserWarning: [19:17:57] WARNING: /Users/runner/work/xgboost/xgboost/src/learner.cc:738: \n",
            "Parameters: { \"use_label_encoder\" } are not used.\n",
            "\n",
            "  bst.update(dtrain, iteration=i, fobj=obj)\n",
            "/Users/ratughifa/Documents/Personal Project/islamic crowdfunding campaign/venv/lib/python3.11/site-packages/xgboost/training.py:183: UserWarning: [19:17:57] WARNING: /Users/runner/work/xgboost/xgboost/src/learner.cc:738: \n",
            "Parameters: { \"use_label_encoder\" } are not used.\n",
            "\n",
            "  bst.update(dtrain, iteration=i, fobj=obj)\n",
            "/Users/ratughifa/Documents/Personal Project/islamic crowdfunding campaign/venv/lib/python3.11/site-packages/xgboost/training.py:183: UserWarning: [19:17:57] WARNING: /Users/runner/work/xgboost/xgboost/src/learner.cc:738: \n",
            "Parameters: { \"use_label_encoder\" } are not used.\n",
            "\n",
            "  bst.update(dtrain, iteration=i, fobj=obj)\n",
            "/Users/ratughifa/Documents/Personal Project/islamic crowdfunding campaign/venv/lib/python3.11/site-packages/xgboost/training.py:183: UserWarning: [19:17:57] WARNING: /Users/runner/work/xgboost/xgboost/src/learner.cc:738: \n",
            "Parameters: { \"use_label_encoder\" } are not used.\n",
            "\n",
            "  bst.update(dtrain, iteration=i, fobj=obj)\n",
            "/Users/ratughifa/Documents/Personal Project/islamic crowdfunding campaign/venv/lib/python3.11/site-packages/xgboost/training.py:183: UserWarning: [19:17:57] WARNING: /Users/runner/work/xgboost/xgboost/src/learner.cc:738: \n",
            "Parameters: { \"use_label_encoder\" } are not used.\n",
            "\n",
            "  bst.update(dtrain, iteration=i, fobj=obj)\n",
            "/Users/ratughifa/Documents/Personal Project/islamic crowdfunding campaign/venv/lib/python3.11/site-packages/xgboost/training.py:183: UserWarning: [19:17:57] WARNING: /Users/runner/work/xgboost/xgboost/src/learner.cc:738: \n",
            "Parameters: { \"use_label_encoder\" } are not used.\n",
            "\n",
            "  bst.update(dtrain, iteration=i, fobj=obj)\n",
            "/Users/ratughifa/Documents/Personal Project/islamic crowdfunding campaign/venv/lib/python3.11/site-packages/xgboost/training.py:183: UserWarning: [19:17:57] WARNING: /Users/runner/work/xgboost/xgboost/src/learner.cc:738: \n",
            "Parameters: { \"use_label_encoder\" } are not used.\n",
            "\n",
            "  bst.update(dtrain, iteration=i, fobj=obj)\n",
            "/Users/ratughifa/Documents/Personal Project/islamic crowdfunding campaign/venv/lib/python3.11/site-packages/xgboost/training.py:183: UserWarning: [19:17:57] WARNING: /Users/runner/work/xgboost/xgboost/src/learner.cc:738: \n",
            "Parameters: { \"use_label_encoder\" } are not used.\n",
            "\n",
            "  bst.update(dtrain, iteration=i, fobj=obj)\n",
            "/Users/ratughifa/Documents/Personal Project/islamic crowdfunding campaign/venv/lib/python3.11/site-packages/xgboost/training.py:183: UserWarning: [19:17:57] WARNING: /Users/runner/work/xgboost/xgboost/src/learner.cc:738: \n",
            "Parameters: { \"use_label_encoder\" } are not used.\n",
            "\n",
            "  bst.update(dtrain, iteration=i, fobj=obj)\n",
            "/Users/ratughifa/Documents/Personal Project/islamic crowdfunding campaign/venv/lib/python3.11/site-packages/xgboost/training.py:183: UserWarning: [19:17:57] WARNING: /Users/runner/work/xgboost/xgboost/src/learner.cc:738: \n",
            "Parameters: { \"use_label_encoder\" } are not used.\n",
            "\n",
            "  bst.update(dtrain, iteration=i, fobj=obj)\n",
            "/Users/ratughifa/Documents/Personal Project/islamic crowdfunding campaign/venv/lib/python3.11/site-packages/xgboost/training.py:183: UserWarning: [19:17:57] WARNING: /Users/runner/work/xgboost/xgboost/src/learner.cc:738: \n",
            "Parameters: { \"use_label_encoder\" } are not used.\n",
            "\n",
            "  bst.update(dtrain, iteration=i, fobj=obj)\n",
            "/Users/ratughifa/Documents/Personal Project/islamic crowdfunding campaign/venv/lib/python3.11/site-packages/xgboost/training.py:183: UserWarning: [19:17:57] WARNING: /Users/runner/work/xgboost/xgboost/src/learner.cc:738: \n",
            "Parameters: { \"use_label_encoder\" } are not used.\n",
            "\n",
            "  bst.update(dtrain, iteration=i, fobj=obj)\n",
            "/Users/ratughifa/Documents/Personal Project/islamic crowdfunding campaign/venv/lib/python3.11/site-packages/xgboost/training.py:183: UserWarning: [19:17:57] WARNING: /Users/runner/work/xgboost/xgboost/src/learner.cc:738: \n",
            "Parameters: { \"use_label_encoder\" } are not used.\n",
            "\n",
            "  bst.update(dtrain, iteration=i, fobj=obj)\n",
            "/Users/ratughifa/Documents/Personal Project/islamic crowdfunding campaign/venv/lib/python3.11/site-packages/xgboost/training.py:183: UserWarning: [19:17:57] WARNING: /Users/runner/work/xgboost/xgboost/src/learner.cc:738: \n",
            "Parameters: { \"use_label_encoder\" } are not used.\n",
            "\n",
            "  bst.update(dtrain, iteration=i, fobj=obj)\n",
            "/Users/ratughifa/Documents/Personal Project/islamic crowdfunding campaign/venv/lib/python3.11/site-packages/xgboost/training.py:183: UserWarning: [19:17:57] WARNING: /Users/runner/work/xgboost/xgboost/src/learner.cc:738: \n",
            "Parameters: { \"use_label_encoder\" } are not used.\n",
            "\n",
            "  bst.update(dtrain, iteration=i, fobj=obj)\n",
            "/Users/ratughifa/Documents/Personal Project/islamic crowdfunding campaign/venv/lib/python3.11/site-packages/xgboost/training.py:183: UserWarning: [19:17:57] WARNING: /Users/runner/work/xgboost/xgboost/src/learner.cc:738: \n",
            "Parameters: { \"use_label_encoder\" } are not used.\n",
            "\n",
            "  bst.update(dtrain, iteration=i, fobj=obj)\n",
            "/Users/ratughifa/Documents/Personal Project/islamic crowdfunding campaign/venv/lib/python3.11/site-packages/xgboost/training.py:183: UserWarning: [19:17:57] WARNING: /Users/runner/work/xgboost/xgboost/src/learner.cc:738: \n",
            "Parameters: { \"use_label_encoder\" } are not used.\n",
            "\n",
            "  bst.update(dtrain, iteration=i, fobj=obj)\n",
            "/Users/ratughifa/Documents/Personal Project/islamic crowdfunding campaign/venv/lib/python3.11/site-packages/xgboost/training.py:183: UserWarning: [19:17:57] WARNING: /Users/runner/work/xgboost/xgboost/src/learner.cc:738: \n",
            "Parameters: { \"use_label_encoder\" } are not used.\n",
            "\n",
            "  bst.update(dtrain, iteration=i, fobj=obj)\n",
            "/Users/ratughifa/Documents/Personal Project/islamic crowdfunding campaign/venv/lib/python3.11/site-packages/xgboost/training.py:183: UserWarning: [19:17:57] WARNING: /Users/runner/work/xgboost/xgboost/src/learner.cc:738: \n",
            "Parameters: { \"use_label_encoder\" } are not used.\n",
            "\n",
            "  bst.update(dtrain, iteration=i, fobj=obj)\n",
            "/Users/ratughifa/Documents/Personal Project/islamic crowdfunding campaign/venv/lib/python3.11/site-packages/xgboost/training.py:183: UserWarning: [19:17:57] WARNING: /Users/runner/work/xgboost/xgboost/src/learner.cc:738: \n",
            "Parameters: { \"use_label_encoder\" } are not used.\n",
            "\n",
            "  bst.update(dtrain, iteration=i, fobj=obj)\n",
            "/Users/ratughifa/Documents/Personal Project/islamic crowdfunding campaign/venv/lib/python3.11/site-packages/xgboost/training.py:183: UserWarning: [19:17:57] WARNING: /Users/runner/work/xgboost/xgboost/src/learner.cc:738: \n",
            "Parameters: { \"use_label_encoder\" } are not used.\n",
            "\n",
            "  bst.update(dtrain, iteration=i, fobj=obj)\n",
            "/Users/ratughifa/Documents/Personal Project/islamic crowdfunding campaign/venv/lib/python3.11/site-packages/xgboost/training.py:183: UserWarning: [19:17:57] WARNING: /Users/runner/work/xgboost/xgboost/src/learner.cc:738: \n",
            "Parameters: { \"use_label_encoder\" } are not used.\n",
            "\n",
            "  bst.update(dtrain, iteration=i, fobj=obj)\n",
            "/Users/ratughifa/Documents/Personal Project/islamic crowdfunding campaign/venv/lib/python3.11/site-packages/xgboost/training.py:183: UserWarning: [19:17:57] WARNING: /Users/runner/work/xgboost/xgboost/src/learner.cc:738: \n",
            "Parameters: { \"use_label_encoder\" } are not used.\n",
            "\n",
            "  bst.update(dtrain, iteration=i, fobj=obj)\n",
            "/Users/ratughifa/Documents/Personal Project/islamic crowdfunding campaign/venv/lib/python3.11/site-packages/xgboost/training.py:183: UserWarning: [19:17:57] WARNING: /Users/runner/work/xgboost/xgboost/src/learner.cc:738: \n",
            "Parameters: { \"use_label_encoder\" } are not used.\n",
            "\n",
            "  bst.update(dtrain, iteration=i, fobj=obj)\n",
            "/Users/ratughifa/Documents/Personal Project/islamic crowdfunding campaign/venv/lib/python3.11/site-packages/xgboost/training.py:183: UserWarning: [19:17:57] WARNING: /Users/runner/work/xgboost/xgboost/src/learner.cc:738: \n",
            "Parameters: { \"use_label_encoder\" } are not used.\n",
            "\n",
            "  bst.update(dtrain, iteration=i, fobj=obj)\n",
            "/Users/ratughifa/Documents/Personal Project/islamic crowdfunding campaign/venv/lib/python3.11/site-packages/xgboost/training.py:183: UserWarning: [19:17:57] WARNING: /Users/runner/work/xgboost/xgboost/src/learner.cc:738: \n",
            "Parameters: { \"use_label_encoder\" } are not used.\n",
            "\n",
            "  bst.update(dtrain, iteration=i, fobj=obj)\n",
            "/Users/ratughifa/Documents/Personal Project/islamic crowdfunding campaign/venv/lib/python3.11/site-packages/xgboost/training.py:183: UserWarning: [19:17:57] WARNING: /Users/runner/work/xgboost/xgboost/src/learner.cc:738: \n",
            "Parameters: { \"use_label_encoder\" } are not used.\n",
            "\n",
            "  bst.update(dtrain, iteration=i, fobj=obj)\n",
            "/Users/ratughifa/Documents/Personal Project/islamic crowdfunding campaign/venv/lib/python3.11/site-packages/xgboost/training.py:183: UserWarning: [19:17:57] WARNING: /Users/runner/work/xgboost/xgboost/src/learner.cc:738: \n",
            "Parameters: { \"use_label_encoder\" } are not used.\n",
            "\n",
            "  bst.update(dtrain, iteration=i, fobj=obj)\n",
            "/Users/ratughifa/Documents/Personal Project/islamic crowdfunding campaign/venv/lib/python3.11/site-packages/xgboost/training.py:183: UserWarning: [19:17:57] WARNING: /Users/runner/work/xgboost/xgboost/src/learner.cc:738: \n",
            "Parameters: { \"use_label_encoder\" } are not used.\n",
            "\n",
            "  bst.update(dtrain, iteration=i, fobj=obj)\n",
            "/Users/ratughifa/Documents/Personal Project/islamic crowdfunding campaign/venv/lib/python3.11/site-packages/xgboost/training.py:183: UserWarning: [19:17:57] WARNING: /Users/runner/work/xgboost/xgboost/src/learner.cc:738: \n",
            "Parameters: { \"use_label_encoder\" } are not used.\n",
            "\n",
            "  bst.update(dtrain, iteration=i, fobj=obj)\n",
            "/Users/ratughifa/Documents/Personal Project/islamic crowdfunding campaign/venv/lib/python3.11/site-packages/xgboost/training.py:183: UserWarning: [19:17:57] WARNING: /Users/runner/work/xgboost/xgboost/src/learner.cc:738: \n",
            "Parameters: { \"use_label_encoder\" } are not used.\n",
            "\n",
            "  bst.update(dtrain, iteration=i, fobj=obj)\n",
            "/Users/ratughifa/Documents/Personal Project/islamic crowdfunding campaign/venv/lib/python3.11/site-packages/xgboost/training.py:183: UserWarning: [19:17:57] WARNING: /Users/runner/work/xgboost/xgboost/src/learner.cc:738: \n",
            "Parameters: { \"use_label_encoder\" } are not used.\n",
            "\n",
            "  bst.update(dtrain, iteration=i, fobj=obj)\n",
            "/Users/ratughifa/Documents/Personal Project/islamic crowdfunding campaign/venv/lib/python3.11/site-packages/xgboost/training.py:183: UserWarning: [19:17:57] WARNING: /Users/runner/work/xgboost/xgboost/src/learner.cc:738: \n",
            "Parameters: { \"use_label_encoder\" } are not used.\n",
            "\n",
            "  bst.update(dtrain, iteration=i, fobj=obj)\n",
            "/Users/ratughifa/Documents/Personal Project/islamic crowdfunding campaign/venv/lib/python3.11/site-packages/xgboost/training.py:183: UserWarning: [19:17:57] WARNING: /Users/runner/work/xgboost/xgboost/src/learner.cc:738: \n",
            "Parameters: { \"use_label_encoder\" } are not used.\n",
            "\n",
            "  bst.update(dtrain, iteration=i, fobj=obj)\n",
            "/Users/ratughifa/Documents/Personal Project/islamic crowdfunding campaign/venv/lib/python3.11/site-packages/xgboost/training.py:183: UserWarning: [19:17:57] WARNING: /Users/runner/work/xgboost/xgboost/src/learner.cc:738: \n",
            "Parameters: { \"use_label_encoder\" } are not used.\n",
            "\n",
            "  bst.update(dtrain, iteration=i, fobj=obj)\n",
            "/Users/ratughifa/Documents/Personal Project/islamic crowdfunding campaign/venv/lib/python3.11/site-packages/xgboost/training.py:183: UserWarning: [19:17:57] WARNING: /Users/runner/work/xgboost/xgboost/src/learner.cc:738: \n",
            "Parameters: { \"use_label_encoder\" } are not used.\n",
            "\n",
            "  bst.update(dtrain, iteration=i, fobj=obj)\n",
            "/Users/ratughifa/Documents/Personal Project/islamic crowdfunding campaign/venv/lib/python3.11/site-packages/xgboost/training.py:183: UserWarning: [19:17:57] WARNING: /Users/runner/work/xgboost/xgboost/src/learner.cc:738: \n",
            "Parameters: { \"use_label_encoder\" } are not used.\n",
            "\n",
            "  bst.update(dtrain, iteration=i, fobj=obj)\n",
            "/Users/ratughifa/Documents/Personal Project/islamic crowdfunding campaign/venv/lib/python3.11/site-packages/xgboost/training.py:183: UserWarning: [19:17:57] WARNING: /Users/runner/work/xgboost/xgboost/src/learner.cc:738: \n",
            "Parameters: { \"use_label_encoder\" } are not used.\n",
            "\n",
            "  bst.update(dtrain, iteration=i, fobj=obj)\n",
            "/Users/ratughifa/Documents/Personal Project/islamic crowdfunding campaign/venv/lib/python3.11/site-packages/xgboost/training.py:183: UserWarning: [19:17:57] WARNING: /Users/runner/work/xgboost/xgboost/src/learner.cc:738: \n",
            "Parameters: { \"use_label_encoder\" } are not used.\n",
            "\n",
            "  bst.update(dtrain, iteration=i, fobj=obj)\n",
            "/Users/ratughifa/Documents/Personal Project/islamic crowdfunding campaign/venv/lib/python3.11/site-packages/xgboost/training.py:183: UserWarning: [19:17:57] WARNING: /Users/runner/work/xgboost/xgboost/src/learner.cc:738: \n",
            "Parameters: { \"use_label_encoder\" } are not used.\n",
            "\n",
            "  bst.update(dtrain, iteration=i, fobj=obj)\n",
            "/Users/ratughifa/Documents/Personal Project/islamic crowdfunding campaign/venv/lib/python3.11/site-packages/xgboost/training.py:183: UserWarning: [19:17:57] WARNING: /Users/runner/work/xgboost/xgboost/src/learner.cc:738: \n",
            "Parameters: { \"use_label_encoder\" } are not used.\n",
            "\n",
            "  bst.update(dtrain, iteration=i, fobj=obj)\n",
            "/Users/ratughifa/Documents/Personal Project/islamic crowdfunding campaign/venv/lib/python3.11/site-packages/xgboost/training.py:183: UserWarning: [19:17:57] WARNING: /Users/runner/work/xgboost/xgboost/src/learner.cc:738: \n",
            "Parameters: { \"use_label_encoder\" } are not used.\n",
            "\n",
            "  bst.update(dtrain, iteration=i, fobj=obj)\n",
            "/Users/ratughifa/Documents/Personal Project/islamic crowdfunding campaign/venv/lib/python3.11/site-packages/xgboost/training.py:183: UserWarning: [19:17:57] WARNING: /Users/runner/work/xgboost/xgboost/src/learner.cc:738: \n",
            "Parameters: { \"use_label_encoder\" } are not used.\n",
            "\n",
            "  bst.update(dtrain, iteration=i, fobj=obj)\n",
            "/Users/ratughifa/Documents/Personal Project/islamic crowdfunding campaign/venv/lib/python3.11/site-packages/xgboost/training.py:183: UserWarning: [19:17:57] WARNING: /Users/runner/work/xgboost/xgboost/src/learner.cc:738: \n",
            "Parameters: { \"use_label_encoder\" } are not used.\n",
            "\n",
            "  bst.update(dtrain, iteration=i, fobj=obj)\n",
            "/Users/ratughifa/Documents/Personal Project/islamic crowdfunding campaign/venv/lib/python3.11/site-packages/xgboost/training.py:183: UserWarning: [19:17:57] WARNING: /Users/runner/work/xgboost/xgboost/src/learner.cc:738: \n",
            "Parameters: { \"use_label_encoder\" } are not used.\n",
            "\n",
            "  bst.update(dtrain, iteration=i, fobj=obj)\n",
            "/Users/ratughifa/Documents/Personal Project/islamic crowdfunding campaign/venv/lib/python3.11/site-packages/xgboost/training.py:183: UserWarning: [19:17:57] WARNING: /Users/runner/work/xgboost/xgboost/src/learner.cc:738: \n",
            "Parameters: { \"use_label_encoder\" } are not used.\n",
            "\n",
            "  bst.update(dtrain, iteration=i, fobj=obj)\n",
            "/Users/ratughifa/Documents/Personal Project/islamic crowdfunding campaign/venv/lib/python3.11/site-packages/xgboost/training.py:183: UserWarning: [19:17:57] WARNING: /Users/runner/work/xgboost/xgboost/src/learner.cc:738: \n",
            "Parameters: { \"use_label_encoder\" } are not used.\n",
            "\n",
            "  bst.update(dtrain, iteration=i, fobj=obj)\n",
            "/Users/ratughifa/Documents/Personal Project/islamic crowdfunding campaign/venv/lib/python3.11/site-packages/xgboost/training.py:183: UserWarning: [19:17:57] WARNING: /Users/runner/work/xgboost/xgboost/src/learner.cc:738: \n",
            "Parameters: { \"use_label_encoder\" } are not used.\n",
            "\n",
            "  bst.update(dtrain, iteration=i, fobj=obj)\n",
            "/Users/ratughifa/Documents/Personal Project/islamic crowdfunding campaign/venv/lib/python3.11/site-packages/xgboost/training.py:183: UserWarning: [19:17:57] WARNING: /Users/runner/work/xgboost/xgboost/src/learner.cc:738: \n",
            "Parameters: { \"use_label_encoder\" } are not used.\n",
            "\n",
            "  bst.update(dtrain, iteration=i, fobj=obj)\n",
            "/Users/ratughifa/Documents/Personal Project/islamic crowdfunding campaign/venv/lib/python3.11/site-packages/xgboost/training.py:183: UserWarning: [19:17:57] WARNING: /Users/runner/work/xgboost/xgboost/src/learner.cc:738: \n",
            "Parameters: { \"use_label_encoder\" } are not used.\n",
            "\n",
            "  bst.update(dtrain, iteration=i, fobj=obj)\n",
            "/Users/ratughifa/Documents/Personal Project/islamic crowdfunding campaign/venv/lib/python3.11/site-packages/xgboost/training.py:183: UserWarning: [19:17:57] WARNING: /Users/runner/work/xgboost/xgboost/src/learner.cc:738: \n",
            "Parameters: { \"use_label_encoder\" } are not used.\n",
            "\n",
            "  bst.update(dtrain, iteration=i, fobj=obj)\n",
            "/Users/ratughifa/Documents/Personal Project/islamic crowdfunding campaign/venv/lib/python3.11/site-packages/xgboost/training.py:183: UserWarning: [19:17:57] WARNING: /Users/runner/work/xgboost/xgboost/src/learner.cc:738: \n",
            "Parameters: { \"use_label_encoder\" } are not used.\n",
            "\n",
            "  bst.update(dtrain, iteration=i, fobj=obj)\n",
            "/Users/ratughifa/Documents/Personal Project/islamic crowdfunding campaign/venv/lib/python3.11/site-packages/xgboost/training.py:183: UserWarning: [19:17:57] WARNING: /Users/runner/work/xgboost/xgboost/src/learner.cc:738: \n",
            "Parameters: { \"use_label_encoder\" } are not used.\n",
            "\n",
            "  bst.update(dtrain, iteration=i, fobj=obj)\n",
            "/Users/ratughifa/Documents/Personal Project/islamic crowdfunding campaign/venv/lib/python3.11/site-packages/xgboost/training.py:183: UserWarning: [19:17:57] WARNING: /Users/runner/work/xgboost/xgboost/src/learner.cc:738: \n",
            "Parameters: { \"use_label_encoder\" } are not used.\n",
            "\n",
            "  bst.update(dtrain, iteration=i, fobj=obj)\n",
            "/Users/ratughifa/Documents/Personal Project/islamic crowdfunding campaign/venv/lib/python3.11/site-packages/xgboost/training.py:183: UserWarning: [19:17:57] WARNING: /Users/runner/work/xgboost/xgboost/src/learner.cc:738: \n",
            "Parameters: { \"use_label_encoder\" } are not used.\n",
            "\n",
            "  bst.update(dtrain, iteration=i, fobj=obj)\n",
            "/Users/ratughifa/Documents/Personal Project/islamic crowdfunding campaign/venv/lib/python3.11/site-packages/xgboost/training.py:183: UserWarning: [19:17:57] WARNING: /Users/runner/work/xgboost/xgboost/src/learner.cc:738: \n",
            "Parameters: { \"use_label_encoder\" } are not used.\n",
            "\n",
            "  bst.update(dtrain, iteration=i, fobj=obj)\n",
            "/Users/ratughifa/Documents/Personal Project/islamic crowdfunding campaign/venv/lib/python3.11/site-packages/xgboost/training.py:183: UserWarning: [19:17:57] WARNING: /Users/runner/work/xgboost/xgboost/src/learner.cc:738: \n",
            "Parameters: { \"use_label_encoder\" } are not used.\n",
            "\n",
            "  bst.update(dtrain, iteration=i, fobj=obj)\n",
            "/Users/ratughifa/Documents/Personal Project/islamic crowdfunding campaign/venv/lib/python3.11/site-packages/xgboost/training.py:183: UserWarning: [19:17:57] WARNING: /Users/runner/work/xgboost/xgboost/src/learner.cc:738: \n",
            "Parameters: { \"use_label_encoder\" } are not used.\n",
            "\n",
            "  bst.update(dtrain, iteration=i, fobj=obj)\n",
            "/Users/ratughifa/Documents/Personal Project/islamic crowdfunding campaign/venv/lib/python3.11/site-packages/xgboost/training.py:183: UserWarning: [19:17:57] WARNING: /Users/runner/work/xgboost/xgboost/src/learner.cc:738: \n",
            "Parameters: { \"use_label_encoder\" } are not used.\n",
            "\n",
            "  bst.update(dtrain, iteration=i, fobj=obj)\n",
            "/Users/ratughifa/Documents/Personal Project/islamic crowdfunding campaign/venv/lib/python3.11/site-packages/xgboost/training.py:183: UserWarning: [19:17:57] WARNING: /Users/runner/work/xgboost/xgboost/src/learner.cc:738: \n",
            "Parameters: { \"use_label_encoder\" } are not used.\n",
            "\n",
            "  bst.update(dtrain, iteration=i, fobj=obj)\n",
            "/Users/ratughifa/Documents/Personal Project/islamic crowdfunding campaign/venv/lib/python3.11/site-packages/xgboost/training.py:183: UserWarning: [19:17:57] WARNING: /Users/runner/work/xgboost/xgboost/src/learner.cc:738: \n",
            "Parameters: { \"use_label_encoder\" } are not used.\n",
            "\n",
            "  bst.update(dtrain, iteration=i, fobj=obj)\n",
            "/Users/ratughifa/Documents/Personal Project/islamic crowdfunding campaign/venv/lib/python3.11/site-packages/xgboost/training.py:183: UserWarning: [19:17:57] WARNING: /Users/runner/work/xgboost/xgboost/src/learner.cc:738: \n",
            "Parameters: { \"use_label_encoder\" } are not used.\n",
            "\n",
            "  bst.update(dtrain, iteration=i, fobj=obj)\n",
            "/Users/ratughifa/Documents/Personal Project/islamic crowdfunding campaign/venv/lib/python3.11/site-packages/xgboost/training.py:183: UserWarning: [19:17:57] WARNING: /Users/runner/work/xgboost/xgboost/src/learner.cc:738: \n",
            "Parameters: { \"use_label_encoder\" } are not used.\n",
            "\n",
            "  bst.update(dtrain, iteration=i, fobj=obj)\n",
            "/Users/ratughifa/Documents/Personal Project/islamic crowdfunding campaign/venv/lib/python3.11/site-packages/xgboost/training.py:183: UserWarning: [19:17:57] WARNING: /Users/runner/work/xgboost/xgboost/src/learner.cc:738: \n",
            "Parameters: { \"use_label_encoder\" } are not used.\n",
            "\n",
            "  bst.update(dtrain, iteration=i, fobj=obj)\n",
            "/Users/ratughifa/Documents/Personal Project/islamic crowdfunding campaign/venv/lib/python3.11/site-packages/xgboost/training.py:183: UserWarning: [19:17:57] WARNING: /Users/runner/work/xgboost/xgboost/src/learner.cc:738: \n",
            "Parameters: { \"use_label_encoder\" } are not used.\n",
            "\n",
            "  bst.update(dtrain, iteration=i, fobj=obj)\n",
            "/Users/ratughifa/Documents/Personal Project/islamic crowdfunding campaign/venv/lib/python3.11/site-packages/xgboost/training.py:183: UserWarning: [19:17:57] WARNING: /Users/runner/work/xgboost/xgboost/src/learner.cc:738: \n",
            "Parameters: { \"use_label_encoder\" } are not used.\n",
            "\n",
            "  bst.update(dtrain, iteration=i, fobj=obj)\n",
            "/Users/ratughifa/Documents/Personal Project/islamic crowdfunding campaign/venv/lib/python3.11/site-packages/xgboost/training.py:183: UserWarning: [19:17:57] WARNING: /Users/runner/work/xgboost/xgboost/src/learner.cc:738: \n",
            "Parameters: { \"use_label_encoder\" } are not used.\n",
            "\n",
            "  bst.update(dtrain, iteration=i, fobj=obj)\n",
            "/Users/ratughifa/Documents/Personal Project/islamic crowdfunding campaign/venv/lib/python3.11/site-packages/xgboost/training.py:183: UserWarning: [19:17:57] WARNING: /Users/runner/work/xgboost/xgboost/src/learner.cc:738: \n",
            "Parameters: { \"use_label_encoder\" } are not used.\n",
            "\n",
            "  bst.update(dtrain, iteration=i, fobj=obj)\n"
          ]
        },
        {
          "name": "stdout",
          "output_type": "stream",
          "text": [
            "Best XGB Params: {'clf__subsample': 1.0, 'clf__scale_pos_weight': 1, 'clf__n_estimators': 200, 'clf__max_depth': 7, 'clf__learning_rate': 0.2, 'clf__gamma': 0.5, 'clf__colsample_bytree': 0.6}\n"
          ]
        },
        {
          "name": "stderr",
          "output_type": "stream",
          "text": [
            "/Users/ratughifa/Documents/Personal Project/islamic crowdfunding campaign/venv/lib/python3.11/site-packages/xgboost/training.py:183: UserWarning: [19:17:57] WARNING: /Users/runner/work/xgboost/xgboost/src/learner.cc:738: \n",
            "Parameters: { \"use_label_encoder\" } are not used.\n",
            "\n",
            "  bst.update(dtrain, iteration=i, fobj=obj)\n",
            "/Users/ratughifa/Documents/Personal Project/islamic crowdfunding campaign/venv/lib/python3.11/site-packages/xgboost/training.py:183: UserWarning: [19:17:57] WARNING: /Users/runner/work/xgboost/xgboost/src/learner.cc:738: \n",
            "Parameters: { \"use_label_encoder\" } are not used.\n",
            "\n",
            "  bst.update(dtrain, iteration=i, fobj=obj)\n",
            "/Users/ratughifa/Documents/Personal Project/islamic crowdfunding campaign/venv/lib/python3.11/site-packages/xgboost/training.py:183: UserWarning: [19:17:57] WARNING: /Users/runner/work/xgboost/xgboost/src/learner.cc:738: \n",
            "Parameters: { \"use_label_encoder\" } are not used.\n",
            "\n",
            "  bst.update(dtrain, iteration=i, fobj=obj)\n",
            "/Users/ratughifa/Documents/Personal Project/islamic crowdfunding campaign/venv/lib/python3.11/site-packages/xgboost/training.py:183: UserWarning: [19:17:57] WARNING: /Users/runner/work/xgboost/xgboost/src/learner.cc:738: \n",
            "Parameters: { \"use_label_encoder\" } are not used.\n",
            "\n",
            "  bst.update(dtrain, iteration=i, fobj=obj)\n",
            "/Users/ratughifa/Documents/Personal Project/islamic crowdfunding campaign/venv/lib/python3.11/site-packages/xgboost/training.py:183: UserWarning: [19:17:57] WARNING: /Users/runner/work/xgboost/xgboost/src/learner.cc:738: \n",
            "Parameters: { \"use_label_encoder\" } are not used.\n",
            "\n",
            "  bst.update(dtrain, iteration=i, fobj=obj)\n",
            "/Users/ratughifa/Documents/Personal Project/islamic crowdfunding campaign/venv/lib/python3.11/site-packages/xgboost/training.py:183: UserWarning: [19:17:57] WARNING: /Users/runner/work/xgboost/xgboost/src/learner.cc:738: \n",
            "Parameters: { \"use_label_encoder\" } are not used.\n",
            "\n",
            "  bst.update(dtrain, iteration=i, fobj=obj)\n"
          ]
        }
      ],
      "source": [
        "# 2. Parameter Tuning For XGBoost\n",
        "\n",
        "# Calculating scale_pos_weight For Class Imbalance\n",
        "scale_pos_weight = len(y_train[y_train == 0]) / len(y_train[y_train == 1])\n",
        "\n",
        "# Pipeline XGB\n",
        "pipeline_xgb = Pipeline([\n",
        "    ('preprocessor', preprocessor_tree),\n",
        "    ('clf', XGBClassifier(\n",
        "        use_label_encoder=False,\n",
        "        eval_metric='logloss',\n",
        "        random_state=42\n",
        "    ))\n",
        "])\n",
        "\n",
        "# Hyperparameter Space\n",
        "param_dist_xgb = {\n",
        "    'clf__n_estimators': [100, 200, 300],\n",
        "    'clf__max_depth': [3, 5, 7, 9],\n",
        "    'clf__learning_rate': [0.01, 0.05, 0.1, 0.2],\n",
        "    'clf__subsample': [0.6, 0.8, 1.0],\n",
        "    'clf__colsample_bytree': [0.6, 0.8, 1.0],\n",
        "    'clf__gamma': [0, 0.1, 0.3, 0.5],\n",
        "    'clf__scale_pos_weight': [1, scale_pos_weight, scale_pos_weight * 1.5]\n",
        "}\n",
        "\n",
        "# Tuning\n",
        "random_search_xgb = RandomizedSearchCV(\n",
        "    pipeline_xgb,\n",
        "    param_distributions=param_dist_xgb,\n",
        "    n_iter=50,\n",
        "    cv=5,\n",
        "    scoring=scorer,\n",
        "    n_jobs=-1,\n",
        "    verbose=1,\n",
        "    random_state=42\n",
        ")\n",
        "\n",
        "# Fit\n",
        "random_search_xgb.fit(X_train, y_train)\n",
        "\n",
        "# Get the best estimator (the best XGB model found)\n",
        "best_xgb = random_search_xgb.best_estimator_\n",
        "\n",
        "# Print best parameters\n",
        "print(\"Best XGB Params:\", random_search_xgb.best_params_)"
      ]
    },
    {
      "cell_type": "markdown",
      "metadata": {
        "id": "LGUwMbJuVOUt"
      },
      "source": [
        "XGBoost hyperparameters were optimized using Randomized Search CV. The best configuration uses 200 trees (n_estimators=200) with a maximum depth of 9 (max_depth=9), a learning rate of 0.01 (learning_rate=0.01), and subsample=0.8 to reduce overfitting. Other parameters like gamma=0.5 and colsample_bytree=1.0 control tree pruning and feature sampling. scale_pos_weight=1 balances the class distribution. This setup aims to maximize predictive performance while keeping overfitting in check."
      ]
    },
    {
      "cell_type": "code",
      "execution_count": 91,
      "metadata": {
        "colab": {
          "base_uri": "https://localhost:8080/"
        },
        "id": "0trKtbTmrPYW",
        "outputId": "d2254916-4a61-4d2a-8c97-584f8fe0f3d6"
      },
      "outputs": [
        {
          "name": "stdout",
          "output_type": "stream",
          "text": [
            "\n",
            "    Train Set Performance at Threshold 0.65\n",
            "              precision    recall  f1-score   support\n",
            "\n",
            "           0       0.98      1.00      0.99      1797\n",
            "           1       0.96      0.74      0.84       170\n",
            "\n",
            "    accuracy                           0.98      1967\n",
            "   macro avg       0.97      0.87      0.91      1967\n",
            "weighted avg       0.97      0.98      0.97      1967\n",
            "\n",
            " ROC AUC Score (Train): 0.9712674719303414\n",
            "\n",
            "  Test Set at Threshold 0.65 \n",
            "              precision    recall  f1-score   support\n",
            "\n",
            "           0       0.98      1.00      0.99       450\n",
            "           1       1.00      0.79      0.88        42\n",
            "\n",
            "    accuracy                           0.98       492\n",
            "   macro avg       0.99      0.89      0.94       492\n",
            "weighted avg       0.98      0.98      0.98       492\n",
            "\n",
            " ROC AUC Score (Test): 0.947089947089947\n"
          ]
        }
      ],
      "source": [
        "# Train Set Evaluation\n",
        "# y_pred_xgb = random_search_xgb.best_estimator_.predict(X_train) --default threshold\n",
        "y_proba_xgb = random_search_xgb.best_estimator_.predict_proba(X_train)[:, 1]\n",
        "\n",
        "thresh = 0.65\n",
        "y_pred_xgb = (y_proba_xgb >= thresh).astype(int)\n",
        "\n",
        "print(\"\\n    Train Set Performance at Threshold 0.65\")\n",
        "print(classification_report(y_train, y_pred_xgb))\n",
        "print(\" ROC AUC Score (Train):\", roc_auc_score(y_train, y_proba_xgb))\n",
        "\n",
        "# Test Set Evaluation\n",
        "y_pred_xgb = random_search_xgb.best_estimator_.predict(X_test)\n",
        "y_proba_xgb = random_search_xgb.best_estimator_.predict_proba(X_test)[:, 1]\n",
        "\n",
        "print(f\"\\n  Test Set at Threshold {thresh} \")\n",
        "print(classification_report(y_test, y_pred_xgb))\n",
        "print(\" ROC AUC Score (Test):\", roc_auc_score(y_test, y_proba_xgb))"
      ]
    },
    {
      "cell_type": "markdown",
      "metadata": {
        "id": "DqoNZ30UjCkh"
      },
      "source": [
        "The XGBoost model shows strong performance (Train AUC = 0.97, Test AUC = 0.95) with no major signs of overfitting. Class 0 is predicted almost perfectly, while for Class 1 the model achieves precision = 1.00 and recall = 0.79 at threshold 0.65. This means the model is highly conservative: it avoids false positives entirely but misses some true positives. The threshold choice can be adjusted depending on whether the business goal prioritizes minimizing false positives or capturing more true positives."
      ]
    },
    {
      "cell_type": "markdown",
      "metadata": {
        "id": "Wg7sNiqc_lol"
      },
      "source": [
        "### SHAP (SHapley Additive exPlanations) values"
      ]
    },
    {
      "cell_type": "markdown",
      "metadata": {
        "id": "VjN-tOA5SOHW"
      },
      "source": [
        "Machine learning models like Random Forest or XGBoost often work as “black boxes.” They can predict well, but it’s not always clear why. SHAP helps open up that box by showing which features matter most, and whether they push predictions higher or lower.  \n",
        "\n",
        "By looking at SHAP’s global feature importance, I can go beyond just reporting accuracy and ROC-AUC, and actually explain which factors generally drive campaign success or failure. This makes the model more transparent and the insights more useful for understanding crowdfunding dynamics.\n"
      ]
    },
    {
      "cell_type": "code",
      "execution_count": 92,
      "metadata": {
        "colab": {
          "base_uri": "https://localhost:8080/",
          "height": 411
        },
        "id": "0dTFeeUUDPop",
        "outputId": "8422c88f-4d54-445f-b31b-ce75da168247"
      },
      "outputs": [
        {
          "name": "stderr",
          "output_type": "stream",
          "text": [
            "/var/folders/1b/9cl85s01177c7dclv0w0g9r80000gn/T/ipykernel_16338/1262677035.py:32: FutureWarning: DataFrame.groupby with axis=1 is deprecated. Do `frame.T.groupby(...)` without axis instead.\n",
            "  shap_grouped = shap_df.groupby(level=0, axis=1).sum()\n"
          ]
        },
        {
          "data": {
            "image/png": "[encoded data removed]",
            "text/plain": [
              "<Figure size 800x350 with 1 Axes>"
            ]
          },
          "metadata": {},
          "output_type": "display_data"
        }
      ],
      "source": [
        "# 1. Get model and SHAP values\n",
        "xgb_model = best_xgb.named_steps[\"clf\"]\n",
        "X_train_preprocessed = preprocessor_tree.transform(X_train_tree)\n",
        "X_train_preprocessed = (\n",
        "    X_train_preprocessed.toarray()\n",
        "    if hasattr(X_train_preprocessed, \"toarray\")\n",
        "    else X_train_preprocessed\n",
        ")\n",
        "\n",
        "explainer = shap.TreeExplainer(xgb_model)\n",
        "shap_values = explainer.shap_values(X_train_preprocessed)\n",
        "\n",
        "feature_names = preprocessor_tree.get_feature_names_out()\n",
        "\n",
        "# 2. Build feature mapping from OneHotEncoder\n",
        "encoder = preprocessor_tree.named_transformers_['cat']\n",
        "\n",
        "# 3. Create mapping from dummy → original feature\n",
        "mapping = {}\n",
        "for col_name, categories in zip(categorical_cols_tree, encoder.categories_):\n",
        "    for cat in categories:\n",
        "        mapping[f\"cat__{col_name}_{cat}\"] = col_name\n",
        "\n",
        "# 4. For numeric/passthrough features, just keep the name\n",
        "for name in feature_names:\n",
        "    if name not in mapping:\n",
        "        mapping[name] = name.split(\"__\")[-1]\n",
        "\n",
        "# 5. Apply mapping and group\n",
        "shap_df = pd.DataFrame(shap_values, columns=feature_names)\n",
        "shap_df = shap_df.rename(columns=mapping)\n",
        "shap_grouped = shap_df.groupby(level=0, axis=1).sum()\n",
        "\n",
        "# 6.Plot grouped SHAP summary\n",
        "shap.summary_plot(shap_grouped.values, feature_names=shap_grouped.columns)\n"
      ]
    },
    {
      "cell_type": "markdown",
      "metadata": {
        "id": "WRvr5WQP_h_H"
      },
      "source": [
        "#### SHAP Global Feature Importance — Interpretation\n",
        "\n",
        "1. Forever running\n",
        "- **Definition**: `1` = campaign always open to receive donations; `0` = campaign has a fixed deadline.  \n",
        "- **SHAP result**: Strong **positive values** for `forever running=1`.  \n",
        "- **Interpretation**: Campaigns that remain perpetually active greatly **increase the probability of donation target success**.  \n",
        "- **Domain sense**: No deadline = more time to accumulate donations.\n",
        "---\n",
        "\n",
        "2. Category name\n",
        "- **SHAP result**: Negative tendency.\n",
        "- **Interpretation**: Some categories tend to lower the probability of success (negative SHAP values dominate). The model has learned that certain campaign types are less attractive to donors.\n",
        "- **Domain sense**: Some campaign themes may not resonate as much with donors (e.g., niche or less emotionally compelling causes)\n",
        "---\n",
        "\n",
        "3. Log target (Donation goal)\n",
        "- **SHAP result**: Wide spread of points from negative to positive.\n",
        "- **Interpretation**: The SHAP values are widely spread both positive and negative, meaning the impact of donation goals is highly context-dependent. For some campaigns, a higher target discourages donors (negative impact), while in others, a clear and ambitious target can signal trust and credibility (positive impact).\n",
        "- **Domain sense**: In real fundraising, modest goals may seem easier to achieve, but sometimes large, well-justified goals motivate donors to contribute to something big.\n",
        "---\n",
        "\n",
        "4. Campaign type\n",
        "- **SHAP result**: Slight negative bias, minimal overall impact.\n",
        "- **Interpretation**: Shows a slight negative bias, but overall close to zero. This means the model doesn’t consider campaign type (e.g., pool vs. regular) a strong predictor.\n",
        "- **Domain sense**: Donors focus more on the cause, story, and urgency than on whether the funds are pooled or distributed individually.\n",
        "---\n",
        "\n",
        "5. Source (Platform)\n",
        "- **SHAP result**: Very tight cluster near zero, negligible impact. \n",
        "- **Interpretation**: Clustered very tightly near zero → essentially no predictive power. The platform itself doesn’t matter much for campaign success, at least in this dataset.\n",
        "- **Domain sense**: Most donors may not distinguish strongly between platforms, as long as they trust the campaigner and cause.\n",
        "\n"
      ]
    },
    {
      "cell_type": "markdown",
      "metadata": {
        "id": "Tn-q_J9iwFMD"
      },
      "source": [
        "### Save Best Model"
      ]
    },
    {
      "cell_type": "markdown",
      "metadata": {
        "id": "1thMUnYNxBbA"
      },
      "source": [
        "Both Random Forest and XGBoost perform well for predicting campaign success. Random Forest achieves accuracy 0.98 and ROC AUC 0.941, while XGBoost reaches the same accuracy but a slightly higher ROC AUC of 0.948.\n",
        "I chose XGBoost because it has slightly better predictive power, handles feature interactions more effectively, and remains interpretable through feature importance and SHAP values. This makes it suitable for making reliable, resource-sensitive predictions in social crowdfunding campaigns."
      ]
    },
    {
      "cell_type": "code",
      "execution_count": 93,
      "metadata": {
        "colab": {
          "base_uri": "https://localhost:8080/"
        },
        "id": "_XwLEuQ2wGG2",
        "outputId": "efc3fdea-f6a6-47f7-9c68-af02e4d953a4"
      },
      "outputs": [
        {
          "data": {
            "text/plain": [
              "['xgb_best_model.pkl']"
            ]
          },
          "execution_count": 93,
          "metadata": {},
          "output_type": "execute_result"
        }
      ],
      "source": [
        "import joblib\n",
        "joblib.dump(best_xgb, 'xgb_best_model.pkl')\n"
      ]
    },
    {
      "cell_type": "markdown",
      "metadata": {
        "id": "bDbM2fN_dIG9"
      },
      "source": [
        "## Crowdfunding Promotion Cost Analysis"
      ]
    },
    {
      "cell_type": "markdown",
      "metadata": {
        "id": "GeH0c9d5B1HZ"
      },
      "source": [
        "In a donation-based crowdfunding platform, promoting the right campaign is critical — not only to maximize social impact but also to ensure efficient use of limited resources.\n",
        "\n",
        "This section estimates the potential **financial cost of misclassification** by the machine learning model, using two key types of errors:\n",
        "\n",
        "### 1. False Positives (FP)  \n",
        "- **What it means:** The model predicts a campaign will succeed, but in reality, it fails.  \n",
        "- **Impact on fundraiser:** The fundraiser may invest in paid social media ads (e.g., Instagram, Facebook, TikTok), expecting a return through donations. When the campaign fails, this ad budget is wasted.  \n",
        "- **Impact on platform:** Homepage or curation resources are spent on campaigns that do not perform well, which could have been allocated to more promising ones.\n",
        "\n",
        "### 2. False Negatives (FN)  \n",
        "- **What it means:** The model predicts a campaign will fail, but it actually succeeds.  \n",
        "- **Impact on fundraiser:** The campaign might not be promoted, leading to lower visibility and potentially reduced donations.  \n",
        "- **Impact on platform:** By not promoting this campaign, the platform misses out on operational fees (e.g., 5% of the total donation), which are collected from all transactions regardless of campaign success.  \n"
      ]
    },
    {
      "cell_type": "code",
      "execution_count": 94,
      "metadata": {
        "colab": {
          "base_uri": "https://localhost:8080/"
        },
        "id": "W1k22qhG2uC5",
        "outputId": "f25c639c-6459-4ac5-b378-7758e44b0e95"
      },
      "outputs": [
        {
          "name": "stdout",
          "output_type": "stream",
          "text": [
            "False Positives (FP): 0\n",
            "False Negatives (FN): 9\n"
          ]
        }
      ],
      "source": [
        "# 1. Calculate Confusion Matrix\n",
        "cm = confusion_matrix(y_test, y_pred_xgb_thresh)\n",
        "\n",
        "# Value of Confusion Matrix\n",
        "TN, FP, FN, TP = cm.ravel()\n",
        "\n",
        "# Result\n",
        "print(\"False Positives (FP):\", FP)\n",
        "print(\"False Negatives (FN):\", FN)\n",
        "\n",
        "false_positives_count = FP\n",
        "false_negatives_count = FN\n"
      ]
    },
    {
      "cell_type": "code",
      "execution_count": 95,
      "metadata": {
        "colab": {
          "base_uri": "https://localhost:8080/"
        },
        "id": "WV_XonQQP1on",
        "outputId": "4a83c105-6df3-4a96-ec0e-2656b108d2c4"
      },
      "outputs": [
        {
          "name": "stdout",
          "output_type": "stream",
          "text": [
            "Current exchange rate: 1 USD = Rp16,475.00\n",
            "Average donation per successful campaign: Rp392,131,475\n",
            "\n",
            "--- Campaign Efficiency Analysis---\n",
            "tiktok_low  : Ad cost/campaign = Rp560,150; Saving if FP=0: Rp0\n",
            "fb_low      : Ad cost/campaign = Rp988,500; Saving if FP=0: Rp0\n",
            "tiktok_mid  : Ad cost/campaign = Rp1,927,575; Saving if FP=0: Rp0\n",
            "tiktok_high : Ad cost/campaign = Rp3,295,000; Saving if FP=0: Rp0\n",
            "gads_low    : Ad cost/campaign = Rp3,295,000; Saving if FP=0: Rp0\n",
            "insta_low   : Ad cost/campaign = Rp3,327,950; Saving if FP=0: Rp0\n",
            "insta_mid   : Ad cost/campaign = Rp4,514,150; Saving if FP=0: Rp0\n",
            "gads_mid    : Ad cost/campaign = Rp4,942,500; Saving if FP=0: Rp0\n",
            "insta_high  : Ad cost/campaign = Rp5,700,350; Saving if FP=0: Rp0\n",
            "gads_high   : Ad cost/campaign = Rp6,590,000; Saving if FP=0: Rp0\n",
            "fb_mid      : Ad cost/campaign = Rp7,084,250; Saving if FP=0: Rp0\n",
            "fb_high     : Ad cost/campaign = Rp13,180,000; Saving if FP=0: Rp0\n",
            "\n",
            "Note: Current USD→IDR rate is Rp16,475. \n"
          ]
        }
      ],
      "source": [
        "# 2. Fetch live USD->IDR rate safely (Frankfurter API, no API key needed)\n",
        "def get_usd_idr_rate() -> float:\n",
        "    url = \"https://api.frankfurter.app/latest?from=USD&to=IDR\"\n",
        "    resp = requests.get(url, timeout=10)\n",
        "    resp.raise_for_status()\n",
        "    data = resp.json()\n",
        "    return data[\"rates\"][\"IDR\"]\n",
        "\n",
        "USD_TO_IDR = get_usd_idr_rate()\n",
        "print(f\"Current exchange rate: 1 USD = Rp{USD_TO_IDR:,.2f}\")\n",
        "\n",
        "# --- Business inputs ---\n",
        "TOTAL_CAMPAIGNS = 2048\n",
        "EXPECTED_CLICKS = 200 #assumption\n",
        "OPR_FEE = 0.05\n",
        "# Calculate avg_success_donation\n",
        "successful_campaigns = df[df['status'] == 1]\n",
        "\n",
        "if not successful_campaigns.empty:\n",
        "    avg_success_donation = successful_campaigns['donations_collected'].mean()\n",
        "else:\n",
        "    # Fallback default if no successful campaigns exist\n",
        "    avg_success_donation = 250_000.0\n",
        "\n",
        "print(f\"Average donation per successful campaign: Rp{avg_success_donation:,.0f}\")\n",
        "\n",
        "\n",
        "INCLUDE_FN = False  # It is FP analysis only\n",
        "\n",
        "# 3. CPC scenarios, convert USD→IDR using live rate\n",
        "# The actual CPC cost can vary significantly\n",
        "CPC_USD = {\n",
        "    \"fb_low\": 0.30,\n",
        "    \"fb_mid\": np.median([0.30, 4.00]),   # Median FB CPC range\n",
        "    \"fb_high\": 4.00,\n",
        "\n",
        "    \"tiktok_low\": 0.17,\n",
        "    \"tiktok_mid\": np.median([0.17, 1.00]),\n",
        "    \"tiktok_high\": 1.00,\n",
        "\n",
        "    \"insta_low\": 1.01,\n",
        "    \"insta_mid\": np.median([1.01, 1.73]),\n",
        "    \"insta_high\": 1.73,\n",
        "\n",
        "    \"gads_low\": 1.00,\n",
        "    \"gads_mid\": np.median([1.00, 2.00]),\n",
        "    \"gads_high\": 2.00,\n",
        "}\n",
        "CPC_IDR = {k: v * USD_TO_IDR for k, v in CPC_USD.items()}\n",
        "\n",
        "# 4. Scenario evaluation\n",
        "@dataclass\n",
        "class Scenario:\n",
        "    name: str\n",
        "    ad_cost_per_campaign: float\n",
        "    savings_if_fp0: float\n",
        "\n",
        "results: List[Scenario] = []\n",
        "for name, cpc in CPC_IDR.items():\n",
        "    ad_cost = cpc * EXPECTED_CLICKS\n",
        "    saving = FP * ad_cost\n",
        "    results.append(Scenario(name, ad_cost, saving))\n",
        "\n",
        "# 5. Sort by cost\n",
        "results.sort(key=lambda x: x.ad_cost_per_campaign)\n",
        "\n",
        "# 6. Print summary\n",
        "print(\"\\n--- Campaign Efficiency Analysis---\")\n",
        "for s in results:\n",
        "    print(f\"{s.name:12s}: Ad cost/campaign = Rp{s.ad_cost_per_campaign:,.0f}; \"\n",
        "          f\"Saving if FP=0: Rp{s.savings_if_fp0:,.0f}\")\n",
        "\n",
        "# 7. Headline narrative\n",
        "perf = results[0]\n",
        "headline = (\n",
        "    f\"\\nNote: Current USD→IDR rate is Rp{USD_TO_IDR:,.0f}. \"\n",
        ")\n",
        "print(headline)\n",
        "\n"
      ]
    },
    {
      "cell_type": "markdown",
      "metadata": {
        "id": "VkC4YIOAaAtb"
      },
      "source": [
        "In this section, I fetched the live USD→IDR exchange rate and defined business assumptions such as campaign volume, expected clicks, and advertisement fee. Then I set ad cost per click (CPC) ranges for Facebook, TikTok, Instagram, and Google (low, median, high), converted them into IDR, and simulated campaign promotion costs. Finally, I estimated potential savings assuming the model achieves FP=0, meaning no wasted ad spend on unsuccessful campaigns."
      ]
    },
    {
      "cell_type": "markdown",
      "metadata": {
        "id": "bL6Be6g_6Dtu"
      },
      "source": [
        "Sources of CPC Benchmarks by Platform (USD)\n",
        "\n",
        "- **Facebook CPC**\n",
        "  : https://mongoosemedia.us/facebook-ads-cost\n",
        "\n",
        "- **TikTok CPC**\n",
        "  :https://www.businessofapps.com/marketplace/tiktok/research/tiktok-ads-cost/\n",
        "\n",
        "- **Instagram CPC**\n",
        "  :https://madgicx.com/blog/instagram-ads-cost\n",
        "\n",
        "- **Google Ads CPC**\n",
        "  : https://terrahq.com/blog/how-much-do-google-ads-cost-to-run/"
      ]
    },
    {
      "cell_type": "markdown",
      "metadata": {
        "id": "N3B_VR8T4xA5"
      },
      "source": [
        "# Crowdfunding Promotion Cost Analysis\n",
        "\n",
        "### CPC Scenarios\n",
        "- **Low** = Lower bound CPC (minimum observed cost)  \n",
        "- **Mid** = Median CPC (middle point, less sensitive to outliers)  \n",
        "- **High** = Upper bound CPC (maximum observed cost)  \n",
        "\n",
        "### Model Outcome\n",
        "- **False Positives (FP) = 0**  \n",
        "- This means no campaigns were wrongly promoted.  \n",
        "- As a result, **\"Saving if FP=0\" = Rp0** across all scenarios — because the model already eliminated wasteful spending.\n",
        "\n",
        "### Interpretation\n",
        "- Promotional costs range from **Rp560K (TikTok Low)** to **Rp13M (Facebook High)**.  \n",
        "- The classifier ensures every ad spend is allocated only to viable campaigns.  \n",
        "- Savings identified in sensitivity analysis are already **realized into efficiency**.  \n",
        "\n",
        "**Conclusion:**  \n",
        "The model delivers both *accuracy* and *financial robustness*, protecting fundraisers from unnecessary costs across all CPC scenarios.\n",
        "\n"
      ]
    },
    {
      "cell_type": "markdown",
      "metadata": {
        "id": "c5TAT0u_How3"
      },
      "source": [
        "## Conclusion\n",
        "\n",
        "This analysis demonstrates that machine learning can bring measurable value to crowdfunding platforms. Both **Random Forest** and **XGBoost** emerged as effective predictors of campaign outcomes, with the most influential drivers being **forever running status, source platform, campaign target, campaign category, and campaign type**.  \n",
        "\n",
        "Importantly, the **cost analysis** showed that the model successfully avoided false positives (predicting success for campaigns that would fail), preventing wasted ad spend across multiple channels such as **TikTok, Facebook, and Google Ads**. For fundraisers, this translates into more efficient resource allocation, while for platforms it means reduced operational leakage and higher trust.  \n",
        "\n",
        "At the industry level, these findings suggest two immediate benefits:  \n",
        "- **Operational efficiency** – Platforms can save millions in potential marketing waste by screening campaigns with predictive models.  \n",
        "- **Strategic benchmarking** – Learning from corporate fundraisers, who consistently run more successful campaigns, can help elevate standards for smaller players.  \n",
        "\n",
        "The **social impact** is equally important: by enabling earlier detection of at-risk campaigns, platforms can intervene sooner, increasing the likelihood that critical causes — from medical aid to education — reach their funding goals.  \n",
        "\n",
        "This project is a **proof of concept**, built on one-shot final data. To evolve into a production system, several improvements are needed:  \n",
        "- **Feature set expansion**: Add time-series variables (daily fundraising, % funded, donor trends, campaign updates).  \n",
        "- **Target redefinition**: Predict outcomes within a horizon (e.g., 14 days ahead) instead of final state only.  \n",
        "- **Model re-engineering**: Support evolving data with online learning or periodic retraining.  \n",
        "\n",
        "Shifting from post-event analysis to real-time prediction will allow platforms to make timely interventions and improve overall campaign success rates.  \n",
        "\n",
        "With a dual background in **economics and data science**, I bring both quantitative and inclusive economic perspective. I focus on translating models into interpretable, cost-aware insights that deliver measurable value. My professional goal is to keep building projects at the intersection of **data, economics, and social impact** — where machine learning isn’t just about prediction, but about creating real outcomes for organizations and communities.  \n"
      ]
    }
  ],
  "metadata": {
    "colab": {
      "provenance": []
    },
    "kernelspec": {
      "display_name": "venv",
      "language": "python",
      "name": "python3"
    },
    "language_info": {
      "codemirror_mode": {
        "name": "ipython",
        "version": 3
      },
      "file_extension": ".py",
      "mimetype": "text/x-python",
      "name": "python",
      "nbconvert_exporter": "python",
      "pygments_lexer": "ipython3",
      "version": "3.11.13"
    }
  },
  "nbformat": 4,
  "nbformat_minor": 0
}
